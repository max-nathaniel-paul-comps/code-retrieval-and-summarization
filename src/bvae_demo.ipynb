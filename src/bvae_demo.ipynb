{
 "cells": [
  {
   "cell_type": "code",
   "execution_count": 1,
   "metadata": {},
   "outputs": [],
   "source": [
    "import tensorflow as tf\n",
    "import tensorflow_probability as tfp\n",
    "import gensim\n",
    "import random\n",
    "import matplotlib.pyplot as plt\n",
    "from typing import Union\n",
    "from mlp import *\n",
    "from text_data_utils import *\n",
    "from bvae import *"
   ]
  },
  {
   "cell_type": "code",
   "execution_count": 2,
   "metadata": {
    "pycharm": {
     "name": "#%%\n"
    }
   },
   "outputs": [],
   "source": [
    "train_summaries, train_codes = load_iyer_file(\"../data/iyer/train.txt\")\n",
    "train_summaries_tokens = tokenize_texts(train_summaries)\n",
    "max_summary_len = max(len(text) for text in train_summaries_tokens)\n",
    "train_codes_tokens = tokenize_texts(train_codes)\n",
    "max_code_len = max(len(text) for text in train_codes_tokens)\n",
    "summaries_wv = gensim.models.Word2Vec(train_summaries_tokens, size=110, min_count=2).wv\n",
    "codes_wv = gensim.models.Word2Vec(train_codes_tokens, size=125, min_count=2).wv\n",
    "train_summaries_tensor = tokenized_texts_to_tensor(train_summaries_tokens, summaries_wv, max_summary_len)\n",
    "train_codes_tensor = tokenized_texts_to_tensor(train_codes_tokens, codes_wv, max_code_len)\n",
    "train_summaries_tensor_fl = np.reshape(train_summaries_tensor,\n",
    "                                       (train_summaries_tensor.shape[0],\n",
    "                                        train_summaries_tensor.shape[1] * train_summaries_tensor.shape[2]))\n",
    "train_codes_tensor_fl = np.reshape(train_codes_tensor,\n",
    "                                   (train_codes_tensor.shape[0],\n",
    "                                    train_codes_tensor.shape[1] * train_codes_tensor.shape[2]))\n",
    "\n",
    "val_summaries, val_codes = load_iyer_file(\"../data/iyer/valid.txt\")\n",
    "val_summaries_tokens = tokenize_texts(val_summaries)\n",
    "val_codes_tokens = tokenize_texts(val_codes)\n",
    "val_summaries_tensor = tokenized_texts_to_tensor(val_summaries_tokens, summaries_wv, max_summary_len)\n",
    "val_codes_tensor = tokenized_texts_to_tensor(val_codes_tokens, codes_wv, max_code_len)\n",
    "val_summaries_tensor_fl = np.reshape(val_summaries_tensor,\n",
    "                                     (val_summaries_tensor.shape[0],\n",
    "                                      val_summaries_tensor.shape[1] * val_summaries_tensor.shape[2]))\n",
    "val_codes_tensor_fl = np.reshape(val_codes_tensor,\n",
    "                                 (val_codes_tensor.shape[0],\n",
    "                                  val_codes_tensor.shape[1] * val_codes_tensor.shape[2]))\n",
    "\n",
    "test_summaries, test_codes = load_iyer_file(\"../data/iyer/test.txt\")\n",
    "test_summaries_tokens = tokenize_texts(test_summaries)\n",
    "test_codes_tokens = tokenize_texts(test_codes)\n",
    "test_summaries_tensor = tokenized_texts_to_tensor(test_summaries_tokens, summaries_wv, max_summary_len)\n",
    "test_codes_tensor = tokenized_texts_to_tensor(test_codes_tokens, codes_wv, max_code_len)\n",
    "test_summaries_tensor_fl = np.reshape(test_summaries_tensor,\n",
    "                                      (test_summaries_tensor.shape[0],\n",
    "                                       test_summaries_tensor.shape[1] * test_summaries_tensor.shape[2]))\n",
    "test_codes_tensor_fl = np.reshape(test_codes_tensor,\n",
    "                                  (test_codes_tensor.shape[0],\n",
    "                                   test_codes_tensor.shape[1] * test_codes_tensor.shape[2]))\n",
    "\n",
    "latent_dim = 512"
   ]
  },
  {
   "cell_type": "code",
   "execution_count": 3,
   "metadata": {},
   "outputs": [
    {
     "name": "stdout",
     "output_type": "stream",
     "text": [
      "Epoch 1 of 35 completed, training loss = 77.84404754638672, validation loss = 52.45042419433594\n",
      "Epoch 2 of 35 completed, training loss = 43.399166107177734, validation loss = 37.74650573730469\n",
      "Epoch 3 of 35 completed, training loss = 37.22574234008789, validation loss = 35.740394592285156\n",
      "Epoch 4 of 35 completed, training loss = 31.8889217376709, validation loss = 30.034029006958008\n",
      "Epoch 5 of 35 completed, training loss = 26.851348876953125, validation loss = 25.520795822143555\n",
      "Epoch 6 of 35 completed, training loss = 26.0675048828125, validation loss = 26.096670150756836\n",
      "Epoch 7 of 35 completed, training loss = 23.098560333251953, validation loss = 22.63214111328125\n",
      "Epoch 8 of 35 completed, training loss = 19.619937896728516, validation loss = 18.929258346557617\n",
      "Epoch 9 of 35 completed, training loss = 16.88948631286621, validation loss = 16.407745361328125\n",
      "Epoch 10 of 35 completed, training loss = 14.844555854797363, validation loss = 15.380115509033203\n",
      "Epoch 11 of 35 completed, training loss = 13.497337341308594, validation loss = 13.713876724243164\n",
      "Epoch 12 of 35 completed, training loss = 12.38640308380127, validation loss = 12.76673698425293\n",
      "Epoch 13 of 35 completed, training loss = 11.648825645446777, validation loss = 12.069332122802734\n",
      "Epoch 14 of 35 completed, training loss = 11.037893295288086, validation loss = 11.562091827392578\n",
      "Epoch 15 of 35 completed, training loss = 10.497663497924805, validation loss = 10.991894721984863\n",
      "Epoch 16 of 35 completed, training loss = 25.968053817749023, validation loss = 15.480130195617676\n",
      "Epoch 17 of 35 completed, training loss = 14.642091751098633, validation loss = 15.123361587524414\n",
      "Epoch 18 of 35 completed, training loss = 13.183754920959473, validation loss = 12.924948692321777\n",
      "Epoch 19 of 35 completed, training loss = 11.851226806640625, validation loss = 12.40294075012207\n",
      "Epoch 20 of 35 completed, training loss = 10.784018516540527, validation loss = 10.973408699035645\n",
      "Epoch 21 of 35 completed, training loss = 10.156517028808594, validation loss = 10.474323272705078\n",
      "Epoch 22 of 35 completed, training loss = 9.552652359008789, validation loss = 10.075542449951172\n",
      "Epoch 23 of 35 completed, training loss = 9.107504844665527, validation loss = 9.639686584472656\n",
      "Epoch 24 of 35 completed, training loss = 8.693953514099121, validation loss = 9.191568374633789\n",
      "Epoch 25 of 35 completed, training loss = 8.344537734985352, validation loss = 8.898821830749512\n",
      "Epoch 26 of 35 completed, training loss = 8.049848556518555, validation loss = 8.527624130249023\n",
      "Epoch 27 of 35 completed, training loss = 7.728541851043701, validation loss = 8.19180679321289\n",
      "Epoch 28 of 35 completed, training loss = 7.533400535583496, validation loss = 8.027441024780273\n",
      "Epoch 29 of 35 completed, training loss = 7.337111473083496, validation loss = 7.859550476074219\n",
      "Epoch 30 of 35 completed, training loss = 7.233080863952637, validation loss = 7.813403129577637\n",
      "Epoch 31 of 35 completed, training loss = 7.073012351989746, validation loss = 7.441825866699219\n",
      "Epoch 32 of 35 completed, training loss = 6.751524925231934, validation loss = 7.3974833488464355\n",
      "Epoch 33 of 35 completed, training loss = 6.635674953460693, validation loss = 7.132657527923584\n",
      "Epoch 34 of 35 completed, training loss = 6.428717613220215, validation loss = 6.9230780601501465\n",
      "Epoch 35 of 35 completed, training loss = 6.209527015686035, validation loss = 6.804111957550049\n"
     ]
    }
   ],
   "source": [
    "model = BimodalVariationalAutoEncoder(train_summaries_tensor_fl.shape[1],\n",
    "                                      train_codes_tensor_fl.shape[1],\n",
    "                                      latent_dim)\n",
    "\n",
    "model.train(train_summaries_tensor_fl, train_codes_tensor_fl, val_summaries_tensor_fl, val_codes_tensor_fl, 35, 128,\n",
    "            tf.keras.optimizers.Adam(learning_rate=0.0001))"
   ]
  },
  {
   "cell_type": "markdown",
   "metadata": {},
   "source": [
    "### Example from train set"
   ]
  },
  {
   "cell_type": "code",
   "execution_count": 4,
   "metadata": {},
   "outputs": [],
   "source": [
    "random.seed()\n",
    "random_idx = random.randrange(train_summaries_tensor.shape[0])\n",
    "random_train_summary = np.array([train_summaries_tensor[random_idx]])\n",
    "random_train_code = np.array([train_codes_tensor[random_idx]])"
   ]
  },
  {
   "cell_type": "code",
   "execution_count": 5,
   "metadata": {},
   "outputs": [
    {
     "data": {
      "text/plain": [
       "['<s>', 'How', 'to', 'put', 'Unicode', 'in', 'browser', 'title', '</s>']"
      ]
     },
     "execution_count": 5,
     "metadata": {},
     "output_type": "execute_result"
    }
   ],
   "source": [
    "tensor_to_tokenized_texts(random_train_summary, summaries_wv)[0]"
   ]
  },
  {
   "cell_type": "code",
   "execution_count": 6,
   "metadata": {},
   "outputs": [
    {
     "data": {
      "text/plain": [
       "['<s>',\n",
       " 'Page',\n",
       " '.',\n",
       " 'Title',\n",
       " '=',\n",
       " '\"',\n",
       " '/',\n",
       " '/',\n",
       " '<UNK>',\n",
       " '/',\n",
       " '/',\n",
       " '\"',\n",
       " '</s>']"
      ]
     },
     "execution_count": 6,
     "metadata": {},
     "output_type": "execute_result"
    }
   ],
   "source": [
    "tensor_to_tokenized_texts(random_train_code, codes_wv)[0]"
   ]
  },
  {
   "cell_type": "code",
   "execution_count": 13,
   "metadata": {},
   "outputs": [
    {
     "data": {
      "text/plain": [
       "['a', 'value', 'using', '<UNK>', 'Removing', 'in', 'inside', 'Check', '</s>']"
      ]
     },
     "execution_count": 13,
     "metadata": {},
     "output_type": "execute_result"
    }
   ],
   "source": [
    "tensor_to_tokenized_texts(np.reshape(model.language_decoder(model.language_encoder(np.reshape(random_train_summary, (1, random_train_summary.shape[1] * random_train_summary.shape[2]))).sample()), (1, train_summaries_tensor.shape[1], train_summaries_tensor.shape[2])), summaries_wv)[0]"
   ]
  },
  {
   "cell_type": "code",
   "execution_count": 16,
   "metadata": {},
   "outputs": [
    {
     "data": {
      "text/plain": [
       "['only',\n",
       " 'debug',\n",
       " 'integer',\n",
       " 'stream',\n",
       " 'Mouse',\n",
       " 'Multiple',\n",
       " 'BackgroundWorker',\n",
       " 'struct',\n",
       " 'Request',\n",
       " 'Unable',\n",
       " 'enum',\n",
       " '<UNK>',\n",
       " 'ZIndex',\n",
       " '<UNK>',\n",
       " '<UNK>',\n",
       " '<UNK>',\n",
       " '<UNK>']"
      ]
     },
     "execution_count": 16,
     "metadata": {},
     "output_type": "execute_result"
    }
   ],
   "source": [
    "tensor_to_tokenized_texts(np.reshape(model.language_decoder(model.source_code_encoder(np.reshape(random_train_code, (1, random_train_code.shape[1] * random_train_code.shape[2]))).sample()), (1, train_summaries_tensor.shape[1], train_summaries_tensor.shape[2])), summaries_wv)[0]"
   ]
  },
  {
   "cell_type": "code",
   "execution_count": null,
   "metadata": {},
   "outputs": [],
   "source": []
  }
 ],
 "metadata": {
  "kernelspec": {
   "display_name": "Python 3",
   "language": "python",
   "name": "python3"
  },
  "language_info": {
   "codemirror_mode": {
    "name": "ipython",
    "version": 3
   },
   "file_extension": ".py",
   "mimetype": "text/x-python",
   "name": "python",
   "nbconvert_exporter": "python",
   "pygments_lexer": "ipython3",
   "version": "3.7.6"
  },
  "pycharm": {
   "stem_cell": {
    "cell_type": "raw",
    "metadata": {
     "collapsed": false
    },
    "source": []
   }
  }
 },
 "nbformat": 4,
 "nbformat_minor": 1
}
