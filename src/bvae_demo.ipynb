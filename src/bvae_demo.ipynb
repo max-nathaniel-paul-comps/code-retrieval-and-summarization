{
  "nbformat": 4,
  "nbformat_minor": 0,
  "metadata": {
    "kernelspec": {
      "name": "python3",
      "display_name": "Python 3"
    },
    "language_info": {
      "codemirror_mode": {
        "name": "ipython",
        "version": 3
      },
      "file_extension": ".py",
      "mimetype": "text/x-python",
      "name": "python",
      "nbconvert_exporter": "python",
      "pygments_lexer": "ipython3",
      "version": "3.7.6"
    },
    "pycharm": {
      "stem_cell": {
        "cell_type": "raw",
        "metadata": {
          "collapsed": false
        },
        "source": []
      }
    },
    "colab": {
      "name": "bvae_demo.ipynb",
      "provenance": [],
      "collapsed_sections": [],
      "toc_visible": true,
      "machine_shape": "hm"
    },
    "accelerator": "TPU"
  },
  "cells": [
    {
      "cell_type": "code",
      "metadata": {
        "id": "f2e91yxR3vIX",
        "colab_type": "code",
        "outputId": "0724c95d-9216-4ebe-af2d-311eb74889a0",
        "colab": {
          "base_uri": "https://localhost:8080/",
          "height": 35
        }
      },
      "source": [
        "%tensorflow_version 2.x\n",
        "import tensorflow as tf\n",
        "import tensorflow_probability as tfp\n",
        "import gensim\n",
        "import random\n",
        "import matplotlib.pyplot as plt\n",
        "from typing import Union\n",
        "from mlp import *\n",
        "from text_data_utils import *\n",
        "from bvae import *"
      ],
      "execution_count": 1,
      "outputs": [
        {
          "output_type": "stream",
          "text": [
            "TensorFlow 2.x selected.\n"
          ],
          "name": "stdout"
        }
      ]
    },
    {
      "cell_type": "code",
      "metadata": {
        "pycharm": {
          "name": "#%%\n"
        },
        "id": "n7bMJ-pn3vIh",
        "colab_type": "code",
        "colab": {}
      },
      "source": [
        "max_len = 120\n",
        "train_summaries, train_codes = load_iyer_file(\"train.txt\", max_len=max_len)\n",
        "summaries_wv = gensim.models.Word2Vec(train_summaries, size=100, min_count=5).wv\n",
        "codes_wv = gensim.models.Word2Vec(train_codes, size=100, min_count=5).wv\n",
        "train_summaries_tensor = tokenized_texts_to_tensor(train_summaries, summaries_wv, max_len)\n",
        "train_codes_tensor = tokenized_texts_to_tensor(train_codes, codes_wv, max_len)\n",
        "train_summaries_tensor_fl = np.reshape(train_summaries_tensor,\n",
        "                                        (train_summaries_tensor.shape[0],\n",
        "                                        train_summaries_tensor.shape[1] * train_summaries_tensor.shape[2]))\n",
        "train_codes_tensor_fl = np.reshape(train_codes_tensor,\n",
        "                                    (train_codes_tensor.shape[0],\n",
        "                                    train_codes_tensor.shape[1] * train_codes_tensor.shape[2]))\n",
        "\n",
        "val_summaries, val_codes = load_iyer_file(\"valid.txt\", max_len=max_len)\n",
        "val_summaries_tensor = tokenized_texts_to_tensor(val_summaries, summaries_wv, max_len)\n",
        "val_codes_tensor = tokenized_texts_to_tensor(val_codes, codes_wv, max_len)\n",
        "val_summaries_tensor_fl = np.reshape(val_summaries_tensor,\n",
        "                                      (val_summaries_tensor.shape[0],\n",
        "                                      val_summaries_tensor.shape[1] * val_summaries_tensor.shape[2]))\n",
        "val_codes_tensor_fl = np.reshape(val_codes_tensor,\n",
        "                                  (val_codes_tensor.shape[0],\n",
        "                                  val_codes_tensor.shape[1] * val_codes_tensor.shape[2]))\n",
        "\n",
        "test_summaries, test_codes = load_iyer_file(\"test.txt\", max_len=max_len)\n",
        "test_summaries_tensor = tokenized_texts_to_tensor(test_summaries, summaries_wv, max_len)\n",
        "test_codes_tensor = tokenized_texts_to_tensor(test_codes, codes_wv, max_len)\n",
        "test_summaries_tensor_fl = np.reshape(test_summaries_tensor,\n",
        "                                      (test_summaries_tensor.shape[0],\n",
        "                                        test_summaries_tensor.shape[1] * test_summaries_tensor.shape[2]))\n",
        "test_codes_tensor_fl = np.reshape(test_codes_tensor,\n",
        "                                  (test_codes_tensor.shape[0],\n",
        "                                    test_codes_tensor.shape[1] * test_codes_tensor.shape[2]))\n",
        "\n",
        "latent_dim = 512"
      ],
      "execution_count": 0,
      "outputs": []
    },
    {
      "cell_type": "code",
      "metadata": {
        "id": "yKqWXB6U3vIo",
        "colab_type": "code",
        "outputId": "94eafb91-06b9-4f5d-8c0b-04b98062e17b",
        "colab": {
          "base_uri": "https://localhost:8080/",
          "height": 633
        }
      },
      "source": [
        "model = BimodalVariationalAutoEncoder(train_summaries_tensor_fl.shape[1],\n",
        "                                      train_codes_tensor_fl.shape[1],\n",
        "                                      latent_dim)\n",
        "\n",
        "model.train(train_summaries_tensor_fl, train_codes_tensor_fl, val_summaries_tensor_fl, val_codes_tensor_fl, 35, 128,\n",
        "            tf.keras.optimizers.Adam(learning_rate=0.0001))"
      ],
      "execution_count": 8,
      "outputs": [
        {
          "output_type": "stream",
          "text": [
            "Epoch 1 of 35 completed, training loss = 1.5704983472824097, validation loss = 0.7900749444961548\n",
            "Epoch 2 of 35 completed, training loss = 0.7295081615447998, validation loss = 0.6647806763648987\n",
            "Epoch 3 of 35 completed, training loss = 0.6380577087402344, validation loss = 0.5988606810569763\n",
            "Epoch 4 of 35 completed, training loss = 0.588570237159729, validation loss = 0.5638865232467651\n",
            "Epoch 5 of 35 completed, training loss = 0.5585728883743286, validation loss = 0.5348657965660095\n",
            "Epoch 6 of 35 completed, training loss = 0.5315206050872803, validation loss = 0.512114405632019\n",
            "Epoch 7 of 35 completed, training loss = 0.5106552839279175, validation loss = 0.49523302912712097\n",
            "Epoch 8 of 35 completed, training loss = 0.4961041808128357, validation loss = 0.48308151960372925\n",
            "Epoch 9 of 35 completed, training loss = 0.4835800230503082, validation loss = 0.4695216417312622\n",
            "Epoch 10 of 35 completed, training loss = 0.4681086540222168, validation loss = 0.4544864296913147\n",
            "Epoch 11 of 35 completed, training loss = 0.45554447174072266, validation loss = 0.4437658190727234\n",
            "Epoch 12 of 35 completed, training loss = 0.445252925157547, validation loss = 0.4321492612361908\n",
            "Epoch 13 of 35 completed, training loss = 0.4356083869934082, validation loss = 0.42423951625823975\n",
            "Epoch 14 of 35 completed, training loss = 0.42705175280570984, validation loss = 0.41714680194854736\n",
            "Epoch 15 of 35 completed, training loss = 0.42030319571495056, validation loss = 0.41125357151031494\n",
            "Epoch 16 of 35 completed, training loss = 0.41426461935043335, validation loss = 0.4043063819408417\n",
            "Epoch 17 of 35 completed, training loss = 0.4071137309074402, validation loss = 0.3981105387210846\n",
            "Epoch 18 of 35 completed, training loss = 0.40200275182724, validation loss = 0.3932839035987854\n",
            "Epoch 19 of 35 completed, training loss = 0.39568576216697693, validation loss = 0.38593024015426636\n",
            "Epoch 20 of 35 completed, training loss = 0.3893800675868988, validation loss = 0.3797517418861389\n",
            "Epoch 21 of 35 completed, training loss = 0.3834018111228943, validation loss = 0.375196635723114\n",
            "Epoch 22 of 35 completed, training loss = 0.3780955672264099, validation loss = 0.36982470750808716\n",
            "Epoch 23 of 35 completed, training loss = 0.3723388612270355, validation loss = 0.36431556940078735\n",
            "Epoch 24 of 35 completed, training loss = 0.3672758638858795, validation loss = 0.3596099615097046\n",
            "Epoch 25 of 35 completed, training loss = 0.3630095422267914, validation loss = 0.35556352138519287\n",
            "Epoch 26 of 35 completed, training loss = 0.35945162177085876, validation loss = 0.35362473130226135\n",
            "Epoch 27 of 35 completed, training loss = 0.35737934708595276, validation loss = 0.34994184970855713\n",
            "Epoch 28 of 35 completed, training loss = 0.35362568497657776, validation loss = 0.34642183780670166\n",
            "Epoch 29 of 35 completed, training loss = 0.3495139181613922, validation loss = 0.342896431684494\n",
            "Epoch 30 of 35 completed, training loss = 0.34599992632865906, validation loss = 0.3395181894302368\n",
            "Epoch 31 of 35 completed, training loss = 0.34395983815193176, validation loss = 0.33792275190353394\n",
            "Epoch 32 of 35 completed, training loss = 0.3406120538711548, validation loss = 0.3341967463493347\n",
            "Epoch 33 of 35 completed, training loss = 0.3378460705280304, validation loss = 0.3319147825241089\n",
            "Epoch 34 of 35 completed, training loss = 0.33540257811546326, validation loss = 0.33085429668426514\n",
            "Epoch 35 of 35 completed, training loss = 0.33448389172554016, validation loss = 0.32958167791366577\n"
          ],
          "name": "stdout"
        }
      ]
    },
    {
      "cell_type": "markdown",
      "metadata": {
        "id": "xRn9vrFz3vIu",
        "colab_type": "text"
      },
      "source": [
        "### Example from train set"
      ]
    },
    {
      "cell_type": "code",
      "metadata": {
        "id": "5tRx1veR3vIw",
        "colab_type": "code",
        "colab": {}
      },
      "source": [
        "random.seed()\n",
        "random_idx = random.randrange(train_summaries_tensor.shape[0])\n",
        "random_train_summary = np.array([train_summaries_tensor[random_idx]])\n",
        "random_train_code = np.array([train_codes_tensor[random_idx]])"
      ],
      "execution_count": 0,
      "outputs": []
    },
    {
      "cell_type": "code",
      "metadata": {
        "id": "ZB6JDqjJ3vI2",
        "colab_type": "code",
        "outputId": "98673e6a-751a-4376-e7df-1df851469ecd",
        "colab": {
          "base_uri": "https://localhost:8080/",
          "height": 90
        }
      },
      "source": [
        "tensor_to_tokenized_texts(random_train_summary, summaries_wv)[0]"
      ],
      "execution_count": 10,
      "outputs": [
        {
          "output_type": "stream",
          "text": [
            "/usr/local/lib/python3.6/dist-packages/gensim/matutils.py:737: FutureWarning: Conversion of the second argument of issubdtype from `int` to `np.signedinteger` is deprecated. In future, it will be treated as `np.int64 == np.dtype(int).type`.\n",
            "  if np.issubdtype(vec.dtype, np.int):\n"
          ],
          "name": "stderr"
        },
        {
          "output_type": "execute_result",
          "data": {
            "text/plain": [
              "['<s>', 'linq', 'to', 'xml', 'extract', 'nested', 'elements', '</s>']"
            ]
          },
          "metadata": {
            "tags": []
          },
          "execution_count": 10
        }
      ]
    },
    {
      "cell_type": "code",
      "metadata": {
        "id": "fxQmK0tQ3vI-",
        "colab_type": "code",
        "outputId": "3df1dbca-6883-4f9d-fadb-f35787094fe1",
        "colab": {
          "base_uri": "https://localhost:8080/",
          "height": 1000
        }
      },
      "source": [
        "tensor_to_tokenized_texts(random_train_code, codes_wv)[0]"
      ],
      "execution_count": 11,
      "outputs": [
        {
          "output_type": "stream",
          "text": [
            "/usr/local/lib/python3.6/dist-packages/gensim/matutils.py:737: FutureWarning: Conversion of the second argument of issubdtype from `int` to `np.signedinteger` is deprecated. In future, it will be treated as `np.int64 == np.dtype(int).type`.\n",
            "  if np.issubdtype(vec.dtype, np.int):\n"
          ],
          "name": "stderr"
        },
        {
          "output_type": "execute_result",
          "data": {
            "text/plain": [
              "['<s>',\n",
              " 'var',\n",
              " 'result',\n",
              " '=',\n",
              " 'from',\n",
              " 'p',\n",
              " 'in',\n",
              " 'xmlDoc',\n",
              " '.',\n",
              " 'Descendants',\n",
              " '(',\n",
              " '\"',\n",
              " 'person',\n",
              " '\"',\n",
              " ')',\n",
              " '\\\\',\n",
              " 'n',\n",
              " 'from',\n",
              " 'a',\n",
              " 'in',\n",
              " 'p',\n",
              " '.',\n",
              " 'Descendants',\n",
              " '(',\n",
              " '\"',\n",
              " 'address',\n",
              " '\"',\n",
              " ')',\n",
              " '\\\\',\n",
              " 'n',\n",
              " 'where',\n",
              " 'p',\n",
              " '.',\n",
              " 'Element',\n",
              " '(',\n",
              " '\"',\n",
              " '<UNK>',\n",
              " '\"',\n",
              " ')',\n",
              " '.',\n",
              " 'Value',\n",
              " '=',\n",
              " '=',\n",
              " '\"',\n",
              " '2',\n",
              " '\"',\n",
              " '\\\\',\n",
              " 'n',\n",
              " 'select',\n",
              " 'new',\n",
              " '\\\\',\n",
              " 'n',\n",
              " '{',\n",
              " '\\\\',\n",
              " 'n',\n",
              " 'City',\n",
              " '=',\n",
              " 'a',\n",
              " '.',\n",
              " 'Element',\n",
              " '(',\n",
              " '\"',\n",
              " 'city',\n",
              " '\"',\n",
              " ')',\n",
              " '.',\n",
              " 'Value',\n",
              " ',',\n",
              " '\\\\',\n",
              " 'n',\n",
              " 'Location',\n",
              " '=',\n",
              " 'a',\n",
              " '.',\n",
              " 'Element',\n",
              " '(',\n",
              " '\"',\n",
              " 'location',\n",
              " '\"',\n",
              " ')',\n",
              " '.',\n",
              " 'Value',\n",
              " '\\\\',\n",
              " 'n',\n",
              " '}',\n",
              " ';',\n",
              " '</s>']"
            ]
          },
          "metadata": {
            "tags": []
          },
          "execution_count": 11
        }
      ]
    },
    {
      "cell_type": "code",
      "metadata": {
        "id": "j5iGlzh33vJM",
        "colab_type": "code",
        "outputId": "240ff8cf-c3ed-486c-dd5f-7def4c963ebc",
        "colab": {
          "base_uri": "https://localhost:8080/",
          "height": 90
        }
      },
      "source": [
        "tensor_to_tokenized_texts(np.reshape(model.language_decoder(model.language_encoder(np.reshape(random_train_summary, (1, random_train_summary.shape[1] * random_train_summary.shape[2]))).mean()), (1, train_summaries_tensor.shape[1], train_summaries_tensor.shape[2])), summaries_wv)[0]"
      ],
      "execution_count": 24,
      "outputs": [
        {
          "output_type": "stream",
          "text": [
            "/usr/local/lib/python3.6/dist-packages/gensim/matutils.py:737: FutureWarning: Conversion of the second argument of issubdtype from `int` to `np.signedinteger` is deprecated. In future, it will be treated as `np.int64 == np.dtype(int).type`.\n",
            "  if np.issubdtype(vec.dtype, np.int):\n"
          ],
          "name": "stderr"
        },
        {
          "output_type": "execute_result",
          "data": {
            "text/plain": [
              "['<s>', 'concatenate', 'grouped', 'seperated', 'seperated', '</s>']"
            ]
          },
          "metadata": {
            "tags": []
          },
          "execution_count": 24
        }
      ]
    },
    {
      "cell_type": "code",
      "metadata": {
        "id": "Wrd7JWHW3vJP",
        "colab_type": "code",
        "outputId": "158a514c-369c-4dfe-f77d-253f796f065b",
        "colab": {
          "base_uri": "https://localhost:8080/",
          "height": 90
        }
      },
      "source": [
        "tensor_to_tokenized_texts(np.reshape(model.language_decoder(model.source_code_encoder(np.reshape(random_train_code, (1, random_train_code.shape[1] * random_train_code.shape[2]))).mean()), (1, train_summaries_tensor.shape[1], train_summaries_tensor.shape[2])), summaries_wv)[0]"
      ],
      "execution_count": 25,
      "outputs": [
        {
          "output_type": "stream",
          "text": [
            "/usr/local/lib/python3.6/dist-packages/gensim/matutils.py:737: FutureWarning: Conversion of the second argument of issubdtype from `int` to `np.signedinteger` is deprecated. In future, it will be treated as `np.int64 == np.dtype(int).type`.\n",
            "  if np.issubdtype(vec.dtype, np.int):\n"
          ],
          "name": "stderr"
        },
        {
          "output_type": "execute_result",
          "data": {
            "text/plain": [
              "['<s>', 'groupby', 'groupby', 'seperated', 'procedures', '</s>']"
            ]
          },
          "metadata": {
            "tags": []
          },
          "execution_count": 25
        }
      ]
    },
    {
      "cell_type": "code",
      "metadata": {
        "id": "J1O1JCQPIiwW",
        "colab_type": "code",
        "colab": {
          "base_uri": "https://localhost:8080/",
          "height": 1000
        },
        "outputId": "2737aa85-cb41-4f49-fad0-ebad22c53aa9"
      },
      "source": [
        "tensor_to_tokenized_texts(np.reshape(model.source_code_decoder(model.source_code_encoder(np.reshape(random_train_code, (1, random_train_code.shape[1] * random_train_code.shape[2]))).mean()), (1, train_codes_tensor.shape[1], train_codes_tensor.shape[2])), codes_wv)[0]"
      ],
      "execution_count": 26,
      "outputs": [
        {
          "output_type": "stream",
          "text": [
            "/usr/local/lib/python3.6/dist-packages/gensim/matutils.py:737: FutureWarning: Conversion of the second argument of issubdtype from `int` to `np.signedinteger` is deprecated. In future, it will be treated as `np.int64 == np.dtype(int).type`.\n",
            "  if np.issubdtype(vec.dtype, np.int):\n"
          ],
          "name": "stderr"
        },
        {
          "output_type": "execute_result",
          "data": {
            "text/plain": [
              "['<s>',\n",
              " 'var',\n",
              " 'query',\n",
              " '=',\n",
              " 'from',\n",
              " 'tag',\n",
              " 'in',\n",
              " 'ctx',\n",
              " '.',\n",
              " '<UNK>',\n",
              " 'join',\n",
              " '<UNK>',\n",
              " 'in',\n",
              " '<UNK>',\n",
              " 'in',\n",
              " 'db',\n",
              " 'equals',\n",
              " 'equals',\n",
              " 'equals',\n",
              " 'equals',\n",
              " 'equals',\n",
              " 'ID',\n",
              " 'equals',\n",
              " 'Id',\n",
              " 'equals',\n",
              " 'ID',\n",
              " 'q',\n",
              " 'Id',\n",
              " '.',\n",
              " 'ID',\n",
              " 'select',\n",
              " 'ID',\n",
              " 'Id',\n",
              " 'FirstName',\n",
              " 'Id',\n",
              " 'Id',\n",
              " '=',\n",
              " 'grp',\n",
              " 'equals',\n",
              " 'dc',\n",
              " 'select',\n",
              " 'select',\n",
              " 'grp',\n",
              " 'u',\n",
              " '<UNK>',\n",
              " 'Element',\n",
              " '<UNK>',\n",
              " '\\\\',\n",
              " '<UNK>',\n",
              " '<UNK>',\n",
              " 'Index',\n",
              " '<UNK>',\n",
              " 'Id',\n",
              " 'LastName',\n",
              " '<UNK>',\n",
              " '<UNK>',\n",
              " '<UNK>',\n",
              " 'Element',\n",
              " '<UNK>',\n",
              " 'State',\n",
              " '<UNK>',\n",
              " 'name',\n",
              " '<UNK>',\n",
              " '<UNK>',\n",
              " '<UNK>',\n",
              " 'xyz',\n",
              " '<UNK>',\n",
              " '<UNK>',\n",
              " '<UNK>',\n",
              " '<UNK>',\n",
              " '<UNK>',\n",
              " 'new',\n",
              " 'Index',\n",
              " ']',\n",
              " '<UNK>',\n",
              " '<UNK>',\n",
              " '<UNK>',\n",
              " 'IServiceProvider',\n",
              " '<UNK>',\n",
              " '<UNK>',\n",
              " '<UNK>',\n",
              " '<UNK>',\n",
              " 'PropertyGrid',\n",
              " '(',\n",
              " 'private',\n",
              " '<UNK>',\n",
              " '<UNK>',\n",
              " '<UNK>',\n",
              " '<UNK>',\n",
              " '<UNK>',\n",
              " '<UNK>',\n",
              " '<UNK>',\n",
              " 'IServiceProvider',\n",
              " '<UNK>',\n",
              " '<UNK>',\n",
              " '<UNK>',\n",
              " 'class',\n",
              " 'thru',\n",
              " 'new',\n",
              " 'PropertyGrid',\n",
              " '<UNK>',\n",
              " 'build',\n",
              " 'PropertyGrid',\n",
              " '<UNK>',\n",
              " '<UNK>',\n",
              " '<UNK>',\n",
              " '<UNK>',\n",
              " '<UNK>',\n",
              " '<UNK>',\n",
              " '<UNK>',\n",
              " '<UNK>',\n",
              " '<UNK>',\n",
              " '<UNK>',\n",
              " '<UNK>',\n",
              " '<UNK>',\n",
              " '<UNK>',\n",
              " '<UNK>',\n",
              " '<UNK>',\n",
              " '<UNK>',\n",
              " '<UNK>']"
            ]
          },
          "metadata": {
            "tags": []
          },
          "execution_count": 26
        }
      ]
    },
    {
      "cell_type": "code",
      "metadata": {
        "id": "YkwC3hq_3vJT",
        "colab_type": "code",
        "colab": {
          "base_uri": "https://localhost:8080/",
          "height": 90
        },
        "outputId": "6a05cf3e-b1ca-4436-e35b-f8a028efb71c"
      },
      "source": [
        "tensor_to_tokenized_texts(np.reshape(model.source_code_decoder(model.language_encoder(np.reshape(random_train_summary, (1, random_train_summary.shape[1] * random_train_summary.shape[2]))).mean()), (1, train_codes_tensor.shape[1], train_codes_tensor.shape[2])), codes_wv)[0]"
      ],
      "execution_count": 29,
      "outputs": [
        {
          "output_type": "stream",
          "text": [
            "/usr/local/lib/python3.6/dist-packages/gensim/matutils.py:737: FutureWarning: Conversion of the second argument of issubdtype from `int` to `np.signedinteger` is deprecated. In future, it will be treated as `np.int64 == np.dtype(int).type`.\n",
            "  if np.issubdtype(vec.dtype, np.int):\n"
          ],
          "name": "stderr"
        },
        {
          "output_type": "execute_result",
          "data": {
            "text/plain": [
              "['<s>', 'var', 'q', '=', '</s>']"
            ]
          },
          "metadata": {
            "tags": []
          },
          "execution_count": 29
        }
      ]
    },
    {
      "cell_type": "code",
      "metadata": {
        "id": "Q6U9Jz2DIY1G",
        "colab_type": "code",
        "colab": {
          "base_uri": "https://localhost:8080/",
          "height": 248
        },
        "outputId": "354d08ae-d890-405b-901e-257f9f0e2432"
      },
      "source": [
        "codes_wv.similar_by_vector(np.reshape(model.source_code_decoder(model.language_encoder(np.reshape(random_train_summary, (1, random_train_summary.shape[1] * random_train_summary.shape[2]))).mean()), (1, train_codes_tensor.shape[1], train_codes_tensor.shape[2]))[0,4])"
      ],
      "execution_count": 33,
      "outputs": [
        {
          "output_type": "stream",
          "text": [
            "/usr/local/lib/python3.6/dist-packages/gensim/matutils.py:737: FutureWarning: Conversion of the second argument of issubdtype from `int` to `np.signedinteger` is deprecated. In future, it will be treated as `np.int64 == np.dtype(int).type`.\n",
            "  if np.issubdtype(vec.dtype, np.int):\n"
          ],
          "name": "stderr"
        },
        {
          "output_type": "execute_result",
          "data": {
            "text/plain": [
              "[('</s>', 0.9070366621017456),\n",
              " ('clip', 0.5404481887817383),\n",
              " ('someValue', 0.5296422243118286),\n",
              " ('FontSize', 0.5096644759178162),\n",
              " ('stock', 0.5088307857513428),\n",
              " ('RaisePropertyChanged', 0.5086286664009094),\n",
              " ('Utility', 0.49486249685287476),\n",
              " ('NotifyPropertyChanged', 0.4900093972682953),\n",
              " ('CD', 0.48767897486686707),\n",
              " ('nreturn', 0.4856686592102051)]"
            ]
          },
          "metadata": {
            "tags": []
          },
          "execution_count": 33
        }
      ]
    },
    {
      "cell_type": "code",
      "metadata": {
        "id": "bacFzZIrI-ol",
        "colab_type": "code",
        "colab": {}
      },
      "source": [
        ""
      ],
      "execution_count": 0,
      "outputs": []
    }
  ]
}