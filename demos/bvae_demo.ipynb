{
  "nbformat": 4,
  "nbformat_minor": 0,
  "metadata": {
    "kernelspec": {
      "name": "python3",
      "display_name": "Python 3"
    },
    "language_info": {
      "codemirror_mode": {
        "name": "ipython",
        "version": 3
      },
      "file_extension": ".py",
      "mimetype": "text/x-python",
      "name": "python",
      "nbconvert_exporter": "python",
      "pygments_lexer": "ipython3",
      "version": "3.7.6"
    },
    "pycharm": {
      "stem_cell": {
        "cell_type": "raw",
        "metadata": {
          "collapsed": false
        },
        "source": []
      }
    },
    "colab": {
      "name": "bvae_demo.ipynb",
      "provenance": [],
      "collapsed_sections": [],
      "toc_visible": true,
      "machine_shape": "hm"
    },
    "accelerator": "GPU"
  },
  "cells": [
    {
      "cell_type": "code",
      "metadata": {
        "id": "f2e91yxR3vIX",
        "colab_type": "code",
        "outputId": "9bdbf612-f6f4-4175-f97f-1c727712a1c2",
        "colab": {
          "base_uri": "https://localhost:8080/",
          "height": 35
        }
      },
      "source": [
        "%tensorflow_version 2.x\n",
        "import tensorflow as tf\n",
        "import tensorflow_probability as tfp\n",
        "import gensim\n",
        "import random\n",
        "import matplotlib.pyplot as plt\n",
        "from bvae import *\n",
        "from text_data_utils import *"
      ],
      "execution_count": 1,
      "outputs": [
        {
          "output_type": "stream",
          "text": [
            "TensorFlow 2.x selected.\n"
          ],
          "name": "stdout"
        }
      ]
    },
    {
      "cell_type": "code",
      "metadata": {
        "pycharm": {
          "name": "#%%\n"
        },
        "id": "n7bMJ-pn3vIh",
        "colab_type": "code",
        "colab": {
          "base_uri": "https://localhost:8080/",
          "height": 72
        },
        "outputId": "882de2fc-dbb6-4548-9813-d0aeb1216b99"
      },
      "source": [
        "language_wv = gensim.models.KeyedVectors.load_word2vec_format(\"w2v_format_summaries_vectors.txt\")\n",
        "code_wv = gensim.models.KeyedVectors.load_word2vec_format(\"w2v_format_codes_vectors.txt\")\n",
        "assert language_wv.vector_size == code_wv.vector_size\n",
        "wv_size = language_wv.vector_size\n",
        "\n",
        "max_len = 200\n",
        "train_summaries, train_codes = load_iyer_file(\"train.txt\", max_len=max_len)\n",
        "val_summaries, val_codes = load_iyer_file(\"valid.txt\", max_len=max_len)\n",
        "test_summaries, test_codes = load_iyer_file(\"test.txt\", max_len=max_len)\n",
        "\n",
        "train_summaries = tokenized_texts_to_tensor(train_summaries, language_wv, max_len)\n",
        "val_summaries = tokenized_texts_to_tensor(val_summaries, language_wv, max_len)\n",
        "test_summaries = tokenized_texts_to_tensor(test_summaries, language_wv, max_len)\n",
        "\n",
        "train_codes = tokenized_texts_to_tensor(train_codes, code_wv, max_len)\n",
        "val_codes = tokenized_texts_to_tensor(val_codes, code_wv, max_len)\n",
        "test_codes = tokenized_texts_to_tensor(test_codes, code_wv, max_len)"
      ],
      "execution_count": 2,
      "outputs": [
        {
          "output_type": "stream",
          "text": [
            "/usr/local/lib/python3.6/dist-packages/smart_open/smart_open_lib.py:402: UserWarning: This function is deprecated, use smart_open.open instead. See the migration notes for details: https://github.com/RaRe-Technologies/smart_open/blob/master/README.rst#migrating-to-the-new-open-function\n",
            "  'See the migration notes for details: %s' % _MIGRATION_NOTES_URL\n"
          ],
          "name": "stderr"
        }
      ]
    },
    {
      "cell_type": "code",
      "metadata": {
        "id": "yKqWXB6U3vIo",
        "colab_type": "code",
        "outputId": "00700352-248e-42ed-bd57-1c92e812beff",
        "colab": {
          "base_uri": "https://localhost:8080/",
          "height": 1000
        }
      },
      "source": [
        "latent_dim = 256\n",
        "model = BimodalVariationalAutoEncoder(train_summaries.shape[1], train_codes.shape[1], latent_dim, wv_size)\n",
        "model.compile(optimizer=tf.keras.optimizers.Adam(learning_rate=0.0002))\n",
        "\n",
        "history = model.fit((train_summaries, train_codes), None, batch_size=128, epochs=65,\n",
        "                    validation_data=((val_summaries, val_codes), None))"
      ],
      "execution_count": 4,
      "outputs": [
        {
          "output_type": "stream",
          "text": [
            "WARNING:tensorflow:Output output_1 missing from loss dictionary. We assume this was done on purpose. The fit and evaluate APIs will not be expecting any data to be passed to output_1.\n",
            "WARNING:tensorflow:Output output_2 missing from loss dictionary. We assume this was done on purpose. The fit and evaluate APIs will not be expecting any data to be passed to output_2.\n",
            "Train on 51750 samples, validate on 6475 samples\n",
            "Epoch 1/65\n",
            "51750/51750 [==============================] - 23s 446us/sample - loss: 1.3339 - val_loss: 1.0223\n",
            "Epoch 2/65\n",
            "51750/51750 [==============================] - 22s 419us/sample - loss: 1.0005 - val_loss: 0.9477\n",
            "Epoch 3/65\n",
            "51750/51750 [==============================] - 22s 419us/sample - loss: 0.9466 - val_loss: 0.9113\n",
            "Epoch 4/65\n",
            "51750/51750 [==============================] - 22s 418us/sample - loss: 0.9146 - val_loss: 0.8834\n",
            "Epoch 5/65\n",
            "51750/51750 [==============================] - 22s 418us/sample - loss: 0.8860 - val_loss: 0.8584\n",
            "Epoch 6/65\n",
            "51750/51750 [==============================] - 22s 419us/sample - loss: 0.8616 - val_loss: 0.8348\n",
            "Epoch 7/65\n",
            "51750/51750 [==============================] - 22s 419us/sample - loss: 0.8401 - val_loss: 0.8160\n",
            "Epoch 8/65\n",
            "51750/51750 [==============================] - 22s 420us/sample - loss: 0.8251 - val_loss: 0.8044\n",
            "Epoch 9/65\n",
            "51750/51750 [==============================] - 22s 419us/sample - loss: 0.8093 - val_loss: 0.7877\n",
            "Epoch 10/65\n",
            "51750/51750 [==============================] - 22s 419us/sample - loss: 0.7972 - val_loss: 0.7773\n",
            "Epoch 11/65\n",
            "51750/51750 [==============================] - 22s 419us/sample - loss: 0.7853 - val_loss: 0.7673\n",
            "Epoch 12/65\n",
            "51750/51750 [==============================] - 22s 419us/sample - loss: 0.7760 - val_loss: 0.7585\n",
            "Epoch 13/65\n",
            "51750/51750 [==============================] - 22s 418us/sample - loss: 0.7678 - val_loss: 0.7510\n",
            "Epoch 14/65\n",
            "51750/51750 [==============================] - 22s 419us/sample - loss: 0.7603 - val_loss: 0.7447\n",
            "Epoch 15/65\n",
            "51750/51750 [==============================] - 22s 418us/sample - loss: 0.7534 - val_loss: 0.7387\n",
            "Epoch 16/65\n",
            "51750/51750 [==============================] - 22s 419us/sample - loss: 0.7476 - val_loss: 0.7333\n",
            "Epoch 17/65\n",
            "51750/51750 [==============================] - 22s 418us/sample - loss: 0.7425 - val_loss: 0.7292\n",
            "Epoch 18/65\n",
            "51750/51750 [==============================] - 22s 418us/sample - loss: 0.7374 - val_loss: 0.7240\n",
            "Epoch 19/65\n",
            "51750/51750 [==============================] - 22s 419us/sample - loss: 0.7325 - val_loss: 0.7202\n",
            "Epoch 20/65\n",
            "51750/51750 [==============================] - 22s 419us/sample - loss: 0.7280 - val_loss: 0.7157\n",
            "Epoch 21/65\n",
            "51750/51750 [==============================] - 22s 419us/sample - loss: 0.7239 - val_loss: 0.7120\n",
            "Epoch 22/65\n",
            "51750/51750 [==============================] - 22s 419us/sample - loss: 0.7201 - val_loss: 0.7096\n",
            "Epoch 23/65\n",
            "51750/51750 [==============================] - 22s 420us/sample - loss: 0.7165 - val_loss: 0.7055\n",
            "Epoch 24/65\n",
            "51750/51750 [==============================] - 22s 419us/sample - loss: 0.7133 - val_loss: 0.7036\n",
            "Epoch 25/65\n",
            "51750/51750 [==============================] - 22s 417us/sample - loss: 0.7106 - val_loss: 0.7011\n",
            "Epoch 26/65\n",
            "51750/51750 [==============================] - 22s 419us/sample - loss: 0.7080 - val_loss: 0.6993\n",
            "Epoch 27/65\n",
            "51750/51750 [==============================] - 22s 417us/sample - loss: 0.7058 - val_loss: 0.6970\n",
            "Epoch 28/65\n",
            "51750/51750 [==============================] - 21s 415us/sample - loss: 0.7037 - val_loss: 0.6952\n",
            "Epoch 29/65\n",
            "51750/51750 [==============================] - 21s 415us/sample - loss: 0.7015 - val_loss: 0.6928\n",
            "Epoch 30/65\n",
            "51750/51750 [==============================] - 22s 417us/sample - loss: 0.6991 - val_loss: 0.6913\n",
            "Epoch 31/65\n",
            "51750/51750 [==============================] - 21s 415us/sample - loss: 0.6969 - val_loss: 0.6895\n",
            "Epoch 32/65\n",
            "51750/51750 [==============================] - 21s 415us/sample - loss: 0.6950 - val_loss: 0.6879\n",
            "Epoch 33/65\n",
            "51750/51750 [==============================] - 22s 415us/sample - loss: 0.6931 - val_loss: 0.6859\n",
            "Epoch 34/65\n",
            "51750/51750 [==============================] - 21s 415us/sample - loss: 0.6913 - val_loss: 0.6848\n",
            "Epoch 35/65\n",
            "51750/51750 [==============================] - 21s 415us/sample - loss: 0.6896 - val_loss: 0.6837\n",
            "Epoch 36/65\n",
            "51750/51750 [==============================] - 21s 415us/sample - loss: 0.6880 - val_loss: 0.6820\n",
            "Epoch 37/65\n",
            "51750/51750 [==============================] - 21s 414us/sample - loss: 0.6867 - val_loss: 0.6821\n",
            "Epoch 38/65\n",
            "51750/51750 [==============================] - 21s 415us/sample - loss: 0.6851 - val_loss: 0.6806\n",
            "Epoch 39/65\n",
            "51750/51750 [==============================] - 21s 415us/sample - loss: 0.6832 - val_loss: 0.6791\n",
            "Epoch 40/65\n",
            "51750/51750 [==============================] - 21s 415us/sample - loss: 0.6816 - val_loss: 0.6772\n",
            "Epoch 41/65\n",
            "51750/51750 [==============================] - 21s 414us/sample - loss: 0.6798 - val_loss: 0.6766\n",
            "Epoch 42/65\n",
            "51750/51750 [==============================] - 21s 415us/sample - loss: 0.6782 - val_loss: 0.6761\n",
            "Epoch 43/65\n",
            "51750/51750 [==============================] - 21s 415us/sample - loss: 0.6768 - val_loss: 0.6745\n",
            "Epoch 44/65\n",
            "51750/51750 [==============================] - 21s 415us/sample - loss: 0.6756 - val_loss: 0.6740\n",
            "Epoch 45/65\n",
            "51750/51750 [==============================] - 21s 415us/sample - loss: 0.6744 - val_loss: 0.6733\n",
            "Epoch 46/65\n",
            "51750/51750 [==============================] - 21s 415us/sample - loss: 0.6752 - val_loss: 0.6825\n",
            "Epoch 47/65\n",
            "51750/51750 [==============================] - 21s 415us/sample - loss: 0.6815 - val_loss: 0.6815\n",
            "Epoch 48/65\n",
            "51750/51750 [==============================] - 21s 414us/sample - loss: 0.6796 - val_loss: 0.6738\n",
            "Epoch 49/65\n",
            "51750/51750 [==============================] - 21s 415us/sample - loss: 0.6746 - val_loss: 0.6712\n",
            "Epoch 50/65\n",
            "51750/51750 [==============================] - 22s 416us/sample - loss: 0.6713 - val_loss: 0.6707\n",
            "Epoch 51/65\n",
            "51750/51750 [==============================] - 22s 418us/sample - loss: 0.6701 - val_loss: 0.6718\n",
            "Epoch 52/65\n",
            "51750/51750 [==============================] - 22s 418us/sample - loss: 0.6674 - val_loss: 0.6668\n",
            "Epoch 53/65\n",
            "51750/51750 [==============================] - 22s 417us/sample - loss: 0.6649 - val_loss: 0.6662\n",
            "Epoch 54/65\n",
            "51750/51750 [==============================] - 22s 417us/sample - loss: 0.6635 - val_loss: 0.6659\n",
            "Epoch 55/65\n",
            "51750/51750 [==============================] - 22s 419us/sample - loss: 0.6622 - val_loss: 0.6654\n",
            "Epoch 56/65\n",
            "51750/51750 [==============================] - 22s 419us/sample - loss: 0.6606 - val_loss: 0.6657\n",
            "Epoch 57/65\n",
            "51750/51750 [==============================] - 22s 419us/sample - loss: 0.6592 - val_loss: 0.6648\n",
            "Epoch 58/65\n",
            "51750/51750 [==============================] - 22s 418us/sample - loss: 0.6573 - val_loss: 0.6638\n",
            "Epoch 59/65\n",
            "51750/51750 [==============================] - 22s 420us/sample - loss: 0.6557 - val_loss: 0.6637\n",
            "Epoch 60/65\n",
            "51750/51750 [==============================] - 22s 420us/sample - loss: 0.6542 - val_loss: 0.6641\n",
            "Epoch 61/65\n",
            "51750/51750 [==============================] - 22s 418us/sample - loss: 0.6526 - val_loss: 0.6640\n",
            "Epoch 62/65\n",
            "51750/51750 [==============================] - 22s 420us/sample - loss: 0.6508 - val_loss: 0.6645\n",
            "Epoch 63/65\n",
            "51750/51750 [==============================] - 22s 418us/sample - loss: 0.6491 - val_loss: 0.6636\n",
            "Epoch 64/65\n",
            "51750/51750 [==============================] - 22s 419us/sample - loss: 0.6474 - val_loss: 0.6640\n",
            "Epoch 65/65\n",
            "51750/51750 [==============================] - 22s 418us/sample - loss: 0.6454 - val_loss: 0.6646\n"
          ],
          "name": "stdout"
        }
      ]
    },
    {
      "cell_type": "code",
      "metadata": {
        "id": "xDSeP1JRB3gK",
        "colab_type": "code",
        "colab": {
          "base_uri": "https://localhost:8080/",
          "height": 295
        },
        "outputId": "a97cbba5-abb1-4bc7-ad35-df3f383ece89"
      },
      "source": [
        "plt.plot(history.history['loss'])\n",
        "plt.plot(history.history['val_loss'])\n",
        "plt.title('model loss')\n",
        "plt.ylabel('loss')\n",
        "plt.xlabel('epoch')\n",
        "plt.legend(['train', 'val'], loc='upper left')\n",
        "plt.show()"
      ],
      "execution_count": 5,
      "outputs": [
        {
          "output_type": "display_data",
          "data": {
            "image/png": "[encoded data removed]",
            "text/plain": [
              "<Figure size 432x288 with 1 Axes>"
            ]
          },
          "metadata": {
            "tags": []
          }
        }
      ]
    },
    {
      "cell_type": "code",
      "metadata": {
        "id": "5jS3XPw0j9Pu",
        "colab_type": "code",
        "colab": {
          "base_uri": "https://localhost:8080/",
          "height": 52
        },
        "outputId": "4e13de74-8e56-44c0-edfc-d21e3875de88"
      },
      "source": [
        "model.evaluate(x=(test_summaries, test_codes), y=None)"
      ],
      "execution_count": 6,
      "outputs": [
        {
          "output_type": "stream",
          "text": [
            "6460/6460 [==============================] - 1s 178us/sample - loss: 0.6662\n"
          ],
          "name": "stdout"
        },
        {
          "output_type": "execute_result",
          "data": {
            "text/plain": [
              "0.6661824437117798"
            ]
          },
          "metadata": {
            "tags": []
          },
          "execution_count": 6
        }
      ]
    },
    {
      "cell_type": "code",
      "metadata": {
        "id": "bacFzZIrI-ol",
        "colab_type": "code",
        "colab": {
          "base_uri": "https://localhost:8080/",
          "height": 1000
        },
        "outputId": "0b968ed0-795d-43e0-8c89-978546ab69f0"
      },
      "source": [
        "for _ in range(20):\n",
        "    random.seed()\n",
        "    random_idx = random.randrange(test_summaries.shape[0])\n",
        "    rand_test_summary = np.array([test_summaries[random_idx]])\n",
        "    print(\"(Test Set) Input Summary: \", tensor_to_tokenized_texts(rand_test_summary, language_wv)[0])\n",
        "    rand_test_code = np.array([test_codes[random_idx]])\n",
        "    print(\"(Test Set) Input Code: \", tensor_to_tokenized_texts(rand_test_code, code_wv)[0])\n",
        "    rec_summary = model.language_decoder(model.language_encoder(rand_test_summary).mean()).numpy()\n",
        "    print(\"(Test Set) Reconstructed Summary: \", tensor_to_tokenized_texts(rec_summary, language_wv)[0])\n",
        "    rec_code = model.source_code_decoder(model.source_code_encoder(rand_test_code).mean()).numpy()\n",
        "    print(\"(Test Set) Reconstructed Source Code: \", tensor_to_tokenized_texts(rec_code, code_wv)[0])\n",
        "    rec_summary_hard = model.language_decoder(model.source_code_encoder(rand_test_code).mean()).numpy()\n",
        "    print(\"(Test Set) Reconstructed Summary From Source Code: \", tensor_to_tokenized_texts(rec_summary_hard, language_wv)[0])\n",
        "    rec_code_hard = model.source_code_decoder(model.language_encoder(rand_test_summary).mean()).numpy()\n",
        "    print(\"(Test Set) Reconstructed Source Code From Summary: \", tensor_to_tokenized_texts(rec_code_hard, code_wv)[0])\n",
        "    print()"
      ],
      "execution_count": 7,
      "outputs": [
        {
          "output_type": "stream",
          "text": [
            "/usr/local/lib/python3.6/dist-packages/gensim/matutils.py:737: FutureWarning: Conversion of the second argument of issubdtype from `int` to `np.signedinteger` is deprecated. In future, it will be treated as `np.int64 == np.dtype(int).type`.\n",
            "  if np.issubdtype(vec.dtype, np.int):\n"
          ],
          "name": "stderr"
        },
        {
          "output_type": "stream",
          "text": [
            "(Test Set) Input Summary:  ['<s>', 'use', 'a', 'text', 'file', 'as', 'storage', 'for', 'a', 'very', 'simple', 'web', 'application', ',', 'how', 'to', 'do', 'locking', '?', '</s>']\n",
            "(Test Set) Input Code:  ['<s>', 'FileStream', '.', 'Lock', '(', ')', '</s>']\n",
            "(Test Set) Reconstructed Summary:  ['<s>', '?', 'a', 'file', 'file', 'a', 'downloading', '</s>']\n",
            "(Test Set) Reconstructed Source Code:  ['<s>', 'IO', '.', 'Ports', '(', 'fileName', '.', '.', '(', '\"', ')', ')', ')', ')', ')', ')', ')', ')', ')', ')', ')', ')', ')', ')', ')', ')', ')', ')', ')', ')', ')', ')', ')', ')', ')', ')', ')', ')', ')', ')', ')', ')', ')', ')', ')', ')', ')', ')', ')', ')', ')', ')', ')', ')', ')', ')', ')', ')', ')', ')', ')', ')', ')', ')', ')', ')', ')', ')', ')', ')', ')', ')', ')', ')', ')', ')', ')', ')', ')', ')', ')', ')', ')', ')', ')', ')', ')', ')', ')', ')', ')', ')', ')', ')', ')', ')', ')', ')', ')', ')', ')', ')', ')', ')', ')', ')', ')', ')', ')', ')', ')', ')', ')', ')', ')', ')', ')', ')', ')', ')', ')', ')', ')', ')', ')', ')', ')', ')', ')', ')', ')', ')', ')', ')', ')', ')', ')', ')', ')', ')', ')', ')', ')', ')', ')', ')', ')', ')', ')', ')', ')', ')', ')', ')', ')', '}', ')', '}', '}', ')', ')', ')', ')', ')', ')', '}', ')', ')', ')', ')', ')', '}', '}', '}', ')', ')', '}', ')', ')', ')', ')', ')', '</s>']\n",
            "(Test Set) Reconstructed Summary From Source Code:  ['<s>', 'file', 'file', 'file', 'file', '</s>']\n",
            "(Test Set) Reconstructed Source Code From Summary:  ['<s>', 'string', '.', 'fileName', '(', '(', 'string', 'fileName', ')', ')', '(', 'fileName', ')', ')', '(', ')', ')', ')', ')', '(', ')', ')', ')', ')', ')', ')', ')', ')', ')', ')', ')', ')', ')', ')', ')', ')', ')', ')', ')', ')', ')', ')', ')', ')', ')', ')', ')', ')', ')', ')', ')', ')', ')', ')', ')', ')', ')', ')', ')', ')', ')', ')', ')', ')', ')', ')', ')', ')', ')', ')', ')', ')', ')', ')', ')', ')', ')', ')', ')', ')', ')', ')', ')', ')', ')', ')', ')', ')', ')', ')', ')', ')', ')', ')', ')', ')', ')', ')', ')', ')', ')', ')', ')', ')', ')', ')', ')', ')', ')', ')', ')', ')', ')', ')', ')', ')', ')', ')', ')', ')', ')', ')', ')', ')', ')', ')', ')', ')', ')', ')', ')', ')', ')', ')', ')', ')', ')', ')', ')', ')', ')', ')', ')', ')', ')', ')', ')', ')', ')', ')', ')', ')', ')', ')', ')', ')', ')', ')', ')', ')', ')', ')', ')', ')', ')', ')', ')', ')', ')', ')', ')', ')', ')', ')', ')', ')', ')', ')', '}', '</s>']\n",
            "\n",
            "(Test Set) Input Summary:  ['<s>', 'how', 'do', 'i', 'programatically', 'add', 'more', '<UNK>', 'to', 'a', '<UNK>', 'dock', '</s>']\n",
            "(Test Set) Input Code:  ['<s>', '<UNK>', 'la', '=', 'new', '<UNK>', '{', 'Title', '=', '\"', 'New', 'Window', '\"', ',', '<UNK>', '=', '400', ',', '<UNK>', '=', '500', ',', 'Content', '=', 'new', '<UNK>', '(', ')', '}', ';', 'la', '.', '<UNK>', '(', '<UNK>', ',', '<UNK>', '.', 'Right', ')', ';', 'la', '.', 'Float', '(', ')', ';', '</s>']\n",
            "(Test Set) Reconstructed Summary:  ['<s>', 'how', 'can', 'i', 'add', '?', 'add', 'stackpanel', '</s>']\n",
            "(Test Set) Reconstructed Source Code:  ['<s>', 'var', 'new', '=', 'new', 'UdpClient', '(', ')', ';', ')', ')', ')', ')', ')', ')', ')', ')', ')', '.', ')', ')', ')', ')', ')', ')', ')', ')', ')', ')', ')', ')', ')', ')', ')', ')', ')', ')', ')', ')', ')', ')', ')', ')', ')', ')', ')', ')', ')', ')', ')', ')', ')', ')', ')', ')', ')', ')', ')', ')', ')', ')', ')', ')', ')', ')', ')', ')', ')', ')', ')', ')', ')', ')', ')', ')', ')', ')', ')', ')', ')', ')', ')', ')', ')', ')', ')', ')', ')', ')', ')', ')', ')', ')', ')', ')', ')', ')', ')', ')', ')', ')', ')', ')', ')', ')', ')', ')', ')', ')', ')', ')', ')', ')', ')', ')', ')', ')', ')', ')', ')', ')', ')', ')', ')', ')', ')', ')', ')', '.', ')', ')', ')', ')', ')', ')', ')', ')', ')', ')', ')', ')', ')', ')', ')', ')', ')', ')', ')', ')', ')', ')', ')', ')', ')', ')', ')', ')', ')', ')', ')', ')', ')', '.', ')', ')', ')', ')', ')', ')', ')', ')', ')', '</s>']\n",
            "(Test Set) Reconstructed Summary From Source Code:  ['<s>', 'create', 'windows', '?', 'service', '</s>']\n",
            "(Test Set) Reconstructed Source Code From Summary:  ['<s>', 'private', '.', '(', '(', ')', ')', ')', ')', ')', ')', ')', ')', ')', ')', ')', ')', ')', ')', ')', ')', ')', ')', ')', ')', ')', ')', ')', ')', ')', ')', ')', ')', ')', ')', ')', ')', ')', ')', ')', ')', ')', ')', ')', ')', ')', ')', ')', ')', ')', ')', ')', ')', ')', ')', ')', ')', ')', ')', ')', ')', ')', ')', ')', ')', ')', ')', ')', ')', ')', ')', ')', ')', ')', ')', ')', ')', ')', ')', ')', ')', ')', ')', ')', ')', ')', ')', ')', ')', ')', ')', ')', ')', ')', ')', ')', ')', ')', ')', ')', ')', ')', ')', ')', ')', ')', ')', ')', ')', ')', ')', ')', ')', ')', ')', ')', ')', ')', ')', ')', ')', ')', ')', ')', ')', ')', ')', ')', ')', ')', ')', ')', ')', ')', ')', ')', ')', ')', ')', ')', ')', ')', ')', ')', ')', ')', ')', ')', ')', ')', ')', ')', ')', ')', '.', ')', ')', ')', ')', ')', ')', ')', ')', ')', ')', ')', ')', ')', '</s>']\n",
            "\n",
            "(Test Set) Input Summary:  ['<s>', 'how', 'to', 'bold', 'and', 'change', 'font', 'size', 'of', 'chart', 'title', '</s>']\n",
            "(Test Set) Input Code:  ['<s>', 'Title', 'title', '=', 'new', 'Title', '(', ')', ';', 'title', '.', 'Font', '=', 'new', 'Font', '(', '\"', 'Arial', '\"', ',', '14', ',', 'FontStyle', '.', 'Bold', ')', ';', 'title', '.', 'Text', '=', '\"', 'My', 'Chart', 'Title', '\"', ';', 'Chart1', '.', 'Titles', '.', 'Add', '(', 'title', ')', ';', '</s>']\n",
            "(Test Set) Reconstructed Summary:  ['<s>', 'how', 'to', 'backcolor', 'change', 'change', 'colour', 'size', '</s>']\n",
            "(Test Set) Reconstructed Source Code:  ['<s>', 'HttpClient', 'tabItem', '=', 'new', 'ImageBrush', '(', ')', ';', 'myButton', '.', '=', '=', '\"', '(', '\"', ';', '\"', '.', '.', '=', '\"', ')', '\"', '.', '.', '.', '\"', '.', '\"', ')', ')', ')', ')', '.', ')', ')', ')', ')', ')', '.', '.', '.', '.', ')', ')', ')', ')', ')', ')', ';', ')', ')', ';', ')', ')', ')', ';', ')', ')', ')', ')', ')', ')', ')', ')', ')', ';', ')', ')', '.', '.', '.', ')', ')', ')', ')', ')', ')', ')', ')', ')', ')', ')', ')', ')', ')', ')', ';', ')', ')', ')', ')', ')', ')', ')', ')', ';', ')', ';', ')', ')', ')', ')', ')', ')', ';', ')', ')', ')', ')', ';', ')', ')', ')', ')', ')', ';', ')', '.', ';', ';', ')', ')', ';', ')', ')', ')', '.', ';', ';', ')', '.', ')', ')', ')', ')', ')', ')', ';', ')', '.', ';', ')', '.', ')', ')', ')', ';', ';', '.', ')', ')', ')', ')', ';', ')', '.', ')', ')', ')', ';', ';', ')', ')', '.', '.', ')', '(', ')', ')', ')', ';', ')', ';', ')', ';', '</s>']\n",
            "(Test Set) Reconstructed Summary From Source Code:  ['<s>', 'how', 'to', 'to', 'control', 'control', '</s>']\n",
            "(Test Set) Reconstructed Source Code From Summary:  ['<s>', 'panel1', '.', 'BackColor', '=', 'Width', '.', '.', '.', '.', '.', '.', '.', '.', '.', '.', '.', 'Height', '.', '.', '.', '.', '.', '.', '.', '.', '.', '.', '.', '.', '.', '.', '.', '.', '.', '.', '.', '.', '.', '.', '.', '.', '.', '.', '.', '.', '.', '.', '.', '.', '.', '.', '.', '.', '.', '.', '.', '.', '.', '.', '.', '.', '.', '.', '.', '.', '.', '.', '.', '.', '.', '.', '.', '.', '.', '.', '.', '.', '.', '.', '.', '.', '.', '.', '.', '.', '.', '.', '.', '.', '.', '.', '.', '.', '.', '.', '.', 'Width', '.', '.', '.', '.', '.', '.', '.', '.', '.', '.', '.', '.', '.', '.', '.', '.', '.', '.', '.', '.', '.', '.', '.', '.', '.', '.', '.', '.', '.', '.', '.', '.', '.', '.', '.', '0', '.', '.', '.', '.', '.', '.', '.', '.', '.', '.', '.', 'Width', '.', 'Drawing', '.', '.', '.', 'Width', '.', 'Height', '0', '0', '.', 'Width', '.', '.', '.', 'Height', '.', '.', '.', '.', '.', '.', '.', ',', 'Width', '.', ',', '.', '.', '2', '1', '.', ')', ',', '.', '.', '.', '\"', ')', ';', '.', '.', 'picturBox1', '.', '.', ')', ')', '}', ';', '}', '</s>']\n",
            "\n",
            "(Test Set) Input Summary:  ['<s>', 'linq', 'join', 'that', 'accepts', 'null', 'values', '</s>']\n",
            "(Test Set) Input Code:  ['<s>', 'var', 'items', '=', 'from', 'v', 'in', 'work', '.', '<UNK>', '<', '<UNK>', '>', '(', ')', '.', 'Query', 'join', 'k', 'in', 'work', '.', '<UNK>', '<', 'K', '>', '(', ')', '.', 'Query', 'on', 'v', '.', '<UNK>', 'equals', 'k', '.', 'Id', 'join', 'p', 'in', 'work', '.', '<UNK>', '<', 'P', '>', '(', ')', '.', 'Query', 'on', 'v', '.', '<UNK>', 'equals', 'p', '.', 'Id', 'into', '<UNK>', 'from', '<UNK>', 'in', '<UNK>', '.', 'DefaultIfEmpty', '(', ')', 'join', 'tt', 'in', 'work', '.', '<UNK>', '<', '<UNK>', '>', '(', ')', '.', 'Query', 'on', 'v', '.', '<UNK>', 'equals', 'tt', '.', 'Id', 'select', '(', 'new', 'MyModel', '{', 'Id', '=', 'v', '.', 'Id', ',', 'Location', '=', 'k', '!', '=', 'null', '?', 'k', '.', 'Name', ':', 'string', '.', 'Empty', ',', 'ItemName', '=', 'tt', '.', 'Name', ',', '<UNK>', '=', '<UNK>', '!', '=', 'null', '?', '<UNK>', '.', 'Name', ':', 'string', '.', 'Empty', ',', '}', ')', ';', '</s>']\n",
            "(Test Set) Reconstructed Summary:  ['<s>', 'linq', 'linq', 'linq', 'argumentnullexception', 'is', '</s>']\n",
            "(Test Set) Reconstructed Source Code:  ['<s>', 'var', 'query', '=', 'from', 'from', 'in', 'db', '.', 'db', 'from', 'select', 'in', 'select', '.', 'select', 'on', 'select', '.', 'select', 'select', 'select', '.', 'select', 'select', 'select', 'Select', 'select', 'Select', 'Select', '.', 'select', '.', 'Select', 'Select', 'Select', 'Select', 'Select', 'Select', 'Select', '=', 'Select', 'x', 'Select', 'Select', 'x', 'x', 'x', '.', 'x', 'x', 'x', 'x', 'x', 'x', 'x', 'x', 'Select', '.', 'x', 'x', '=', 'x', '.', 'x', 'x', 'x', 'x', 'x', 'x', 'x', 'x', 'x', 'x', '.', 'x', 'x', 'x', '.', 'x', 'x', '.', 'x', 'x', 'x', '.', 'x', 'x', '.', '.', 'x', 'x', 'Select', '.', 'Select', '=', 'x', 'x', '.', 'x', 'ToList', 'x', '.', 'ToList', 'x', 'x', '.', '.', 'x', '.', 'ToList', '.', '.', '.', 'ToList', '.', '.', 'ToList', 'x', '.', '.', 'x', '.', 'x', '.', 'x', 'x', '.', 'x', 'x', 'ToList', '.', 'ToList', '.', 'ToList', ')', '.', 'ToList', '.', '.', '.', 'ToList', '.', 'x', '.', 'ToList', '.', 'ToList', ')', 'ToList', '.', 'ToList', '.', 'x', '=', 'x', '=', 'x', '(', 'x', '=', 'x', 'x', '.', 'x', ')', ')', '.', '=', ')', '.', 'ToList', '=', '</s>']\n",
            "(Test Set) Reconstructed Summary From Source Code:  ['<s>', 'how', 'to', 'do', 'linq', 'linq', 'linq', 'linq', 'linq', 'linq', 'linq', 'linq', '</s>']\n",
            "(Test Set) Reconstructed Source Code From Summary:  ['<s>', 'var', '(', 'result', '.', 'Where', 'Where', '.', 'Where', '.', 'x', ')', 'x', 'x', 'x', 'x', ')', 'x', 'x', ')', 'x', 'x', ')', '.', 'x', ')', ')', ')', ')', ')', ')', ')', ')', ')', ')', ')', ')', ')', ')', ')', ')', ')', ')', ')', ')', ')', ')', ')', ')', ')', ')', ')', ')', ')', ')', ')', ')', ')', ')', ')', ')', ')', ')', ')', ')', ')', ')', ')', ')', ')', ')', ')', ')', ')', ')', ')', ')', ')', ')', ')', ')', ')', ')', ')', ')', ')', ')', ')', ')', ')', ')', ')', ')', ')', ')', ')', ')', ')', ')', ')', ')', ')', ')', ')', ')', ')', ')', ')', ')', ')', ')', ')', ')', ')', ')', ')', ')', ')', '}', '}', ')', ')', ')', '}', '}', ')', ')', ')', ')', ')', ')', ')', '}', '}', ')', ')', ')', '}', '}', '}', ')', ')', ')', ')', ')', ')', ')', ')', ')', ')', '}', '}', '}', '}', ')', '}', ')', '}', ')', ')', ')', ')', ')', ')', ')', '}', '}', '}', ')', ')', '</s>']\n",
            "\n",
            "(Test Set) Input Summary:  ['<s>', 'how', 'can', 'i', 'access', 'my', 'viewmodel', 'from', 'the', 'view', 'and', 'associated', 'code', 'behind', 'file', '?', '</s>']\n",
            "(Test Set) Input Code:  ['<s>', '[', 'HttpGet', ']', 'public', 'ActionResult', 'Index', '(', 'int', '<UNK>', ')', '{', 'return', 'View', '(', 'new', '<UNK>', '(', '<UNK>', ')', ')', ';', '}', '[', 'HttpPost', ']', 'public', 'ActionResult', 'Index', '(', '<UNK>', 'viewModel', ')', '{', 'viewModel', '.', 'SaveChanges', '(', ')', '/', 'DoWork', '(', ')', '/', 'Whatever', '(', ')', ';', 'return', 'View', '(', 'new', 'viewModel', '(', ')', ')', ';', '}', '</s>']\n",
            "(Test Set) Reconstructed Summary:  ['<s>', 'how', 'can', 'i', 'how', '?', 'properties', '?', '?', '?', '?', 'usercontrol', '?', '?', '?', '</s>']\n",
            "(Test Set) Reconstructed Source Code:  ['<s>', 'public', 'class', 'public', 'public', 'public', 'public', '{', 'public', '{', 'public', '{', '{', '{', '{', '{', '{', '{', ')', '{', ')', '{', ')', ')', ')', ')', '{', ')', '{', ')', '}', ')', ')', ')', '}', ')', ')', ')', '}', '}', '}', '}', '}', ')', '}', '}', ')', '}', ')', ')', ')', ')', ')', '}', ')', '}', ')', '}', ')', ')', '}', ')', '}', '}', '}', '}', '}', '}', '}', '}', '}', '}', '}', '}', '}', '}', '}', '}', '}', '}', '}', '}', '}', '}', '}', '}', '}', '}', '}', '}', '}', '}', '}', '}', '}', '}', '}', '}', '}', '}', ')', '}', '}', '}', '}', '}', '}', '}', '}', '}', '}', '}', '}', '}', '}', '}', '}', '}', '}', '}', '}', ')', '}', '}', '}', '}', '}', '}', '}', '}', '}', '}', '}', '}', '}', '}', '}', '}', '}', '}', '}', '}', '}', '}', '}', '}', '}', '}', '}', '}', '}', '}', '}', '}', ')', ')', '}', '}', '}', ')', ')', ')', '}', '}', ')', ';', '}', '}', '}', '}', '}', '}', '}', '}', ';', '}', '}', '</s>']\n",
            "(Test Set) Reconstructed Summary From Source Code:  ['<s>', 'constructor', '?', 'object', '?', 'class', 'class', '</s>']\n",
            "(Test Set) Reconstructed Source Code From Summary:  ['<s>', 'public', 'class', '{', '{', 'public', '{', ')', '{', ')', ')', ')', '{', ')', ')', ')', ')', ')', ')', ')', ')', ')', ')', ')', ')', ')', ')', ')', ')', ')', ')', ')', ')', ')', ')', ')', ')', ')', ')', ')', ')', ')', ')', ')', ')', ')', ')', ')', ')', ')', ')', ')', ')', ')', ')', ')', ')', ')', ')', ')', ')', ')', ')', ')', ')', ')', ')', ')', ')', ')', ')', ')', ')', ')', ')', ')', ')', ')', ')', ')', ')', ')', '}', ')', ')', ')', '}', '}', ')', '}', '}', '}', '}', '}', ')', ')', ')', ')', '}', ')', ')', ')', ')', ')', ')', '}', '}', ')', ')', '}', ')', '}', '}', '}', ')', '}', '}', '}', '}', '}', ')', '}', '}', '}', '}', '}', '}', '}', '}', ')', '}', '}', '}', '}', '}', ')', ')', '}', '}', '}', '}', '}', '}', '}', '}', ')', '}', ')', '}', '}', ')', '}', '}', ')', ')', ')', ')', '}', '}', '}', ')', ')', ')', '}', ')', ')', ')', ')', ')', ')', '}', '}', '}', '}', ';', '}', '}', '</s>']\n",
            "\n",
            "(Test Set) Input Summary:  ['<s>', 'how', 'to', 'select', 'aggregate', 'of', 'multiple', 'columns', '(', 'no', 'group', 'by', ')', '?', '</s>']\n",
            "(Test Set) Input Code:  ['<s>', 'var', 'fromDate', '=', 'new', 'DateTime', '(', '2011', ',', '02', ',', '01', ')', ';', 'var', 'toDate', '=', 'new', 'DateTime', '(', '2012', ',', '02', ',', '01', ')', ';', 'var', '<UNK>', '=', '@', '\"', 'select', 'sum', '(', 'it', '.', '<UNK>', ')', 'as', '<UNK>', ',', 'sum', '(', 'it', '.', '<UNK>', ')', 'as', '<UNK>', 'from', '<UNK>', 'as', 'it', 'where', 'it', '.', 'Date', '>', '@', 'fromDate', 'and', 'it', '.', 'Date', '<', '=', '@', 'toDate', '\"', ';', 'var', 'query', '=', 'CreateQuery', '<', '<UNK>', '>', '(', '<UNK>', ',', 'new', 'ObjectParameter', '(', '\"', 'fromDate', '\"', ',', 'fromDate', ')', ',', 'new', 'ObjectParameter', '(', '\"', 'toDate', '\"', ',', 'toDate', ')', ')', ';', '</s>']\n",
            "(Test Set) Reconstructed Summary:  ['<s>', 'how', 'to', 'linq', 'identical', '</s>']\n",
            "(Test Set) Reconstructed Source Code:  ['<s>', 'var', 'DateTime', '=', 'new', 'DateTime', '(', '15', ',', '1', ',', '1', ')', '1', ',', '1', ',', '1', ',', ',', ',', ',', ',', ',', ',', ')', ')', ',', ')', ',', ')', ')', ')', ')', ')', ')', ')', ')', ')', ')', ')', ')', ')', ')', ')', ')', ')', ')', ')', ')', ')', ')', ')', ')', ')', ')', ')', '1', ')', '1', ')', ')', ')', ')', ')', ')', ')', ')', ')', ')', ')', ')', ')', ')', ')', ')', ')', ')', ')', ')', ')', ')', ')', ')', ')', ')', '1', ')', ')', ')', ')', '1', ')', ')', ')', ')', ')', ')', ')', ')', ')', ')', ')', ')', ')', ')', ')', ')', ')', ')', ')', ')', ')', '1', ')', ')', ')', ')', '.', ')', ')', ')', ')', '.', ')', ')', ')', ')', '.', '1', ')', ')', ')', '.', '.', ')', '(', '(', ')', 'ToString', '.', ')', '.', '1', ')', ')', ')', 'ToString', ')', ')', ')', ')', ')', ')', ')', ')', '1', ')', ')', ')', ')', ')', '.', '.', ')', ')', ')', ')', '</s>']\n",
            "(Test Set) Reconstructed Summary From Source Code:  ['<s>', 'convert', '</s>']\n",
            "(Test Set) Reconstructed Source Code From Summary:  ['<s>', 'var', 'query', '=', 'from', 'from', 'in', 'in', 'Where', 'Where', 'from', 'Where', 'in', 'Where', '.', 'Select', 'select', 'Select', '.', 'Select', 'select', 'Select', '.', 'Select', 'Select', 'Select', 'Select', 'Select', '.', '.', '.', 'Select', '.', 'x', 'Select', 'x', '.', 'ToList', '.', 'x', '.', 'ToList', '.', 'ToList', '.', 'x', '.', 'x', '.', '.', 'x', ')', '.', '.', ')', ')', 'x', ')', ')', ')', 'x', ')', 'x', '.', 'x', '=', 'x', 'x', 'x', ')', ')', ')', 'x', 'x', '.', 'x', '.', '.', '.', '.', ')', ')', ')', ')', '.', '.', 'x', 'x', ')', '.', 'ToList', '.', 'x', ')', 'ToList', ')', '.', ')', '.', 'x', ')', ')', ')', 'ToList', ')', ')', ')', '.', 'x', '.', 'ToList', ')', '.', 'ToList', 'ToList', ')', ')', ')', ')', '.', '.', ')', ')', ')', ')', 'ToList', 'x', '.', 'ToList', ')', 'ToList', '.', 'ToList', '.', 'ToList', '.', ')', 'ToList', 'ToList', ')', '.', 'ToList', ')', ')', ')', ')', ')', ')', ')', ')', ')', ')', '.', 'x', '=', 'ToList', '=', 'x', '.', 'x', '=', ')', '.', '.', ')', ')', ')', ')', ')', ')', '</s>']\n",
            "\n",
            "(Test Set) Input Summary:  ['<s>', 'how', 'can', 'i', 'get', 'this', 'function', \"'\", 's', 'variable', '?', '</s>']\n",
            "(Test Set) Input Code:  ['<s>', '(', '?', '<', '=', '\\\\', '\"', '<UNK>', '\\\\', '\"', ':', '\\\\', '\"', ')', '(', '.', '*', '?', ')', '(', '?', '=', '\\\\', '\"', ',', ')', '</s>']\n",
            "(Test Set) Reconstructed Summary:  ['<s>', 'how', 'can', 'i', 'get', 'can', \"'\", \"'\", '?', '?', '?', '?', '?', '</s>']\n",
            "(Test Set) Reconstructed Source Code:  ['<s>', 'string', 'input', '=', '\"', '\\\\', 'test', '\\\\', '\\\\', '\\\\', '\\\\', '\\\\', '\\\\', '\\\\', '?', '\\\\', 's', 's', '1', 's', 's', 's', ')', 's', 's', 's', 's', ')', ')', ')', ')', ')', ')', ')', ')', ')', ')', ')', ')', ')', ')', ')', ')', ')', ')', ')', ')', ')', ')', ')', ')', ')', ')', ')', ')', ')', ')', ')', ')', ')', ')', ')', ')', ')', ')', ')', ')', ')', ')', ')', ')', ')', ')', ')', ')', ')', ')', ')', ')', ')', ')', ')', ')', ')', ')', ')', ')', ')', ')', ')', ')', ')', ')', ')', ')', ')', ')', ')', ')', ')', ')', ')', ')', ')', ')', ')', ')', ')', ')', ')', ')', ')', ')', ')', ')', ')', ')', ')', ')', ')', ')', ')', ')', ')', ')', ')', ')', ')', ')', ')', ')', ')', ')', ')', ')', ')', ')', ')', ')', ')', ')', ')', ')', ')', ')', ')', ')', ')', ')', ')', ')', ')', ')', ')', ')', '}', '</s>']\n",
            "(Test Set) Reconstructed Summary From Source Code:  ['<s>', 'regex', 'regex', 'regex', 'regex', 'string', '</s>']\n",
            "(Test Set) Reconstructed Source Code From Summary:  ['<s>', 'var', '.', '(', '(', '(', '(', ')', ')', ')', ')', ')', ')', ')', ')', ')', ')', ')', ')', ')', ')', ')', ')', ')', ')', ')', ')', ')', ')', ')', ')', ')', ')', ')', ')', ')', ')', ')', ')', ')', ')', ')', ')', ')', ')', ')', ')', ')', ')', ')', ')', ')', ')', ')', ')', ')', ')', ')', ')', ')', ')', ')', ')', ')', ')', ')', ')', ')', ')', ')', ')', ')', ')', ')', ')', ')', ')', ')', ')', ')', ')', ')', ')', ')', ')', ')', ')', ')', ')', ')', ')', ')', ')', ')', ')', ')', ')', ')', ')', ')', ')', ')', ')', ')', ')', ')', ')', ')', ')', ')', ')', ')', ')', ')', ')', ')', ')', ')', ')', ')', ')', ')', ')', ')', ')', ')', ')', ')', ')', ')', ')', ')', ')', ')', ')', ')', ')', ')', ')', ')', ')', ')', ')', ')', ')', ')', ')', ')', ')', ')', ')', ')', '}', ')', ')', '}', ')', '}', ')', ')', ')', ')', ')', ')', ')', ')', ')', ')', ')', ')', ')', ')', '}', '</s>']\n",
            "\n",
            "(Test Set) Input Summary:  ['<s>', 'how', 'would', 'i', 'use', 'htmlagilitypack', 'to', 'extract', 'the', 'value', 'i', 'want', '</s>']\n",
            "(Test Set) Input Code:  ['<s>', 'HtmlDocument', 'doc', '=', 'new', 'HtmlDocument', '(', ')', ';', 'doc', '.', 'Load', '(', '\"', 'file', '.', 'htm', '\"', ')', ';', '/', '/', 'or', 'whatever', 'HTML', 'file', 'you', '<UNK>', '(', 'HtmlNode', 'div', 'in', 'doc', '.', 'DocumentNode', '.', 'SelectNodes', '(', '\"', '/', '/', 'div', '[', '@', 'class', '=', \"'\", 'name', \"'\", 'and', '@', 'id', ']', '\"', ')', '{', 'HtmlAttribute', 'att', '=', 'div', '[', '\"', 'id', '\"', ']', ';', '/', '/', 'Do', 'something', 'with', 'att', '.', 'Value', '}', '</s>']\n",
            "(Test Set) Reconstructed Summary:  ['<s>', 'how', 'can', 'i', 'do', 'parse', '</s>']\n",
            "(Test Set) Reconstructed Source Code:  ['<s>', 'XmlDocument', 'doc', '=', 'new', 'XmlDocument', '(', ')', ';', 'doc', '.', 'Load', '(', '\"', ')', '.', 'xml', '\"', ')', ';', 'foreach', 'doc', '.', 'doc', '.', 'doc', ')', '\"', ')', '\"', ')', '\"', '/', ')', ')', ')', ')', ')', ')', ')', ')', ')', ')', ')', ')', ')', 'name', ')', ')', 'name', ')', 'Name', ')', ')', ')', ')', ')', ')', ')', ')', ')', ')', ')', ')', '\"', ')', ')', '\"', ')', ')', ')', ')', ')', ')', ')', ')', ')', ')', ')', ')', ')', ')', ')', ')', ')', ')', ')', ')', ')', ')', ')', ')', ')', ')', ')', ')', ')', ')', ')', ')', ')', ')', ')', ')', ')', ')', ')', ')', ')', ')', ')', ')', ')', ')', ')', ')', ')', ')', ')', ')', ')', ')', ')', ')', ')', ')', ')', ')', ')', ')', ')', ')', ')', ')', ')', ')', ')', '.', ')', '(', ')', '.', 'foreach', '.', '.', ')', ')', ')', ')', ')', ')', ')', ')', ')', ')', '</s>']\n",
            "(Test Set) Reconstructed Summary From Source Code:  ['<s>', 'xml', 'xml', 'xml', '</s>']\n",
            "(Test Set) Reconstructed Source Code From Summary:  ['<s>', 'string', '.', '=', '\"', '\"', '(', ')', ')', '\"', '.', '\"', ')', ')', ')', ')', ')', ')', ')', ')', ')', ')', ')', ')', ')', ')', ')', ')', ')', ')', ')', ')', ')', ')', ')', ')', ')', ')', ')', ')', ')', ')', ')', ')', ')', ')', ')', ')', ')', ')', ')', ')', ')', ')', ')', ')', ')', ')', ')', ')', ')', ')', ')', ')', ')', ')', ')', ')', ')', ')', ')', ')', ')', ')', ')', ')', ')', ')', ')', ')', ')', ')', ')', ')', ')', ')', ')', ')', ')', ')', ')', ')', ')', ')', ')', ')', ')', ')', ')', ')', ')', ')', ')', ')', ')', ')', ')', ')', ')', ')', ')', ')', ')', ')', ')', ')', ')', ')', ')', ')', ')', ')', ')', ')', '}', ')', ')', ')', ')', ')', ')', ')', ')', ')', ')', ')', ')', ')', ')', ')', ')', ')', ')', ')', ')', ')', ')', ')', ')', ')', ')', ')', ')', ')', ')', ')', ')', ')', ')', ')', ')', ')', ')', ')', ')', ')', ')', ')', ')', ')', ')', ')', '}', ')', ')', ')', ')', ')', ')', ')', ')', ')', ')', ')', ')', ')', ')', ')', '}', ')', ')', ')', '}', ')', ';', '}', ';', '}', '</s>']\n",
            "\n",
            "(Test Set) Input Summary:  ['<s>', 'calling', 'the', '<UNK>', 'without', 'repeating', 'each', 'node', '</s>']\n",
            "(Test Set) Input Code:  ['<s>', 'Elements', '(', ')', '</s>']\n",
            "(Test Set) Reconstructed Summary:  ['<s>', 'when', '?', 'finished', '</s>']\n",
            "(Test Set) Reconstructed Source Code:  ['<s>', 'if', '(', 'foreach', '.', 'foreach', '(', ')', ')', ')', ')', ')', ')', ')', ')', ')', ')', ')', ')', ')', ')', ')', ')', ')', ')', ')', ')', ')', ')', ')', ')', ')', ')', ')', ')', ')', ')', ')', ')', ')', ')', ')', ')', ')', ')', ')', ')', ')', ')', ')', ')', ')', ')', ')', ')', ')', ')', ')', ')', ')', ')', ')', ')', ')', ')', ')', ')', ')', ')', ')', ')', ')', ')', ')', ')', ')', ')', ')', ')', ')', ')', ')', ')', ')', ')', ')', ')', ')', ')', '}', ')', ')', ')', ')', ')', ')', ')', ')', ')', ')', ')', ')', ')', ')', ')', ')', ')', ')', ')', ')', ')', ')', '}', ')', ')', ')', ')', '}', ')', '}', ')', ')', '}', '}', '}', ')', '}', '}', ')', ')', ')', ')', ')', ')', '}', ')', ')', ')', ')', ')', ')', '}', '}', ')', ')', ')', '}', ')', '}', '}', '}', ')', '}', ')', ')', '}', '}', '}', '}', ')', ')', ')', ')', '}', ')', ')', ')', ')', ')', '}', '}', '}', '}', '}', ')', '}', '}', '}', '}', '}', '</s>']\n",
            "(Test Set) Reconstructed Summary From Source Code:  ['<s>', 'wpf', '</s>']\n",
            "(Test Set) Reconstructed Source Code From Summary:  ['<s>', 'foreach', '(', 'foreach', ')', 'foreach', ')', '.', ')', ')', ')', ')', ')', ')', ')', ')', ')', ')', ')', ')', ')', ')', ')', ')', ')', ')', ')', ')', ')', ')', ')', ')', ')', ')', ')', ')', ')', ')', ')', ')', ')', ')', ')', ')', ')', ')', ')', ')', ')', ')', ')', ')', ')', ')', ')', ')', ')', ')', ')', ')', ')', ')', ')', ')', ')', ')', ')', ')', ')', ')', ')', ')', ')', ')', ')', ')', ')', ')', ')', ')', ')', ')', ')', ')', ')', ')', ')', ')', ')', ')', ')', ')', ')', ')', ')', ')', ')', ')', ')', ')', ')', ')', ')', ')', ')', ')', ')', ')', ')', ')', ')', ')', ')', ')', ')', ')', ')', ')', ')', ')', ')', ')', '}', ')', ')', ')', ')', '}', ')', ')', ')', ')', ')', ')', ')', ')', ')', ')', ')', ')', ')', ')', ')', ')', ')', ')', ')', '}', ')', ')', '}', ')', ')', ')', ')', '}', '}', '}', '}', ')', ')', ')', ')', '}', ')', ')', ')', ')', ')', '}', '}', ')', '}', ')', ')', '}', '}', '}', '}', '}', '</s>']\n",
            "\n",
            "(Test Set) Input Summary:  ['<s>', 'replacing', 'char', 'on', 'the', 'end', 'of', 'string', '</s>']\n",
            "(Test Set) Input Code:  ['<s>', 'myString', '=', 'myString', '.', 'TrimEnd', '(', \"'\", '/', \"'\", ')', ';', '</s>']\n",
            "(Test Set) Reconstructed Summary:  ['<s>', 'replacing', 'string', '</s>']\n",
            "(Test Set) Reconstructed Source Code:  ['<s>', 'string', '.', 'str', '.', 'Replace', '(', '\"', ')', '\"', ')', '\"', ')', ')', ')', ')', ')', ')', ')', ')', ')', ')', ')', ')', ')', ')', ')', ')', ')', ')', ')', ')', ')', ')', ')', ')', ')', ')', ')', ')', ')', ')', ')', ')', ')', ')', ')', ')', ')', ')', ')', ')', ')', ')', ')', ')', ')', ')', ')', ')', ')', ')', ')', ')', ')', ')', ')', ')', ')', ')', ')', ')', ')', ')', ')', ')', ')', ')', ')', ')', ')', ')', ')', ')', ')', ')', ')', ')', ')', ')', ')', ')', ')', ')', ')', ')', ')', '1', ')', '1', ')', ')', ')', ')', ')', ')', ')', ')', ')', ')', ')', ')', ')', '1', ')', ')', ')', ')', ')', '1', ')', ')', ')', ')', ')', ')', ')', ')', ')', ')', ')', ')', ')', ')', ')', ')', ')', ')', ')', ')', ')', ')', ')', ')', ')', ')', ')', '1', ')', ')', '1', '1', '1', '1', ')', '}', '</s>']\n",
            "(Test Set) Reconstructed Summary From Source Code:  ['<s>', 'replace', 'string', 'string', 'string', '</s>']\n",
            "(Test Set) Reconstructed Source Code From Summary:  ['<s>', 'string', 'input', '=', 'str', '.', 'str', '(', '(', ')', '1', ')', ')', ')', ')', ')', ')', ')', ')', ')', '1', '1', ')', '1', ')', ')', '1', ')', ')', ')', '1', ')', ')', ')', ')', ')', '1', ')', ')', '1', ')', '1', '1', '1', '1', '1', '1', '1', ')', ')', ')', ')', ')', ')', ')', ')', '1', ')', '1', ')', ')', ')', ')', ')', '1', ')', ')', ')', ')', ')', ')', ')', ')', '1', ')', ')', ')', ')', '1', '1', ')', ')', ')', ')', ')', '1', '1', ')', ')', ')', ')', ')', ')', ')', '1', ')', '1', '1', ')', ')', ')', ')', ')', ')', '1', ')', '1', ')', ')', ')', '1', ')', ')', ')', ')', ')', ')', ')', '}', ')', ')', ')', ')', '1', ')', ')', ')', ')', ')', ')', ')', ')', ')', ')', ')', ')', ')', ')', ')', ')', ')', ')', ')', ')', ')', ')', ')', ')', ')', ')', ')', '1', '1', ')', ')', '}', '</s>']\n",
            "\n",
            "(Test Set) Input Summary:  ['<s>', 'read', 'pixels', 'from', 'a', 'rectangle', 'in', 'an', 'opengl', 'texture', '</s>']\n",
            "(Test Set) Input Code:  ['<s>', 'public', 'Bitmap', '<UNK>', '(', ')', '{', 'int', '<UNK>', ';', 'GL', '.', 'Ext', '.', '<UNK>', '(', '1', ',', 'out', '<UNK>', ')', ';', '<UNK>', '(', ')', ';', 'GL', '.', 'Ext', '.', '<UNK>', '(', '<UNK>', '.', '<UNK>', ',', '<UNK>', ')', ';', '<UNK>', '(', ')', ';', 'GL', '.', 'Ext', '.', '<UNK>', '(', '<UNK>', '.', '<UNK>', ',', '<UNK>', '.', '<UNK>', ',', '<UNK>', '.', 'Texture2D', ',', '<UNK>', ',', '0', ')', ';', '<UNK>', '(', ')', ';', 'Bitmap', 'b', '=', 'new', 'Bitmap', '(', 'Width', ',', 'Height', ')', ';', 'var', 'bits', '=', 'b', '.', 'LockBits', '(', 'new', 'Rectangle', '(', '0', ',', '0', ',', 'Width', ',', 'Height', ')', ',', 'ImageLockMode', '.', 'WriteOnly', ',', 'System', '.', 'Drawing', '.', 'Imaging', '.', 'PixelFormat', '.', 'Format32bppArgb', ')', ';', 'GL', '.', '<UNK>', '(', 'Rect', '.', 'Left', ',', 'Rect', '.', 'Top', ',', 'Width', ',', 'Height', ',', '<UNK>', '.', 'Graphics', '.', '<UNK>', '.', 'PixelFormat', '.', '<UNK>', ',', '<UNK>', '.', '<UNK>', ',', 'bits', '.', 'Scan0', ')', ';', 'GL', '.', 'Ext', '.', '<UNK>', '(', '<UNK>', '.', '<UNK>', ',', '0', ')', ';', 'GL', '.', 'Ext', '.', '<UNK>', '(', '1', ',', 'ref', '<UNK>', ')', ';', 'b', '.', 'UnlockBits', '(', 'bits', ')', ';', 'return', 'b', ';', '}', '</s>']\n",
            "(Test Set) Reconstructed Summary:  ['<s>', 'get', 'grayscale', 'from', 'a', 'picturebox', '</s>']\n",
            "(Test Set) Reconstructed Source Code:  ['<s>', 'private', '.', 'bmp', '(', ')', ')', ')', ')', ')', ')', ')', ')', ')', ')', ')', ')', ')', ')', ')', ')', ')', ')', '.', ')', ')', ')', '.', ')', '.', '.', ')', ')', ')', ')', ')', ')', '.', ')', '.', ')', '.', '.', '.', '.', '.', ')', ')', ')', ')', ')', ')', '.', ')', '.', ')', ')', '.', '.', '.', '.', '.', ')', ')', ')', '.', '.', ')', ')', '.', '.', '.', ')', '.', '.', '.', ')', ',', ',', ')', ',', ')', ')', ')', ')', ')', ',', '.', '.', ')', ')', ')', ')', ')', '.', '.', ')', ')', ')', ')', '.', '.', '.', ')', ')', '.', '.', '.', '.', ')', '.', '.', '.', ')', '.', ')', '.', '.', '.', '.', '.', ')', '.', '.', '.', ')', '.', '.', '.', '.', '.', '.', '.', ')', '.', '.', '.', '.', ')', ')', ')', '.', ')', ')', ')', '.', '.', ')', ')', ')', ')', ';', '.', '.', ')', ',', '.', '.', ')', ')', '.', ')', ')', ')', ')', ')', ';', ')', ';', ',', ')', ';', ')', ')', ';', '}', ')', '.', ')', ')', ')', ';', ')', ')', ';', '</s>']\n",
            "(Test Set) Reconstructed Summary From Source Code:  ['<s>', 'canvas', 'resize', '</s>']\n",
            "(Test Set) Reconstructed Source Code From Summary:  ['<s>', 'private', 'void', '=', '(', ')', '(', ',', ')', ')', ')', '{', ')', ')', '=', ')', ')', ')', ')', ')', ')', ')', ')', '.', ')', ')', ')', ')', ')', ')', ')', ')', ')', ')', ')', ')', ')', ')', ')', ')', ')', ')', ')', ')', ')', ')', ')', ')', ')', ')', ')', ')', ')', ')', ')', ')', ')', ')', ')', ')', ')', ')', ')', ')', ')', ')', ')', ')', ')', ')', ')', ')', ')', ')', ')', ')', ')', ')', ')', ')', ')', ')', ')', ')', ')', ')', '0', ')', ')', ')', ')', ')', ')', ')', ')', ')', ')', ')', ')', ')', ')', ')', ')', ')', ')', ')', ')', '.', ')', ')', ')', '.', '.', ')', ')', ')', ')', ')', ')', ')', ')', ')', ')', ')', ')', ')', ')', ')', '.', '.', '.', '.', '.', ')', ')', '.', '.', ')', ')', '.', ')', ')', ')', ')', ')', ')', ')', ')', ')', ')', ')', '.', ')', ')', ')', ')', ')', ')', ')', ')', ')', '.', ')', ')', ')', ')', ')', ')', ';', ')', ')', ')', ')', ')', ';', '}', ')', '.', ')', ')', ')', ';', ')', ')', '}', '</s>']\n",
            "\n",
            "(Test Set) Input Summary:  ['<s>', 'microsoft', 'speech', 'in', 'windows', 'service', '</s>']\n",
            "(Test Set) Input Code:  ['<s>', 'Private', 'Sub', '<UNK>', '(', 'culture', 'As', 'String', ')', 'Dim', '<UNK>', 'As', 'CultureInfo', 'For', 'Each', '<UNK>', 'In', '<UNK>', '.', '<UNK>', 'If', '<UNK>', '.', 'Culture', '.', 'Name', '.', 'Equals', '(', 'culture', ')', 'Then', '<UNK>', '=', '<UNK>', '.', 'Culture', 'Exit', 'For', 'End', 'If', 'Next', 'If', '<UNK>', 'Is', 'Nothing', 'Then', '<UNK>', '=', '<UNK>', '.', '<UNK>', '(', ')', '(', '0', ')', '.', 'Culture', '<UNK>', '<UNK>', '=', 'New', '<UNK>', '(', '<UNK>', ')', 'End', 'Sub', '</s>']\n",
            "(Test Set) Reconstructed Summary:  ['<s>', 'exchange', '365', 'in', 'windows', 'app', '</s>']\n",
            "(Test Set) Reconstructed Source Code:  ['<s>', 'protected', '.', 'ToList', '(', '(', '(', 'x', ')', ')', ')', '.', ')', ')', ')', ')', ')', '.', '.', '.', '.', '.', ')', ')', '.', '.', '.', '.', ')', '.', '.', '.', '.', '.', '.', ')', ')', ')', '.', '.', ')', ')', '.', ')', ')', '.', '.', ')', '.', '.', '.', ')', ')', ')', '.', '.', ')', '.', '.', '.', '.', ')', ')', ')', ')', ')', ')', ')', ')', '.', '.', ')', ')', '.', '.', ')', ')', ')', '.', ')', ')', '.', '.', ')', ')', ')', '.', '.', '.', ')', ')', ')', ')', ')', ')', ')', ')', ',', ')', ')', ')', '.', ')', ')', ')', '.', '.', ')', ')', ')', ')', ')', '.', ')', ')', '1', ')', ')', ')', '.', ')', ')', '.', '.', ')', ')', ')', ')', '.', '.', ')', ')', ')', ',', '.', '.', '.', '.', ')', ')', ')', '.', ')', ')', ')', ')', ',', '.', ')', ')', ')', ')', ',', '</s>']\n",
            "(Test Set) Reconstructed Summary From Source Code:  ['<s>', 'how', 'to', 'zoom', 'set', '?', '?', '</s>']\n",
            "(Test Set) Reconstructed Source Code From Summary:  ['<s>', 'HtmlWeb', '.', '=', 'new', 'SmtpClient', '(', '(', ')', '.', '.', '.', ')', '.', '.', '.', '.', ')', '.', ')', '.', ')', ')', ')', ')', ')', ')', '.', ')', ')', ')', ')', ')', ')', ')', ')', ')', ')', ')', ')', ')', ')', ')', ')', ')', ')', ')', ')', ')', ')', ')', ')', ')', ')', ')', ')', ')', ')', ')', ')', ')', ')', ')', '.', ')', ')', '.', ')', ')', ')', ')', '.', '.', ')', ')', ')', ')', ')', ')', ')', ')', ')', ')', ')', ')', '.', ')', ')', ')', ')', ')', ')', ')', ')', ')', ')', ')', ')', ')', ')', ')', ')', ')', '.', ')', ')', ')', ')', ')', ')', ')', ')', ')', ')', ')', ')', ')', ')', ')', ')', ')', ')', ')', '.', ')', ')', ')', ')', ')', ')', ')', ')', ')', ')', ')', ')', ')', ')', '.', ')', ')', ')', ')', ')', ')', ')', ')', ')', ')', ')', ')', ')', '.', ')', '.', ')', ')', ')', ')', ')', ')', ')', '.', ')', ')', '</s>']\n",
            "\n",
            "(Test Set) Input Summary:  ['<s>', 'how', 'to', 'create', 'and', 'populate', 'generic', 'dictionary', '?', '</s>']\n",
            "(Test Set) Input Code:  ['<s>', 'Dictionary', '<', 'string', ',', 'Point', '>', '<UNK>', '=', 'new', 'Dictionary', '<', 'string', ',', 'Point', '>', '(', ')', ';', '<UNK>', '.', 'Add', '(', '\"', 'mystring', '\"', ',', 'new', 'Point', '(', '0', ',', '0', ')', ')', ';', '<UNK>', '.', 'Add', '(', '\"', '<UNK>', '\"', ',', 'new', 'Point', '(', '23', ',', '30', ')', ')', ';', '</s>']\n",
            "(Test Set) Reconstructed Summary:  ['<s>', 'how', 'to', 'create', 'list', 'list', 'list', 'list', '</s>']\n",
            "(Test Set) Reconstructed Source Code:  ['<s>', 'List', '<', 'string', '>', 'List', '=', 'new', 'List', '<', 'string', '>', '(', ')', ';', '>', '(', ')', ')', ')', ')', ')', ')', ')', ')', ')', ')', ')', ')', ')', ')', ')', ')', ')', ')', ')', ')', ')', ')', ')', ')', ')', ')', ')', ')', ')', ')', ')', ')', ')', ')', ')', ')', ')', ')', ')', ')', ')', ')', ')', ')', ')', ')', ')', ')', ')', ')', ')', ')', ')', ')', ')', ')', ')', ')', ')', ')', ')', ')', ')', ')', ')', ')', ')', ')', ')', ')', ')', ')', ')', ')', ')', ')', ')', ')', ')', ')', ')', ')', ')', ')', ')', ')', ')', ')', ')', ')', ')', ')', ')', ')', ')', ')', ')', ')', ')', ')', ')', ')', ')', ')', ')', ')', ')', ')', ')', ')', ')', ')', ')', ')', ')', ')', ')', ')', ')', ')', ')', ')', ')', ')', ')', ')', ')', ')', ')', ')', ')', ')', ')', ')', ')', ')', ')', ')', ')', ')', ')', ')', ')', ')', ')', ')', ')', ')', ')', ')', ')', ')', ')', ')', ')', ')', ')', ')', ')', ')', ')', '}', ')', ')', ')', ')', ')', ')', ')', '}', ')', ')', ')', ';', ')', ')', ')', ')', ')', ')', ';', '</s>']\n",
            "(Test Set) Reconstructed Summary From Source Code:  ['<s>', 'how', 'to', 'list', 'list', 'a', 'list', '</s>']\n",
            "(Test Set) Reconstructed Source Code From Summary:  ['<s>', 'List', '<', '<', '>', 'List', '>', '>', '>', '>', '>', '>', '(', ')', ')', ')', ')', ')', ')', ')', ')', ')', ')', ')', ')', ')', ')', ')', ')', ')', ')', ')', ')', ')', ')', ')', ')', ')', ')', ')', ')', ')', ')', ')', ')', ')', ')', ')', ')', ')', ')', ')', ')', ')', ')', ')', ')', ')', ')', ')', ')', ')', ')', ')', ')', ')', ')', ')', ')', ')', ')', ')', ')', ')', ')', ')', ')', ')', ')', ')', ')', ')', ')', ')', ')', ')', ')', ')', ')', ')', ')', ')', ')', ')', ')', ')', ')', ')', ')', ')', ')', ')', ')', ')', ')', ')', ')', ')', ')', ')', ')', ')', ')', ')', ')', ')', ')', ')', ')', ')', ')', ')', ')', ')', ')', ')', ')', ')', ')', ')', ')', ')', ')', ')', ')', ')', ')', ')', ')', ')', ')', ')', ')', ')', ')', ')', ')', ')', ')', ')', ')', ')', ')', ')', ')', ')', ')', ')', ')', ')', ')', ')', ')', ')', ')', ')', ')', ')', ')', ')', ')', ')', ')', '}', ')', ')', ')', '}', '}', ')', ')', ')', ')', ')', ')', '}', '}', ')', ')', ')', '}', '}', '</s>']\n",
            "\n",
            "(Test Set) Input Summary:  ['<s>', 'creating', 'a', 'dynamic', 'variable', '</s>']\n",
            "(Test Set) Input Code:  ['<s>', 'foreach', '(', 'DataRow', 'dRow', 'in', 'dTable', '.', 'Rows', ')', '{', '<UNK>', '.', '<UNK>', 'row1', '=', 'new', '<UNK>', '.', '<UNK>', '(', ')', ';', '</s>']\n",
            "(Test Set) Reconstructed Summary:  ['<s>', 'creating', 'a', 'class', '?', '</s>']\n",
            "(Test Set) Reconstructed Source Code:  ['<s>', 'foreach', '(', 'DataGridViewRow', 'row', 'in', 'dataGridView2', '.', 'dataGridView2', ')', '{', 'if', '(', ')', '.', ')', ')', ')', ')', ')', ')', ')', ')', ')', ')', ')', ')', ')', ')', ')', ')', ')', ')', ')', ')', ')', ')', ')', ')', ')', ')', ')', ')', ')', ')', ')', ')', ')', ')', ')', ')', ')', ')', ')', ')', ')', ')', ')', ')', ')', ')', ')', ')', ')', ')', ')', ')', ')', ')', ')', ')', ')', ')', ')', ')', ')', ')', ')', ')', ')', ')', ')', ')', ')', ')', ')', ')', ')', ')', ')', ')', ')', ')', ')', ')', ')', ')', ')', ')', ')', ')', ')', ')', ')', ')', ')', ')', ')', ')', ')', ')', ')', '}', ')', '}', '</s>']\n",
            "(Test Set) Reconstructed Summary From Source Code:  ['<s>', 'get', 'selected', 'get', 'datatable', 'get', 'items', '</s>']\n",
            "(Test Set) Reconstructed Source Code From Summary:  ['<s>', 'public', 'public', 'public', '{', 'public', '{', '{', '{', '{', ')', ';', ')', ')', ')', ')', ')', ')', ')', ')', ')', ')', ')', ')', ')', ')', ')', ')', ')', ')', ')', ')', ')', ')', ')', ')', ')', ')', ')', ')', ')', ')', ')', ')', ')', ')', ')', ')', ')', ')', ')', ')', ')', ')', ')', ')', ')', ')', ')', ')', ')', ')', ')', ')', ')', ')', ')', ')', ')', ')', ')', ')', ')', ')', ')', ')', ')', ')', ')', ')', ')', ')', '}', ')', ')', ')', '}', ')', ')', ')', ')', ')', ')', ')', ')', ')', ')', ')', ')', ')', ')', ')', ')', ')', ')', ')', ')', ')', ')', ')', ')', ')', ')', ')', ')', ')', ')', ')', ')', ')', ')', ')', ')', ')', ')', ')', ')', ')', ')', ')', ')', ')', ')', '}', ')', ')', ')', ')', ')', ')', ')', '}', '}', ')', ')', ')', ')', ')', '}', ')', ')', ')', '}', '}', ')', '}', '}', '}', ')', ')', ')', ')', ')', ')', ')', ')', ')', ')', ')', ')', '}', '}', '}', '}', ')', ')', '}', '}', '}', '}', '}', ')', ')', ')', '}', '}', '}', ')', ')', ')', ';', '}', '</s>']\n",
            "\n",
            "(Test Set) Input Summary:  ['<s>', 'structuremap', '-', 'how', 'to', 'register', 'and', 'resolve', 'an', 'open', 'generic', 'type', '</s>']\n",
            "(Test Set) Input Code:  ['<s>', 'Scan', '(', 'x', '=', '>', '{', 'x', '.', '<UNK>', '(', ')', ';', 'x', '.', '<UNK>', '(', 'typeof', '(', '<UNK>', ')', ')', ';', 'x', '.', '<UNK>', '(', 'typeof', '(', 'Repository', '<', '>', ')', ')', ';', 'x', '.', '<UNK>', '(', 'typeof', '(', 'IRepository', '<', '>', ')', ')', ';', '}', ')', ';', '</s>']\n",
            "(Test Set) Reconstructed Summary:  ['<s>', 'windsor', '-', 'how', 'to', 'abstract', '</s>']\n",
            "(Test Set) Reconstructed Source Code:  ['<s>', 'IEnumerable', '.', '>', '(', '>', '>', '>', ')', ')', ')', ')', ')', ')', '(', ')', ')', ')', ')', ')', ')', ')', ')', ')', ')', ')', ')', ')', ')', ')', ')', ')', ')', ')', ')', ')', ')', ')', ')', ')', ')', ')', ')', ')', ')', ')', ')', ')', ')', ')', ')', ')', ')', ')', ')', ')', ')', ')', ')', ')', ')', ')', ')', ')', ')', ')', ')', ')', ')', ')', ')', ')', ')', ')', ')', ')', ')', ')', ')', ')', ')', ')', ')', ')', ')', ')', ')', ')', ')', ')', ')', ')', ')', ')', ')', ')', ')', ')', ')', ')', ')', ')', ')', ')', ')', ')', ')', ')', ')', ')', ')', ')', ')', ')', ')', ')', ')', ')', ')', ')', ')', ')', ')', ')', ')', ')', ')', ')', ')', ')', ')', ')', ')', ')', ')', ')', ')', ')', ')', ')', ')', ')', ')', ')', ')', ')', ')', ')', ')', ')', ')', ')', '}', ')', ')', ')', ')', '}', ')', ')', ')', ')', ')', ')', ')', ')', ')', ')', ')', ')', ')', ')', '}', ')', ')', '}', '}', '}', ')', ')', ')', ')', ')', ')', ')', ')', '}', ')', ')', '}', '</s>']\n",
            "(Test Set) Reconstructed Summary From Source Code:  ['<s>', 'how', 'to', '?', 'object', '</s>']\n",
            "(Test Set) Reconstructed Source Code From Summary:  ['<s>', 'public', 'class', 'IService', '<', 'T', '>', 'public', '>', ')', 'public', ')', 'public', 'public', ')', ')', '{', ')', ')', ')', ')', '{', ')', ')', ')', ')', ')', ')', '{', ')', '{', ')', ')', '{', '{', ')', ')', ')', ')', ')', ')', ')', ')', ')', ')', ')', ')', ')', ')', ')', ')', ')', ')', ')', ')', ')', ')', ')', ')', ')', ')', ')', ')', ')', ')', ')', ')', ')', ')', ')', ')', ')', ')', ')', ')', ')', ')', ')', ')', ')', ')', ')', ')', ')', ')', ')', ')', ')', ')', ')', ')', ')', ')', ')', ')', ')', ')', ')', ')', ')', ')', ')', ')', ')', ')', ')', ')', ')', ')', ')', ')', ')', ')', ')', ')', ')', ')', ')', ')', ')', ')', ')', ')', ')', ')', ')', ')', ')', ')', ')', ')', ')', ')', ')', ')', ')', ')', ')', ')', ')', ')', ')', ')', ')', ')', '}', '}', ')', ')', ')', ')', ')', ')', ')', ')', ')', ')', ')', ')', ')', ')', ')', ')', ')', ')', ')', ')', ')', ')', ')', ')', ')', '}', '}', '}', '}', '}', '}', '}', ')', ')', '}', ')', ')', '(', '}', '}', '</s>']\n",
            "\n",
            "(Test Set) Input Summary:  ['<s>', 'sqlbulkcopy', 'from', 'a', 'list', '<', '>', '</s>']\n",
            "(Test Set) Input Code:  ['<s>', 'SqlBulkCopy', '.', 'WriteToServer', '</s>']\n",
            "(Test Set) Reconstructed Summary:  ['<s>', 'accessibility', 'list', 'list', '<', '>', '>', '</s>']\n",
            "(Test Set) Reconstructed Source Code:  ['<s>', 'Http', '.', 'Integration', '.', '.', '.', '</s>']\n",
            "(Test Set) Reconstructed Summary From Source Code:  ['<s>', 'windows', 'windows', 'app', '</s>']\n",
            "(Test Set) Reconstructed Source Code From Summary:  ['<s>', 'List', '<', 'string', '>', 'list', '=', 'new', '>', '>', '>', '>', '(', ')', ')', ')', '(', ')', ')', ')', ')', ')', ')', ')', ')', ')', ')', ')', ')', ')', ')', ')', ')', ')', ')', ')', ')', ')', ')', ')', ')', ')', ')', ')', ')', ')', ')', ')', ')', ')', ')', ')', ')', ')', ')', ')', ')', ')', ')', ')', ')', ')', ')', ')', ')', ')', ')', ')', ')', ')', ')', ')', ')', ')', ')', ')', ')', ')', ')', ')', ')', ')', ')', ')', ')', ')', ')', ')', ')', ')', ')', ')', ')', ')', ')', ')', ')', ')', ')', ')', ')', ')', ')', ')', ')', ')', ')', ')', ')', ')', ')', ')', ')', ')', ')', ')', ')', ')', ')', ')', ')', ')', ')', ')', ')', ')', ')', ')', ')', ')', ')', ')', ')', ')', ')', ')', ')', ')', ')', ')', ')', ')', ')', ')', ')', ')', ')', ')', ')', ')', ')', ')', ')', ')', ')', ')', ')', ')', ')', ')', ')', ')', ')', ')', ')', ')', ')', ')', ')', ')', ')', ')', ')', ')', ')', ')', ')', ')', ')', ')', ')', ')', ')', ')', ')', ')', ')', ')', ')', ';', ')', ')', '}', ')', ';', '}', ';', '}', '</s>']\n",
            "\n",
            "(Test Set) Input Summary:  ['<s>', 'how', 'to', 'get', 'the', 'parameters', 'passed', 'to', 'the', 'asynchronous', 'method', 'in', 'the', 'callback', '</s>']\n",
            "(Test Set) Input Code:  ['<s>', 'var', '<UNK>', '=', '.', '.', '.', ';', 'var', 'label', '=', '.', '.', '.', ';', '<UNK>', '.', 'BeginInvoke', '(', '<UNK>', ',', 'label', ',', 'ar', '=', '>', '{', 'var', '<UNK>', '=', '<UNK>', '.', 'EndInvoke', '(', 'ar', ')', ';', 'if', '(', '<UNK>', '.', '<UNK>', ')', '{', 'label', '.', 'Text', '=', '\"', '\"', ';', '}', 'else', '{', '}', '}', ',', 'null', ')', ';', '</s>']\n",
            "(Test Set) Reconstructed Summary:  ['<s>', 'how', 'to', 'get', 'the', 'the', 'method', '?', 'a', 'superclass', '?', '?', '?', '?', '?', '</s>']\n",
            "(Test Set) Reconstructed Source Code:  ['<s>', 'var', '(', '=', '.', '.', '.', '(', ')', '.', '.', ')', ')', ')', ')', ')', ')', ')', ')', ')', ')', ')', ')', ')', ')', ')', ')', ')', ')', ')', ')', ')', ')', ')', ')', ')', ')', ')', ')', ')', ')', ')', ')', ')', ')', ')', ')', ')', ')', ')', ')', ')', ')', ')', ')', ')', ')', ')', ')', ')', ')', ')', ')', ')', ')', ')', ')', ')', ')', ')', ')', ')', ')', ')', ')', ')', ')', ')', ')', ')', ')', ')', ')', ')', ')', ')', ')', ')', ')', ')', ')', '}', ')', ')', ')', ')', ')', ')', ')', ')', ')', ')', ')', ')', ')', ')', ')', ')', ')', ')', ')', ')', ')', ')', ')', ')', '}', '}', ')', ')', ')', ')', '}', ')', ')', ')', ')', '</s>']\n",
            "(Test Set) Reconstructed Summary From Source Code:  ['<s>', 'get', 'the', 'get', 'the', 'the', '</s>']\n",
            "(Test Set) Reconstructed Source Code From Summary:  ['<s>', 'public', 'static', 'void', '(', '(', 'static', ')', ')', ')', ')', ')', ')', ')', ')', ')', ')', ')', ')', ')', ')', ')', ')', ')', ')', ')', ')', ')', ')', ')', ')', ')', ')', ')', ')', ')', ')', ')', ')', ')', ')', ')', ')', ')', ')', ')', ')', ')', ')', ')', ')', ')', ')', ')', ')', ')', ')', ')', ')', ')', ')', ')', ')', ')', ')', ')', ')', ')', ')', ')', ')', ')', ')', ')', ')', ')', ')', ')', ')', ')', ')', ')', '}', ')', ')', ')', ')', ')', ')', ')', ')', ')', ')', ')', ')', ')', ')', ')', ')', ')', ')', ')', ')', ')', ')', ')', ')', ')', ')', ')', ')', ')', ')', ')', ')', ')', ')', '}', ')', ')', ')', ')', ')', ')', ')', ')', ')', '}', ')', ')', ')', ')', ')', ')', ')', ')', ')', ')', ')', ')', '}', '}', '}', ')', ')', ')', ')', ')', '}', '}', ')', ')', '}', ')', ')', ')', ')', '}', '}', ')', ')', ')', ')', ')', ')', ')', ')', ')', '}', '}', '}', '}', '}', '}', ';', '}', '}', '}', '}', '}', '}', '}', '}', '}', '}', '}', '}', '}', '}', '</s>']\n",
            "\n",
            "(Test Set) Input Summary:  ['<s>', 'wmi', 'escape', 'characters', 'on', 'string', 'variable', 'programatically', '</s>']\n",
            "(Test Set) Input Code:  ['<s>', 'ManagementObject', '<UNK>', '=', 'new', 'ManagementObjectSearcher', '(', 'String', '.', 'Format', '(', '\"', 'select', '*', 'from', '<UNK>', 'where', 'DeviceID', '=', \"'\", '{', '0', '}', \"'\", '\"', ',', '@', 'device', '[', '\"', 'DeviceID', '\"', ']', '.', 'ToString', '(', ')', '.', 'Replace', '(', '\"', '\\\\', '\\\\', '\"', ',', '\"', '\\\\', '\\\\', '\\\\', '\\\\', '\"', ')', ')', ')', '.', 'First', '(', ')', ';', '</s>']\n",
            "(Test Set) Reconstructed Summary:  ['<s>', 'german', 'german', 'characters', '</s>']\n",
            "(Test Set) Reconstructed Source Code:  ['<s>', 'var', 'query', '=', 'new', 'myRegex', '(', '\"', ';', '\"', '.', '\"', '(', '\"', '\"', '\"', '\"', '\"', '\"', '\"', '\"', '\"', '\"', '\"', '\"', '\"', '\"', '\"', ')', '\"', ')', '\"', '\"', '\"', ')', ')', ')', '\"', ')', ')', ')', '\"', ')', '\"', ')', ')', ')', ')', ')', ')', ')', ')', ')', ')', ')', ')', ')', ')', ')', ')', ')', ')', ')', ')', ')', ')', ')', ')', ')', ')', ')', ')', ')', ')', ')', ')', ')', ')', ')', ')', ')', ')', ')', ')', ')', ')', ')', ')', ')', ')', ')', ')', ')', ')', ')', ')', ')', ')', ')', ')', ')', ')', ')', ')', ')', ')', ')', ')', ')', ')', ')', ')', ')', ')', ')', ')', ')', ')', ')', ')', ')', ')', ')', ')', ')', ')', ')', ')', ')', ')', ')', ')', ')', ')', ')', ')', ')', '.', ')', ')', ')', ')', ')', ')', ')', ')', ')', ')', ')', ')', ')', ')', ')', ')', ')', ')', ')', ')', ')', ')', ')', ')', ')', ')', ')', '.', ')', ')', ')', ')', ')', ')', ')', ')', ')', ')', ')', '}', '}', '</s>']\n",
            "(Test Set) Reconstructed Summary From Source Code:  ['<s>', 'regex', '</s>']\n",
            "(Test Set) Reconstructed Source Code From Summary:  ['<s>', 'string', '.', '=', '(', '\"', '(', ')', ')', ')', '1', ')', ')', ')', ')', ')', ')', ')', ')', ')', ')', ')', ')', ')', ')', ')', ')', ')', ')', ')', ')', ')', ')', ')', ')', ')', ')', ')', ')', ')', ')', ')', ')', ')', ')', ')', ')', ')', ')', ')', ')', ')', ')', ')', ')', ')', ')', ')', ')', ')', ')', ')', ')', ')', ')', ')', ')', ')', ')', ')', ')', ')', ')', ')', ')', ')', ')', ')', ')', ')', ')', ')', ')', ')', ')', ')', ')', ')', ')', ')', ')', ')', ')', ')', ')', ')', ')', ')', ')', ')', ')', ')', ')', ')', ')', ')', ')', ')', ')', ')', ')', ')', ')', ')', ')', ')', ')', ')', ')', ')', ')', ')', ')', ')', ')', ')', ')', ')', ')', ')', ')', ')', ')', ')', ')', ')', ')', ')', ')', ')', ')', ')', ')', ')', ')', ')', ')', ')', ')', ')', ')', ')', ')', ')', ')', '}', ')', ')', ')', ')', ')', ')', '}', ')', ')', ')', ')', ')', ')', ')', ')', ')', ')', ')', ')', ')', '}', ')', ')', ';', ')', ')', ')', ')', ')', ')', ')', '</s>']\n",
            "\n",
            "(Test Set) Input Summary:  ['<s>', 'detect', 'whether', 'button', 'was', 'right', 'or', 'left', 'clicked', '</s>']\n",
            "(Test Set) Input Code:  ['<s>', 'var', 'btn', '=', 'new', 'Button', '(', ')', ';', 'btn', '.', 'Text', '=', '\"', '<UNK>', '\"', ';', 'btn', '.', 'MouseDown', '+', '=', '(', '(', 'o', ',', 'e', ')', '=', '>', '{', 'MessageBox', '.', 'Show', '(', 'e', '.', 'Button', '.', 'ToString', '(', ')', ')', ';', '}', ')', ';', '</s>']\n",
            "(Test Set) Reconstructed Summary:  ['<s>', 'detect', 'click', 'button', 'click', 'click', '?', 'button', 'button', '</s>']\n",
            "(Test Set) Reconstructed Source Code:  ['<s>', 'MenuItem', 'tabPage', '=', 'new', 'HttpClientHandler', '(', ')', ';', 'menuItem', '.', '=', '=', 'Add', '(', ')', ';', ';', '.', ')', ')', ')', ')', ')', ')', ')', ')', ')', ')', ')', ')', ')', ')', ')', ')', ')', ')', ')', ')', ')', ')', ')', ')', ')', ')', ')', ')', ')', ')', ')', ')', ')', ')', ';', ')', ')', ')', ')', ')', ')', ')', ')', ')', ')', ')', ')', ')', ')', ')', ')', ')', ')', ')', ')', ')', ')', ')', ')', ')', ')', ')', ')', ')', ')', ')', ')', ')', ')', ';', ')', ')', ')', ')', ')', ')', ')', ')', ';', ')', ')', ')', ')', ')', ')', ')', ')', ';', ')', ')', ')', ')', ';', ')', ')', ')', ')', ')', ';', ';', ')', ')', ')', ')', ')', ';', ')', ')', ')', '.', ')', ';', ')', '.', ')', ')', ')', ')', ';', ')', ';', '.', '.', ')', ')', ')', ')', ')', ')', '.', ';', '.', ')', ')', ')', ')', ';', ')', '.', ')', ')', ')', ';', '.', ')', '.', '.', '.', ')', '(', '(', ')', ')', ';', ')', ';', ')', ';', '</s>']\n",
            "(Test Set) Reconstructed Summary From Source Code:  ['<s>', 'add', 'to', 'to', 'control', 'wpf', 'wpf', '</s>']\n",
            "(Test Set) Reconstructed Source Code From Summary:  ['<s>', 'private', 'void', 'void', '(', 'object', 'sender', ',', 'e', 'e', ')', '{', 'if', '(', 'e', ')', 'if', ')', '=', 'if', ')', ')', ')', 'if', 'if', 'if', 'if', ')', ')', ')', 'if', ')', ')', ')', ')', 'if', ')', 'if', ')', 'if', 'if', 'if', 'if', ')', 'if', 'if', 'if', 'if', ')', 'if', 'if', ')', 'if', 'if', 'if', 'if', 'if', ')', 'if', ')', ')', ')', ')', ')', 'if', ')', '}', ')', ')', ')', ')', 'if', ')', 'if', 'if', ')', 'if', 'if', '}', 'if', '}', ')', ')', ')', ')', ')', ')', 'if', 'else', ')', ')', ')', 'else', '}', ')', '}', '}', '}', ')', ')', 'if', 'if', ')', 'if', ')', ')', 'if', 'if', ')', 'if', ')', ')', 'else', 'if', '}', '}', '}', ')', ')', 'if', '}', '}', 'else', 'if', 'if', '}', 'if', '}', '}', ')', ')', ')', 'if', ')', ')', 'if', '}', '}', '}', '}', ')', ')', '}', ')', ')', ')', ')', ')', '}', 'else', '}', '}', 'else', '}', '}', '}', '}', '}', '}', ')', ')', ')', ')', '(', 'if', '}', '}', '}', ')', ')', 'the', 'else', 'else', ')', '}', '}', '}', 'here', 'to', 'and', 'you', 'else', '}', '</s>']\n",
            "\n",
            "(Test Set) Input Summary:  ['<s>', 'how', 'to', 'disable', 'all', 'resize', '<UNK>', 'for', 'a', 'window', '?', '</s>']\n",
            "(Test Set) Input Code:  ['<s>', 'public', 'partial', 'class', 'Form1', ':', 'Form', '{', 'public', 'Form1', '(', ')', '{', 'InitializeComponent', '(', ')', ';', 'this', '.', 'Resize', '+', '=', 'new', 'EventHandler', '(', 'Form1_Resize', ')', ';', '}', 'void', 'Form1_Resize', '(', 'object', 'sender', ',', 'EventArgs', 'e', ')', '{', 'if', '(', 'WindowState', '=', '=', 'FormWindowState', '.', 'Minimized', ')', '{', 'this', '.', 'WindowState', '=', 'FormWindowState', '.', 'Normal', ';', '}', '}', '}', '</s>']\n",
            "(Test Set) Reconstructed Summary:  ['<s>', 'how', 'to', 'close', 'the', 'maximize', 'button', '</s>']\n",
            "(Test Set) Reconstructed Source Code:  ['<s>', 'public', 'partial', 'class', 'Form1', ':', 'Form', '{', 'public', 'Form1', '(', ')', '{', 'InitializeComponent', '(', ')', ';', 'void', 'void', 'void', ')', ')', ')', 'void', ')', 'void', ')', ')', ')', 'void', ')', ')', ')', ')', 'void', ')', ')', ')', ')', ')', ')', ')', ')', ')', ')', ')', ')', ')', ')', ')', ')', ')', ')', ')', ')', ')', ')', ')', ')', ')', ')', ')', ')', ')', ')', ')', ')', ')', ')', ')', ')', ')', ')', '{', ')', ')', ')', ')', ')', ')', ')', ')', ')', ')', ')', ')', ')', ')', ')', ')', ')', ')', ')', ')', ')', ')', ')', ')', ')', ')', ')', ')', ')', ')', ')', ')', ')', ')', ')', ')', ')', ')', ')', ')', ')', ')', ')', ')', ')', '}', ')', ')', ')', ')', ')', ')', ')', ')', ')', ')', ')', ')', ')', ')', ')', ')', ')', '}', ')', '}', '}', '}', '}', '}', ')', ')', ')', ')', ';', ')', ')', '}', '</s>']\n",
            "(Test Set) Reconstructed Summary From Source Code:  ['<s>', 'wpf', 'wpf', 'wpf', '?', 'wpf', 'wpf', 'wpf', '?', 'wpf', 'wpf', 'wpf', '</s>']\n",
            "(Test Set) Reconstructed Source Code From Summary:  ['<s>', 'private', '.', '=', ')', '{', '(', ')', ')', ')', '.', ')', ')', ')', ')', ')', ')', ')', ')', ')', ')', ')', ')', ')', ')', ')', ')', ')', ')', ')', ')', ')', ')', ')', ')', ')', ')', ')', ')', ')', ')', ')', ')', ')', ')', ')', ')', ')', ')', ')', ')', ')', ')', ')', ')', ')', ')', ')', ')', ')', ')', ')', ')', ')', ')', ')', ')', ')', ')', ')', ')', ')', ')', ')', ')', ')', ')', ')', ')', ')', ')', ')', ')', ')', ')', ')', ')', ')', ')', ')', ')', ')', ')', ')', ')', ')', ')', ')', ')', ')', ')', ')', ')', ')', ')', ')', ')', ')', ')', ')', ')', ')', ')', ')', ')', ')', ')', ')', ')', ')', ')', ')', ')', ')', ')', ')', ')', ')', ')', ')', ')', ')', ')', ')', ')', ')', ')', ')', ')', ')', ')', ';', ')', ')', ')', ')', ')', ')', ')', ')', '.', ')', ')', '.', ')', ';', '.', 'this', ')', ')', ')', ';', ')', ')', '.', ')', '.', ')', ')', '.', ')', ';', '}', '}', ';', ')', ';', '</s>']\n",
            "\n"
          ],
          "name": "stdout"
        }
      ]
    },
    {
      "cell_type": "code",
      "metadata": {
        "id": "dO0zNOdTG39t",
        "colab_type": "code",
        "colab": {
          "base_uri": "https://localhost:8080/",
          "height": 248
        },
        "outputId": "1aca19a2-b881-4285-bc70-5d45eb86b579"
      },
      "source": [
        "language_wv.similar_by_vector(rec_summary[0,3])"
      ],
      "execution_count": 10,
      "outputs": [
        {
          "output_type": "stream",
          "text": [
            "/usr/local/lib/python3.6/dist-packages/gensim/matutils.py:737: FutureWarning: Conversion of the second argument of issubdtype from `int` to `np.signedinteger` is deprecated. In future, it will be treated as `np.int64 == np.dtype(int).type`.\n",
            "  if np.issubdtype(vec.dtype, np.int):\n"
          ],
          "name": "stderr"
        },
        {
          "output_type": "execute_result",
          "data": {
            "text/plain": [
              "[('close', 0.7305201888084412),\n",
              " ('move', 0.7292052507400513),\n",
              " ('disable', 0.7239173650741577),\n",
              " ('maximize', 0.719390869140625),\n",
              " ('button', 0.7160022854804993),\n",
              " ('shutdown', 0.694292426109314),\n",
              " ('focus', 0.6900403499603271),\n",
              " ('resize', 0.6737217903137207),\n",
              " ('window', 0.671488344669342),\n",
              " ('panel', 0.663070797920227)]"
            ]
          },
          "metadata": {
            "tags": []
          },
          "execution_count": 10
        }
      ]
    },
    {
      "cell_type": "code",
      "metadata": {
        "id": "RdmIwaSWSlq3",
        "colab_type": "code",
        "colab": {}
      },
      "source": [
        ""
      ],
      "execution_count": 0,
      "outputs": []
    }
  ]
}