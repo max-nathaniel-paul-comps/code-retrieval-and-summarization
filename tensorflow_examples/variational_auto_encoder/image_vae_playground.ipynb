{
 "cells": [
  {
   "cell_type": "code",
   "execution_count": 1,
   "metadata": {
    "pycharm": {
     "is_executing": false
    }
   },
   "outputs": [],
   "source": [
    "import tensorflow as tf\n",
    "import numpy as np\n",
    "(x_train, _), (x_test, _) = tf.keras.datasets.mnist.load_data()\n",
    "x_train = x_train.astype('float32') / 255.0\n",
    "x_test = x_test.astype('float32') / 255.0\n",
    "\n",
    "input_x_dim = x_train.shape[1]\n",
    "input_y_dim = x_train.shape[2]\n",
    "input_dim = input_x_dim * input_y_dim\n",
    "\n",
    "x_train = np.reshape(x_train, (len(x_train), input_dim))\n",
    "x_test = np.reshape(x_test, (len(x_test), input_dim))\n",
    "\n",
    "hidden_code_dim = 16"
   ]
  },
  {
   "cell_type": "code",
   "execution_count": 2,
   "metadata": {
    "pycharm": {
     "is_executing": false,
     "name": "#%%\n"
    }
   },
   "outputs": [],
   "source": [
    "from mlp_vae import MLPVariationalAutoEncoder"
   ]
  },
  {
   "cell_type": "code",
   "execution_count": 3,
   "metadata": {
    "pycharm": {
     "is_executing": false
    }
   },
   "outputs": [],
   "source": [
    "model = MLPVariationalAutoEncoder(input_dim, hidden_code_dim, [512, 128])\n",
    "model.compile(optimizer=tf.keras.optimizers.Adam(learning_rate=0.001), loss='mean_squared_error')"
   ]
  },
  {
   "cell_type": "code",
   "execution_count": 4,
   "metadata": {
    "pycharm": {
     "is_executing": false
    }
   },
   "outputs": [
    {
     "name": "stdout",
     "output_type": "stream",
     "text": [
      "Train on 60000 samples, validate on 10000 samples\n",
      "Epoch 1/120\n",
      "60000/60000 [==============================] - 3s 47us/sample - loss: 0.1205 - val_loss: 0.0631\n",
      "Epoch 2/120\n",
      "60000/60000 [==============================] - 1s 16us/sample - loss: 0.0530 - val_loss: 0.0562\n",
      "Epoch 3/120\n",
      "60000/60000 [==============================] - 1s 18us/sample - loss: 0.0447 - val_loss: 0.0526\n",
      "Epoch 4/120\n",
      "60000/60000 [==============================] - 1s 16us/sample - loss: 0.0391 - val_loss: 0.0491\n",
      "Epoch 5/120\n",
      "60000/60000 [==============================] - 1s 16us/sample - loss: 0.0352 - val_loss: 0.0442\n",
      "Epoch 6/120\n",
      "60000/60000 [==============================] - 1s 16us/sample - loss: 0.0321 - val_loss: 0.0428\n",
      "Epoch 7/120\n",
      "60000/60000 [==============================] - 1s 15us/sample - loss: 0.0298 - val_loss: 0.0421\n",
      "Epoch 8/120\n",
      "60000/60000 [==============================] - 1s 15us/sample - loss: 0.0276 - val_loss: 0.0383\n",
      "Epoch 9/120\n",
      "60000/60000 [==============================] - 1s 17us/sample - loss: 0.0259 - val_loss: 0.0378\n",
      "Epoch 10/120\n",
      "60000/60000 [==============================] - 1s 16us/sample - loss: 0.0246 - val_loss: 0.0366\n",
      "Epoch 11/120\n",
      "60000/60000 [==============================] - 1s 16us/sample - loss: 0.0232 - val_loss: 0.0353\n",
      "Epoch 12/120\n",
      "60000/60000 [==============================] - 1s 16us/sample - loss: 0.0225 - val_loss: 0.0342\n",
      "Epoch 13/120\n",
      "60000/60000 [==============================] - 1s 17us/sample - loss: 0.0219 - val_loss: 0.0342\n",
      "Epoch 14/120\n",
      "60000/60000 [==============================] - 1s 16us/sample - loss: 0.0208 - val_loss: 0.0326\n",
      "Epoch 15/120\n",
      "60000/60000 [==============================] - 1s 18us/sample - loss: 0.0202 - val_loss: 0.0316\n",
      "Epoch 16/120\n",
      "60000/60000 [==============================] - 1s 16us/sample - loss: 0.0199 - val_loss: 0.0319\n",
      "Epoch 17/120\n",
      "60000/60000 [==============================] - 1s 15us/sample - loss: 0.0194 - val_loss: 0.0315\n",
      "Epoch 18/120\n",
      "60000/60000 [==============================] - 1s 16us/sample - loss: 0.0189 - val_loss: 0.0318\n",
      "Epoch 19/120\n",
      "60000/60000 [==============================] - 1s 15us/sample - loss: 0.0192 - val_loss: 0.0308\n",
      "Epoch 20/120\n",
      "60000/60000 [==============================] - 1s 15us/sample - loss: 0.0184 - val_loss: 0.0306\n",
      "Epoch 21/120\n",
      "60000/60000 [==============================] - 1s 15us/sample - loss: 0.0179 - val_loss: 0.0294\n",
      "Epoch 22/120\n",
      "60000/60000 [==============================] - 1s 16us/sample - loss: 0.0175 - val_loss: 0.0295\n",
      "Epoch 23/120\n",
      "60000/60000 [==============================] - 1s 15us/sample - loss: 0.0169 - val_loss: 0.0290\n",
      "Epoch 24/120\n",
      "60000/60000 [==============================] - 1s 16us/sample - loss: 0.0171 - val_loss: 0.0285\n",
      "Epoch 25/120\n",
      "60000/60000 [==============================] - 1s 15us/sample - loss: 0.0170 - val_loss: 0.0284\n",
      "Epoch 26/120\n",
      "60000/60000 [==============================] - 1s 16us/sample - loss: 0.0168 - val_loss: 0.0294\n",
      "Epoch 27/120\n",
      "60000/60000 [==============================] - 1s 16us/sample - loss: 0.0164 - val_loss: 0.0284\n",
      "Epoch 28/120\n",
      "60000/60000 [==============================] - 1s 17us/sample - loss: 0.0164 - val_loss: 0.0291\n",
      "Epoch 29/120\n",
      "60000/60000 [==============================] - 1s 15us/sample - loss: 0.0161 - val_loss: 0.0278\n",
      "Epoch 30/120\n",
      "60000/60000 [==============================] - 1s 15us/sample - loss: 0.0156 - val_loss: 0.0279\n",
      "Epoch 31/120\n",
      "60000/60000 [==============================] - 1s 16us/sample - loss: 0.0156 - val_loss: 0.0286\n",
      "Epoch 32/120\n",
      "60000/60000 [==============================] - 1s 16us/sample - loss: 0.0155 - val_loss: 0.0278\n",
      "Epoch 33/120\n",
      "60000/60000 [==============================] - 1s 16us/sample - loss: 0.0154 - val_loss: 0.0275\n",
      "Epoch 34/120\n",
      "60000/60000 [==============================] - 1s 16us/sample - loss: 0.0151 - val_loss: 0.0269\n",
      "Epoch 35/120\n",
      "60000/60000 [==============================] - 1s 16us/sample - loss: 0.0149 - val_loss: 0.0274\n",
      "Epoch 36/120\n",
      "60000/60000 [==============================] - 1s 16us/sample - loss: 0.0150 - val_loss: 0.0275\n",
      "Epoch 37/120\n",
      "60000/60000 [==============================] - 1s 16us/sample - loss: 0.0148 - val_loss: 0.0272\n",
      "Epoch 38/120\n",
      "60000/60000 [==============================] - 1s 16us/sample - loss: 0.0145 - val_loss: 0.0287\n",
      "Epoch 39/120\n",
      "60000/60000 [==============================] - 1s 17us/sample - loss: 0.0148 - val_loss: 0.0266\n",
      "Epoch 40/120\n",
      "60000/60000 [==============================] - 1s 15us/sample - loss: 0.0147 - val_loss: 0.0260\n",
      "Epoch 41/120\n",
      "60000/60000 [==============================] - 1s 15us/sample - loss: 0.0145 - val_loss: 0.0267\n",
      "Epoch 42/120\n",
      "60000/60000 [==============================] - 1s 16us/sample - loss: 0.0141 - val_loss: 0.0270\n",
      "Epoch 43/120\n",
      "60000/60000 [==============================] - 1s 16us/sample - loss: 0.0140 - val_loss: 0.0272\n",
      "Epoch 44/120\n",
      "60000/60000 [==============================] - 1s 15us/sample - loss: 0.0143 - val_loss: 0.0272\n",
      "Epoch 45/120\n",
      "60000/60000 [==============================] - 1s 16us/sample - loss: 0.0144 - val_loss: 0.0271\n",
      "Epoch 46/120\n",
      "60000/60000 [==============================] - 1s 15us/sample - loss: 0.0137 - val_loss: 0.0262\n",
      "Epoch 47/120\n",
      "60000/60000 [==============================] - 1s 16us/sample - loss: 0.0139 - val_loss: 0.0259\n",
      "Epoch 48/120\n",
      "60000/60000 [==============================] - 1s 16us/sample - loss: 0.0138 - val_loss: 0.0262\n",
      "Epoch 49/120\n",
      "60000/60000 [==============================] - 1s 16us/sample - loss: 0.0139 - val_loss: 0.0256\n",
      "Epoch 50/120\n",
      "60000/60000 [==============================] - 1s 16us/sample - loss: 0.0137 - val_loss: 0.0260\n",
      "Epoch 51/120\n",
      "60000/60000 [==============================] - 1s 16us/sample - loss: 0.0138 - val_loss: 0.0260\n",
      "Epoch 52/120\n",
      "60000/60000 [==============================] - 1s 16us/sample - loss: 0.0137 - val_loss: 0.0261\n",
      "Epoch 53/120\n",
      "60000/60000 [==============================] - 1s 16us/sample - loss: 0.0135 - val_loss: 0.0263\n",
      "Epoch 54/120\n",
      "60000/60000 [==============================] - 1s 21us/sample - loss: 0.0131 - val_loss: 0.0259\n",
      "Epoch 55/120\n",
      "60000/60000 [==============================] - 1s 19us/sample - loss: 0.0134 - val_loss: 0.0256\n",
      "Epoch 56/120\n",
      "60000/60000 [==============================] - 1s 19us/sample - loss: 0.0132 - val_loss: 0.0259\n",
      "Epoch 57/120\n",
      "60000/60000 [==============================] - 1s 21us/sample - loss: 0.0135 - val_loss: 0.0256\n",
      "Epoch 58/120\n",
      "60000/60000 [==============================] - 1s 20us/sample - loss: 0.0137 - val_loss: 0.0265\n",
      "Epoch 59/120\n",
      "60000/60000 [==============================] - 1s 19us/sample - loss: 0.0131 - val_loss: 0.0248\n",
      "Epoch 60/120\n",
      "60000/60000 [==============================] - 1s 17us/sample - loss: 0.0130 - val_loss: 0.0261\n",
      "Epoch 61/120\n",
      "60000/60000 [==============================] - 1s 18us/sample - loss: 0.0127 - val_loss: 0.0251\n",
      "Epoch 62/120\n",
      "60000/60000 [==============================] - 1s 18us/sample - loss: 0.0129 - val_loss: 0.0251\n",
      "Epoch 63/120\n",
      "60000/60000 [==============================] - 1s 18us/sample - loss: 0.0129 - val_loss: 0.0253\n",
      "Epoch 64/120\n",
      "60000/60000 [==============================] - 1s 19us/sample - loss: 0.0130 - val_loss: 0.0251\n",
      "Epoch 65/120\n",
      "60000/60000 [==============================] - 1s 18us/sample - loss: 0.0126 - val_loss: 0.0261\n",
      "Epoch 66/120\n",
      "60000/60000 [==============================] - 1s 18us/sample - loss: 0.0127 - val_loss: 0.0254\n",
      "Epoch 67/120\n",
      "60000/60000 [==============================] - 1s 18us/sample - loss: 0.0126 - val_loss: 0.0251\n",
      "Epoch 68/120\n",
      "60000/60000 [==============================] - 1s 17us/sample - loss: 0.0124 - val_loss: 0.0249\n",
      "Epoch 69/120\n",
      "60000/60000 [==============================] - 1s 18us/sample - loss: 0.0125 - val_loss: 0.0244\n",
      "Epoch 70/120\n",
      "60000/60000 [==============================] - 1s 19us/sample - loss: 0.0125 - val_loss: 0.0253\n",
      "Epoch 71/120\n",
      "60000/60000 [==============================] - 1s 18us/sample - loss: 0.0126 - val_loss: 0.0261\n",
      "Epoch 72/120\n",
      "60000/60000 [==============================] - 1s 18us/sample - loss: 0.0125 - val_loss: 0.0261\n",
      "Epoch 73/120\n",
      "60000/60000 [==============================] - 1s 17us/sample - loss: 0.0126 - val_loss: 0.0256\n",
      "Epoch 74/120\n",
      "60000/60000 [==============================] - 1s 18us/sample - loss: 0.0125 - val_loss: 0.0250\n",
      "Epoch 75/120\n",
      "60000/60000 [==============================] - 1s 18us/sample - loss: 0.0123 - val_loss: 0.0258\n"
     ]
    },
    {
     "name": "stdout",
     "output_type": "stream",
     "text": [
      "Epoch 76/120\n",
      "60000/60000 [==============================] - 1s 17us/sample - loss: 0.0126 - val_loss: 0.0248\n",
      "Epoch 77/120\n",
      "60000/60000 [==============================] - 1s 18us/sample - loss: 0.0123 - val_loss: 0.0244\n",
      "Epoch 78/120\n",
      "60000/60000 [==============================] - 1s 18us/sample - loss: 0.0123 - val_loss: 0.0247\n",
      "Epoch 79/120\n",
      "60000/60000 [==============================] - 1s 18us/sample - loss: 0.0121 - val_loss: 0.0253\n",
      "Epoch 80/120\n",
      "60000/60000 [==============================] - 1s 18us/sample - loss: 0.0123 - val_loss: 0.0249\n",
      "Epoch 81/120\n",
      "60000/60000 [==============================] - 1s 18us/sample - loss: 0.0119 - val_loss: 0.0251\n",
      "Epoch 82/120\n",
      "60000/60000 [==============================] - 1s 18us/sample - loss: 0.0123 - val_loss: 0.0254\n",
      "Epoch 83/120\n",
      "60000/60000 [==============================] - 1s 17us/sample - loss: 0.0120 - val_loss: 0.0244\n",
      "Epoch 84/120\n",
      "60000/60000 [==============================] - 1s 18us/sample - loss: 0.0119 - val_loss: 0.0249\n",
      "Epoch 85/120\n",
      "60000/60000 [==============================] - 1s 17us/sample - loss: 0.0120 - val_loss: 0.0251\n",
      "Epoch 86/120\n",
      "60000/60000 [==============================] - 1s 16us/sample - loss: 0.0121 - val_loss: 0.0249\n",
      "Epoch 87/120\n",
      "60000/60000 [==============================] - 1s 16us/sample - loss: 0.0118 - val_loss: 0.0255\n",
      "Epoch 88/120\n",
      "60000/60000 [==============================] - 1s 15us/sample - loss: 0.0122 - val_loss: 0.0246\n",
      "Epoch 89/120\n",
      "60000/60000 [==============================] - 1s 16us/sample - loss: 0.0118 - val_loss: 0.0248\n",
      "Epoch 90/120\n",
      "60000/60000 [==============================] - 1s 15us/sample - loss: 0.0120 - val_loss: 0.0242\n",
      "Epoch 91/120\n",
      "60000/60000 [==============================] - 1s 15us/sample - loss: 0.0117 - val_loss: 0.0249\n",
      "Epoch 92/120\n",
      "60000/60000 [==============================] - 1s 16us/sample - loss: 0.0120 - val_loss: 0.0246\n",
      "Epoch 93/120\n",
      "60000/60000 [==============================] - 1s 16us/sample - loss: 0.0115 - val_loss: 0.0243\n",
      "Epoch 94/120\n",
      "60000/60000 [==============================] - 1s 16us/sample - loss: 0.0113 - val_loss: 0.0255\n",
      "Epoch 95/120\n",
      "60000/60000 [==============================] - 1s 15us/sample - loss: 0.0114 - val_loss: 0.0246\n",
      "Epoch 96/120\n",
      "60000/60000 [==============================] - 1s 16us/sample - loss: 0.0116 - val_loss: 0.0249\n",
      "Epoch 97/120\n",
      "60000/60000 [==============================] - 1s 15us/sample - loss: 0.0118 - val_loss: 0.0252\n",
      "Epoch 98/120\n",
      "60000/60000 [==============================] - 1s 16us/sample - loss: 0.0118 - val_loss: 0.0243\n",
      "Epoch 99/120\n",
      "60000/60000 [==============================] - 1s 15us/sample - loss: 0.0117 - val_loss: 0.0251\n",
      "Epoch 100/120\n",
      "60000/60000 [==============================] - 1s 15us/sample - loss: 0.0114 - val_loss: 0.0245\n",
      "Epoch 101/120\n",
      "60000/60000 [==============================] - 1s 16us/sample - loss: 0.0113 - val_loss: 0.0246\n",
      "Epoch 102/120\n",
      "60000/60000 [==============================] - 1s 16us/sample - loss: 0.0115 - val_loss: 0.0250\n",
      "Epoch 103/120\n",
      "60000/60000 [==============================] - 1s 15us/sample - loss: 0.0118 - val_loss: 0.0247\n",
      "Epoch 104/120\n",
      "60000/60000 [==============================] - 1s 15us/sample - loss: 0.0114 - val_loss: 0.0249\n",
      "Epoch 105/120\n",
      "60000/60000 [==============================] - 1s 16us/sample - loss: 0.0116 - val_loss: 0.0242\n",
      "Epoch 106/120\n",
      "60000/60000 [==============================] - 1s 15us/sample - loss: 0.0117 - val_loss: 0.0247\n",
      "Epoch 107/120\n",
      "60000/60000 [==============================] - 1s 16us/sample - loss: 0.0114 - val_loss: 0.0248\n",
      "Epoch 108/120\n",
      "60000/60000 [==============================] - 1s 17us/sample - loss: 0.0117 - val_loss: 0.0241\n",
      "Epoch 109/120\n",
      "60000/60000 [==============================] - 1s 19us/sample - loss: 0.0111 - val_loss: 0.0239\n",
      "Epoch 110/120\n",
      "60000/60000 [==============================] - 1s 17us/sample - loss: 0.0110 - val_loss: 0.0250\n",
      "Epoch 111/120\n",
      "60000/60000 [==============================] - 1s 17us/sample - loss: 0.0112 - val_loss: 0.0249\n",
      "Epoch 112/120\n",
      "60000/60000 [==============================] - 1s 17us/sample - loss: 0.0110 - val_loss: 0.0242\n",
      "Epoch 113/120\n",
      "60000/60000 [==============================] - 1s 17us/sample - loss: 0.0112 - val_loss: 0.0248\n",
      "Epoch 114/120\n",
      "60000/60000 [==============================] - 1s 17us/sample - loss: 0.0113 - val_loss: 0.0248\n",
      "Epoch 115/120\n",
      "60000/60000 [==============================] - 1s 18us/sample - loss: 0.0111 - val_loss: 0.0246\n",
      "Epoch 116/120\n",
      "60000/60000 [==============================] - 1s 17us/sample - loss: 0.0111 - val_loss: 0.0242\n",
      "Epoch 117/120\n",
      "60000/60000 [==============================] - 1s 17us/sample - loss: 0.0110 - val_loss: 0.0241\n",
      "Epoch 118/120\n",
      "60000/60000 [==============================] - 1s 16us/sample - loss: 0.0112 - val_loss: 0.0246\n",
      "Epoch 119/120\n",
      "60000/60000 [==============================] - 1s 17us/sample - loss: 0.0109 - val_loss: 0.0247\n",
      "Epoch 120/120\n",
      "60000/60000 [==============================] - 1s 18us/sample - loss: 0.0111 - val_loss: 0.0252\n"
     ]
    }
   ],
   "source": [
    "history = model.fit(x_train, x_train, batch_size=1024, epochs=120, verbose=1, validation_data=(x_test, x_test), shuffle=True)"
   ]
  },
  {
   "cell_type": "code",
   "execution_count": 5,
   "metadata": {
    "pycharm": {
     "is_executing": false
    }
   },
   "outputs": [],
   "source": [
    "import matplotlib.pyplot as plt\n",
    "import random"
   ]
  },
  {
   "cell_type": "code",
   "execution_count": 6,
   "metadata": {
    "pycharm": {
     "is_executing": false
    }
   },
   "outputs": [
    {
     "data": {
      "image/png": "[encoded data removed]",
      "text/plain": [
       "<Figure size 432x288 with 3 Axes>"
      ]
     },
     "metadata": {
      "needs_background": "light"
     },
     "output_type": "display_data"
    },
    {
     "data": {
      "image/png": "[encoded data removed]",
      "text/plain": [
       "<Figure size 432x288 with 3 Axes>"
      ]
     },
     "metadata": {
      "needs_background": "light"
     },
     "output_type": "display_data"
    },
    {
     "data": {
      "image/png": "[encoded data removed]",
      "text/plain": [
       "<Figure size 432x288 with 3 Axes>"
      ]
     },
     "metadata": {
      "needs_background": "light"
     },
     "output_type": "display_data"
    },
    {
     "data": {
      "image/png": "[encoded data removed]",
      "text/plain": [
       "<Figure size 432x288 with 3 Axes>"
      ]
     },
     "metadata": {
      "needs_background": "light"
     },
     "output_type": "display_data"
    }
   ],
   "source": [
    "for _ in range(4):\n",
    "    plt.subplot(1, 3, 1)\n",
    "    plt.title(\"Input Image\")\n",
    "    test_case = x_test[random.randrange(x_test.shape[0])]\n",
    "    test_case_img = np.reshape(test_case, (1, input_x_dim, input_y_dim))[0] * 255.0\n",
    "    plt.imshow(test_case_img, cmap='Greys')\n",
    "\n",
    "    plt.subplot(1, 3, 2)\n",
    "    plt.title(\"Hidden Representation\")\n",
    "    encoded_dist = model.encode(np.array([test_case]))\n",
    "    encoded = encoded_dist.sample()\n",
    "    # The reshape command makes the 16-long hidden code by 4x4\n",
    "    # so we can see it alongside the input and output\n",
    "    encoded_img = np.reshape(tf.nn.sigmoid(encoded), (1, 4, 4))[0] * 255.0\n",
    "    plt.imshow(encoded_img, cmap='Greys')\n",
    "\n",
    "    plt.subplot(1, 3, 3)\n",
    "    plt.title(\"Output Image\")\n",
    "    decoded = model.decode(np.array([encoded]))\n",
    "    decoded_img = np.reshape(decoded, (1, input_x_dim, input_y_dim))[0] * 255.0\n",
    "    plt.imshow(decoded_img, cmap='Greys')\n",
    "\n",
    "    plt.show()"
   ]
  },
  {
   "cell_type": "code",
   "execution_count": 7,
   "metadata": {
    "pycharm": {
     "is_executing": false
    }
   },
   "outputs": [
    {
     "data": {
      "image/png": "[encoded data removed]",
      "text/plain": [
       "<Figure size 432x288 with 2 Axes>"
      ]
     },
     "metadata": {
      "needs_background": "light"
     },
     "output_type": "display_data"
    },
    {
     "data": {
      "image/png": "[encoded data removed]",
      "text/plain": [
       "<Figure size 432x288 with 2 Axes>"
      ]
     },
     "metadata": {
      "needs_background": "light"
     },
     "output_type": "display_data"
    },
    {
     "data": {
      "image/png": "[encoded data removed]",
      "text/plain": [
       "<Figure size 432x288 with 2 Axes>"
      ]
     },
     "metadata": {
      "needs_background": "light"
     },
     "output_type": "display_data"
    },
    {
     "data": {
      "image/png": "[encoded data removed]",
      "text/plain": [
       "<Figure size 432x288 with 2 Axes>"
      ]
     },
     "metadata": {
      "needs_background": "light"
     },
     "output_type": "display_data"
    }
   ],
   "source": [
    "for _ in range(4):\n",
    "    plt.subplot(1, 2, 1)\n",
    "    plt.title(\"Hidden Representation (Random Normal)\")\n",
    "    random_encoded = tf.random.normal((1, 16))\n",
    "    random_encoded_img = np.reshape(tf.nn.sigmoid(random_encoded), (1, 4, 4))[0] * 255.0\n",
    "    plt.imshow(random_encoded_img, cmap='Greys')\n",
    "\n",
    "    plt.subplot(1, 2, 2)\n",
    "    plt.title(\"Output Image\")\n",
    "    random_decoded = model.decode(np.array([random_encoded]))\n",
    "    random_decoded_img = np.reshape(random_decoded, (1, input_x_dim, input_y_dim))[0] * 255.0\n",
    "    plt.imshow(random_decoded_img, cmap='Greys')\n",
    "\n",
    "    plt.show()"
   ]
  },
  {
   "cell_type": "code",
   "execution_count": 8,
   "metadata": {
    "pycharm": {
     "is_executing": false
    }
   },
   "outputs": [
    {
     "data": {
      "image/png": "[encoded data removed]",
      "text/plain": [
       "<Figure size 432x288 with 3 Axes>"
      ]
     },
     "metadata": {
      "needs_background": "light"
     },
     "output_type": "display_data"
    }
   ],
   "source": [
    "plt.subplot(1, 3, 1)\n",
    "plt.title(\"Input Image\")\n",
    "test_case_1 = x_test[random.randrange(x_test.shape[0])]\n",
    "test_case_img_1 = np.reshape(test_case_1, (1, input_x_dim, input_y_dim))[0] * 255.0\n",
    "plt.imshow(test_case_img_1, cmap='Greys')\n",
    "\n",
    "plt.subplot(1, 3, 2)\n",
    "plt.title(\"Hidden Representation\")\n",
    "encoded_dist_1 = model.encode(np.array([test_case_1]))\n",
    "encoded_1 = encoded_dist_1.sample()\n",
    "# The reshape command makes the 16-long hidden code by 4x4\n",
    "# so we can see it alongside the input and output\n",
    "encoded_img_1 = tf.reshape(tf.nn.sigmoid(encoded_1), (1, 4, 4))[0] * 255.0\n",
    "plt.imshow(encoded_img_1, cmap='Greys')\n",
    "\n",
    "plt.subplot(1, 3, 3)\n",
    "plt.title(\"Output Image\")\n",
    "decoded_1 = model.decode(np.array([encoded_1]))\n",
    "decoded_img_1 = tf.reshape(decoded_1, (1, input_x_dim, input_y_dim))[0] * 255.0\n",
    "plt.imshow(decoded_img_1, cmap='Greys')\n",
    "\n",
    "plt.show()"
   ]
  },
  {
   "cell_type": "code",
   "execution_count": 29,
   "metadata": {
    "pycharm": {
     "is_executing": false
    }
   },
   "outputs": [
    {
     "data": {
      "image/png": "[encoded data removed]",
      "text/plain": [
       "<Figure size 432x288 with 3 Axes>"
      ]
     },
     "metadata": {
      "needs_background": "light"
     },
     "output_type": "display_data"
    }
   ],
   "source": [
    "plt.subplot(1, 3, 1)\n",
    "plt.title(\"Input Image\")\n",
    "test_case_2 = x_test[random.randrange(x_test.shape[0])]\n",
    "test_case_img_2 = np.reshape(test_case_2, (1, input_x_dim, input_y_dim))[0] * 255.0\n",
    "plt.imshow(test_case_img_2, cmap='Greys')\n",
    "\n",
    "plt.subplot(1, 3, 2)\n",
    "plt.title(\"Hidden Representation\")\n",
    "encoded_dist_2 = model.encode(np.array([test_case_2]))\n",
    "encoded_2 = encoded_dist_2.sample()\n",
    "# The reshape command makes the 16-long hidden code by 4x4\n",
    "# so we can see it alongside the input and output\n",
    "encoded_img_2 = np.reshape(tf.nn.sigmoid(encoded_2), (1, 4, 4))[0] * 255.0\n",
    "plt.imshow(encoded_img_2, cmap='Greys')\n",
    "\n",
    "plt.subplot(1, 3, 3)\n",
    "plt.title(\"Output Image\")\n",
    "decoded_2 = model.decode(np.array([encoded_2]))\n",
    "decoded_img_2 = np.reshape(decoded_2, (1, input_x_dim, input_y_dim))[0] * 255.0\n",
    "plt.imshow(decoded_img_2, cmap='Greys')\n",
    "\n",
    "plt.show()"
   ]
  },
  {
   "cell_type": "code",
   "execution_count": 30,
   "metadata": {
    "pycharm": {
     "is_executing": false
    }
   },
   "outputs": [],
   "source": [
    "new_encoded = (encoded_1 + encoded_2) / 2"
   ]
  },
  {
   "cell_type": "code",
   "execution_count": 31,
   "metadata": {
    "pycharm": {
     "is_executing": false
    }
   },
   "outputs": [
    {
     "data": {
      "text/plain": [
       "<tf.Tensor: id=20870, shape=(1, 16), dtype=float32, numpy=\n",
       "array([[ 1.0519927 ,  1.4580667 , -0.9589772 ,  0.989804  , -0.0149433 ,\n",
       "         0.3938458 ,  0.24367297,  1.4054799 ,  0.19172832, -1.4833142 ,\n",
       "         0.17653133,  0.18266118, -0.58720356, -0.23911703,  0.76288205,\n",
       "         1.2785254 ]], dtype=float32)>"
      ]
     },
     "execution_count": 31,
     "metadata": {},
     "output_type": "execute_result"
    }
   ],
   "source": [
    "new_encoded"
   ]
  },
  {
   "cell_type": "code",
   "execution_count": 32,
   "metadata": {
    "pycharm": {
     "is_executing": false
    }
   },
   "outputs": [
    {
     "data": {
      "image/png": "[encoded data removed]",
      "text/plain": [
       "<Figure size 432x288 with 2 Axes>"
      ]
     },
     "metadata": {
      "needs_background": "light"
     },
     "output_type": "display_data"
    }
   ],
   "source": [
    "plt.subplot(1, 2, 1)\n",
    "plt.title(\"Hidden Representation\")\n",
    "new_encoded_img = np.reshape(tf.nn.sigmoid(new_encoded), (1, 4, 4))[0] * 255.0\n",
    "plt.imshow(new_encoded_img, cmap='Greys')\n",
    "\n",
    "plt.subplot(1, 2, 2)\n",
    "plt.title(\"Output Image\")\n",
    "new_decoded = model.decode(np.array([new_encoded]))\n",
    "new_decoded_img = np.reshape(new_decoded, (1, input_x_dim, input_y_dim))[0] * 255.0\n",
    "plt.imshow(new_decoded_img, cmap='Greys')\n",
    "\n",
    "plt.show()"
   ]
  },
  {
   "cell_type": "code",
   "execution_count": 13,
   "metadata": {
    "pycharm": {
     "is_executing": false
    }
   },
   "outputs": [
    {
     "data": {
      "text/plain": [
       "<tf.Tensor: id=19831, shape=(1, 16), dtype=float32, numpy=\n",
       "array([[ 1.8632755 ,  2.2613893 , -1.1280571 ,  0.95930415, -1.1797143 ,\n",
       "         1.7217906 ,  1.6142476 ,  1.4861107 , -0.839531  , -1.5617878 ,\n",
       "        -0.16101095, -1.005139  ,  0.13352756, -0.05177218,  1.7872032 ,\n",
       "         1.7794333 ]], dtype=float32)>"
      ]
     },
     "execution_count": 13,
     "metadata": {},
     "output_type": "execute_result"
    }
   ],
   "source": [
    "encoded_1"
   ]
  },
  {
   "cell_type": "code",
   "execution_count": 14,
   "metadata": {},
   "outputs": [],
   "source": [
    "test_set_encoded = model.encode(x_test)"
   ]
  },
  {
   "cell_type": "code",
   "execution_count": 15,
   "metadata": {},
   "outputs": [
    {
     "data": {
      "text/plain": [
       "<tfp.distributions.Normal 'Normal' batch_shape=[10000, 16] event_shape=[] dtype=float32>"
      ]
     },
     "execution_count": 15,
     "metadata": {},
     "output_type": "execute_result"
    }
   ],
   "source": [
    "test_set_encoded"
   ]
  },
  {
   "cell_type": "code",
   "execution_count": 16,
   "metadata": {},
   "outputs": [
    {
     "data": {
      "text/plain": [
       "<tfp.distributions.Normal 'Normal' batch_shape=[10000] event_shape=[] dtype=float32>"
      ]
     },
     "execution_count": 16,
     "metadata": {},
     "output_type": "execute_result"
    }
   ],
   "source": [
    "test_set_encoded[:, 0]"
   ]
  },
  {
   "cell_type": "code",
   "execution_count": 17,
   "metadata": {},
   "outputs": [
    {
     "data": {
      "text/plain": [
       "<tf.Tensor: id=20446, shape=(), dtype=float32, numpy=-0.028663684>"
      ]
     },
     "execution_count": 17,
     "metadata": {},
     "output_type": "execute_result"
    }
   ],
   "source": [
    "tf.reduce_mean(test_set_encoded[:, 3].mean())"
   ]
  },
  {
   "cell_type": "code",
   "execution_count": 18,
   "metadata": {},
   "outputs": [],
   "source": [
    "test_set_encoded_sampled = test_set_encoded.sample()"
   ]
  },
  {
   "cell_type": "code",
   "execution_count": 19,
   "metadata": {},
   "outputs": [
    {
     "data": {
      "text/plain": [
       "<tf.Tensor: id=20475, shape=(), dtype=float32, numpy=-0.041789748>"
      ]
     },
     "execution_count": 19,
     "metadata": {},
     "output_type": "execute_result"
    }
   ],
   "source": [
    "tf.reduce_mean(test_set_encoded_sampled[:, 7])"
   ]
  },
  {
   "cell_type": "code",
   "execution_count": 20,
   "metadata": {},
   "outputs": [],
   "source": [
    "import tensorflow_probability as tfp\n",
    "emp = tfp.distributions.Empirical(tf.transpose(test_set_encoded_sampled))"
   ]
  },
  {
   "cell_type": "code",
   "execution_count": 21,
   "metadata": {},
   "outputs": [
    {
     "data": {
      "text/plain": [
       "<tf.Tensor: id=20507, shape=(), dtype=float32, numpy=0.0020239723>"
      ]
     },
     "execution_count": 21,
     "metadata": {},
     "output_type": "execute_result"
    }
   ],
   "source": [
    "tf.reduce_mean(tfp.distributions.kl_divergence(\n",
    "                tfp.distributions.Normal(emp.mean(), emp.stddev()),\n",
    "                tfp.distributions.Normal(0.0, 1.0)\n",
    "            ))"
   ]
  },
  {
   "cell_type": "code",
   "execution_count": 22,
   "metadata": {},
   "outputs": [],
   "source": [
    "norm = tf.random.normal(test_set_encoded_sampled.shape, 0.0, 1.0)"
   ]
  },
  {
   "cell_type": "code",
   "execution_count": 23,
   "metadata": {},
   "outputs": [
    {
     "data": {
      "text/plain": [
       "<tf.Tensor: id=20513, shape=(10000, 16), dtype=float32, numpy=\n",
       "array([[-0.6463531 ,  0.47916317, -0.8460898 , ...,  0.9141801 ,\n",
       "        -0.9683516 ,  0.10508562],\n",
       "       [-0.45667878, -0.36931133,  3.053355  , ...,  1.018265  ,\n",
       "         0.5380241 , -1.780188  ],\n",
       "       [ 1.0488578 , -1.2667416 ,  0.16336891, ..., -0.7658942 ,\n",
       "        -0.38721624, -0.41388145],\n",
       "       ...,\n",
       "       [ 0.59839624, -0.99487275, -0.821138  , ...,  1.2027675 ,\n",
       "        -0.14186327,  0.8298695 ],\n",
       "       [ 0.18420632, -0.062227  ,  1.1090428 , ...,  1.3534399 ,\n",
       "        -0.6276417 ,  1.2922534 ],\n",
       "       [ 0.199602  , -0.77840376,  1.223411  , ..., -1.0561116 ,\n",
       "        -0.9915867 ,  1.7622739 ]], dtype=float32)>"
      ]
     },
     "execution_count": 23,
     "metadata": {},
     "output_type": "execute_result"
    }
   ],
   "source": [
    "norm"
   ]
  },
  {
   "cell_type": "code",
   "execution_count": 24,
   "metadata": {},
   "outputs": [],
   "source": [
    "emp_norm = tfp.distributions.Empirical(tf.transpose(norm))"
   ]
  },
  {
   "cell_type": "code",
   "execution_count": 25,
   "metadata": {},
   "outputs": [
    {
     "data": {
      "text/plain": [
       "<tfp.distributions.Empirical 'Empirical_Empirical' batch_shape=[16] event_shape=[] dtype=float32>"
      ]
     },
     "execution_count": 25,
     "metadata": {},
     "output_type": "execute_result"
    }
   ],
   "source": [
    "emp_norm"
   ]
  },
  {
   "cell_type": "code",
   "execution_count": 26,
   "metadata": {},
   "outputs": [
    {
     "data": {
      "text/plain": [
       "<tfp.distributions.Empirical 'Empirical_Empirical' batch_shape=[16] event_shape=[] dtype=float32>"
      ]
     },
     "execution_count": 26,
     "metadata": {},
     "output_type": "execute_result"
    }
   ],
   "source": [
    "emp"
   ]
  },
  {
   "cell_type": "code",
   "execution_count": 27,
   "metadata": {},
   "outputs": [
    {
     "data": {
      "text/plain": [
       "<tf.Tensor: id=20545, shape=(), dtype=float32, numpy=0.002296981>"
      ]
     },
     "execution_count": 27,
     "metadata": {},
     "output_type": "execute_result"
    }
   ],
   "source": [
    "tf.reduce_sum(tfp.distributions.kl_divergence(\n",
    "                tfp.distributions.Normal(emp_norm.mean(), emp_norm.stddev()),\n",
    "                tfp.distributions.Normal(0.0, 1.0)\n",
    "            ))"
   ]
  },
  {
   "cell_type": "code",
   "execution_count": 33,
   "metadata": {},
   "outputs": [
    {
     "data": {
      "text/plain": [
       "<tf.Tensor: id=20752, shape=(1, 16), dtype=float32, numpy=\n",
       "array([[ 0.24070981,  0.65474427, -0.7898974 ,  1.020304  ,  1.1498277 ,\n",
       "        -0.93409896, -1.1269016 ,  1.3248491 ,  1.2229877 , -1.4048405 ,\n",
       "         0.5140736 ,  1.3704613 , -1.3079346 , -0.42646188, -0.26143909,\n",
       "         0.7776176 ]], dtype=float32)>"
      ]
     },
     "execution_count": 33,
     "metadata": {},
     "output_type": "execute_result"
    }
   ],
   "source": [
    "encoded_2"
   ]
  },
  {
   "cell_type": "code",
   "execution_count": 35,
   "metadata": {},
   "outputs": [
    {
     "data": {
      "text/plain": [
       "<tf.Tensor: id=20989, shape=(10000,), dtype=float32, numpy=\n",
       "array([-0.3785409 ,  0.11625157,  1.7016033 , ...,  0.03083223,\n",
       "       -1.2421103 , -0.76668805], dtype=float32)>"
      ]
     },
     "execution_count": 35,
     "metadata": {},
     "output_type": "execute_result"
    }
   ],
   "source": [
    "test_set_encoded_sampled[:, 0]"
   ]
  },
  {
   "cell_type": "code",
   "execution_count": 38,
   "metadata": {},
   "outputs": [
    {
     "data": {
      "text/plain": [
       "(array([  3.,   3.,   3.,   3.,  17.,  30.,  42.,  65., 118., 145., 190.,\n",
       "        194., 246., 242., 267., 257., 254., 283., 290., 285., 277., 315.,\n",
       "        376., 364., 384., 444., 414., 420., 424., 407., 432., 364., 373.,\n",
       "        318., 291., 261., 261., 237., 177., 193., 149.,  94.,  42.,  17.,\n",
       "         14.,   5.,   4.,   3.,   1.,   2.]),\n",
       " array([-2.8784957 , -2.7628238 , -2.6471517 , -2.5314798 , -2.4158077 ,\n",
       "        -2.3001359 , -2.184464  , -2.0687919 , -1.95312   , -1.837448  ,\n",
       "        -1.721776  , -1.606104  , -1.490432  , -1.3747602 , -1.2590882 ,\n",
       "        -1.1434162 , -1.0277442 , -0.91207224, -0.79640025, -0.6807283 ,\n",
       "        -0.5650563 , -0.44938436, -0.3337124 , -0.21804042, -0.10236845,\n",
       "         0.01330352,  0.12897548,  0.24464746,  0.36031944,  0.4759914 ,\n",
       "         0.59166336,  0.70733535,  0.8230073 ,  0.9386793 ,  1.0543512 ,\n",
       "         1.1700232 ,  1.2856952 ,  1.4013672 ,  1.5170391 ,  1.632711  ,\n",
       "         1.748383  ,  1.864055  ,  1.979727  ,  2.095399  ,  2.211071  ,\n",
       "         2.326743  ,  2.4424148 ,  2.5580869 ,  2.6737587 ,  2.7894309 ,\n",
       "         2.9051027 ], dtype=float32),\n",
       " <a list of 50 Patch objects>)"
      ]
     },
     "execution_count": 38,
     "metadata": {},
     "output_type": "execute_result"
    },
    {
     "data": {
      "image/png": "[encoded data removed]",
      "text/plain": [
       "<Figure size 432x288 with 1 Axes>"
      ]
     },
     "metadata": {
      "needs_background": "light"
     },
     "output_type": "display_data"
    }
   ],
   "source": [
    "plt.hist(test_set_encoded_sampled[:, 0].numpy(), bins=50)"
   ]
  },
  {
   "cell_type": "code",
   "execution_count": 39,
   "metadata": {},
   "outputs": [
    {
     "data": {
      "text/plain": [
       "(array([  1.,   1.,   1.,   5.,   8.,   7.,  12.,  25.,  47.,  44.,  70.,\n",
       "         71., 113., 138., 156., 218., 258., 270., 319., 336., 314., 360.,\n",
       "        375., 345., 409., 369., 378., 405., 395., 404., 384., 390., 346.,\n",
       "        386., 318., 294., 267., 276., 227., 219., 198., 169., 158., 150.,\n",
       "        114.,  86.,  74.,  47.,  32.,  11.]),\n",
       " array([-2.9795043 , -2.8720984 , -2.7646923 , -2.6572864 , -2.5498803 ,\n",
       "        -2.4424744 , -2.3350682 , -2.2276623 , -2.1202562 , -2.0128503 ,\n",
       "        -1.9054441 , -1.7980381 , -1.6906321 , -1.5832262 , -1.4758202 ,\n",
       "        -1.3684142 , -1.2610081 , -1.1536021 , -1.0461961 , -0.9387901 ,\n",
       "        -0.83138406, -0.72397804, -0.616572  , -0.509166  , -0.40175998,\n",
       "        -0.29435396, -0.18694794, -0.07954193,  0.02786408,  0.1352701 ,\n",
       "         0.24267611,  0.35008213,  0.45748815,  0.56489414,  0.67230016,\n",
       "         0.7797062 ,  0.8871122 ,  0.9945182 ,  1.1019242 ,  1.2093302 ,\n",
       "         1.3167362 ,  1.4241422 ,  1.5315483 ,  1.6389543 ,  1.7463603 ,\n",
       "         1.8537663 ,  1.9611723 ,  2.0685785 ,  2.1759844 ,  2.2833905 ,\n",
       "         2.3907964 ], dtype=float32),\n",
       " <a list of 50 Patch objects>)"
      ]
     },
     "execution_count": 39,
     "metadata": {},
     "output_type": "execute_result"
    },
    {
     "data": {
      "image/png": "[encoded data removed]",
      "text/plain": [
       "<Figure size 432x288 with 1 Axes>"
      ]
     },
     "metadata": {
      "needs_background": "light"
     },
     "output_type": "display_data"
    }
   ],
   "source": [
    "plt.hist(test_set_encoded_sampled[:, 1].numpy(), bins=50)"
   ]
  },
  {
   "cell_type": "code",
   "execution_count": 40,
   "metadata": {},
   "outputs": [
    {
     "data": {
      "text/plain": [
       "(array([  2.,   3.,  10.,  11.,  34.,  56., 104., 150., 183., 248., 269.,\n",
       "        300., 307., 320., 340., 370., 347., 368., 370., 446., 424., 408.,\n",
       "        390., 413., 374., 399., 382., 351., 340., 314., 274., 274., 238.,\n",
       "        210., 209., 168., 147., 109.,  77.,  76.,  56.,  40.,  30.,  24.,\n",
       "         11.,   7.,   7.,   4.,   3.,   3.]),\n",
       " array([-2.4732904 , -2.3569827 , -2.2406752 , -2.1243675 , -2.00806   ,\n",
       "        -1.8917522 , -1.7754446 , -1.659137  , -1.5428294 , -1.4265218 ,\n",
       "        -1.310214  , -1.1939064 , -1.0775988 , -0.9612912 , -0.8449836 ,\n",
       "        -0.7286759 , -0.6123683 , -0.49606064, -0.379753  , -0.26344538,\n",
       "        -0.14713773, -0.0308301 ,  0.08547753,  0.20178516,  0.3180928 ,\n",
       "         0.43440044,  0.55070806,  0.66701573,  0.78332335,  0.89963096,\n",
       "         1.0159386 ,  1.1322463 ,  1.2485539 ,  1.3648615 ,  1.4811691 ,\n",
       "         1.5974768 ,  1.7137845 ,  1.8300921 ,  1.9463997 ,  2.0627074 ,\n",
       "         2.179015  ,  2.2953227 ,  2.4116302 ,  2.527938  ,  2.6442456 ,\n",
       "         2.7605531 ,  2.8768609 ,  2.9931684 ,  3.109476  ,  3.2257836 ,\n",
       "         3.3420913 ], dtype=float32),\n",
       " <a list of 50 Patch objects>)"
      ]
     },
     "execution_count": 40,
     "metadata": {},
     "output_type": "execute_result"
    },
    {
     "data": {
      "image/png": "[encoded data removed]",
      "text/plain": [
       "<Figure size 432x288 with 1 Axes>"
      ]
     },
     "metadata": {
      "needs_background": "light"
     },
     "output_type": "display_data"
    }
   ],
   "source": [
    "plt.hist(test_set_encoded_sampled[:, 2].numpy(), bins=50)"
   ]
  },
  {
   "cell_type": "code",
   "execution_count": 43,
   "metadata": {},
   "outputs": [
    {
     "data": {
      "text/plain": [
       "(array([  30.,  386., 1278., 1659., 1641., 1952., 1756., 1058.,  222.,\n",
       "          18.]),\n",
       " array([-2.7388341 , -2.1868944 , -1.6349549 , -1.0830152 , -0.5310756 ,\n",
       "         0.02086401,  0.5728036 ,  1.1247432 ,  1.676683  ,  2.2286224 ,\n",
       "         2.7805622 ], dtype=float32),\n",
       " <a list of 10 Patch objects>)"
      ]
     },
     "execution_count": 43,
     "metadata": {},
     "output_type": "execute_result"
    },
    {
     "data": {
      "image/png": "[encoded data removed]",
      "text/plain": [
       "<Figure size 432x288 with 1 Axes>"
      ]
     },
     "metadata": {
      "needs_background": "light"
     },
     "output_type": "display_data"
    }
   ],
   "source": [
    "plt.hist(test_set_encoded_sampled[:, 3].numpy(), bins=10)"
   ]
  },
  {
   "cell_type": "code",
   "execution_count": null,
   "metadata": {},
   "outputs": [],
   "source": []
  }
 ],
 "metadata": {
  "kernelspec": {
   "display_name": "Python 3",
   "language": "python",
   "name": "python3"
  },
  "language_info": {
   "codemirror_mode": {
    "name": "ipython",
    "version": 3
   },
   "file_extension": ".py",
   "mimetype": "text/x-python",
   "name": "python",
   "nbconvert_exporter": "python",
   "pygments_lexer": "ipython3",
   "version": "3.7.6"
  },
  "pycharm": {
   "stem_cell": {
    "cell_type": "raw",
    "metadata": {
     "collapsed": false
    },
    "source": []
   }
  }
 },
 "nbformat": 4,
 "nbformat_minor": 1
}
