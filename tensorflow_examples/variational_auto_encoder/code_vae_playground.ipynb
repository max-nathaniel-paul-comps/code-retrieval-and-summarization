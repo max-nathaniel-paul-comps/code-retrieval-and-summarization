{
 "cells": [
  {
   "cell_type": "code",
   "execution_count": 1,
   "metadata": {
    "pycharm": {
     "name": "#%%\n"
    }
   },
   "outputs": [],
   "source": [
    "import tensorflow as tf\n",
    "import numpy as np"
   ]
  },
  {
   "cell_type": "code",
   "execution_count": 2,
   "metadata": {
    "pycharm": {
     "name": "#%%\n"
    }
   },
   "outputs": [],
   "source": [
    "train_file = open(\"../../data/iyer/train.txt\")"
   ]
  },
  {
   "cell_type": "code",
   "execution_count": 3,
   "metadata": {
    "pycharm": {
     "name": "#%%\n"
    }
   },
   "outputs": [],
   "source": [
    "train_file_contents = train_file.readlines()"
   ]
  },
  {
   "cell_type": "code",
   "execution_count": 4,
   "metadata": {
    "pycharm": {
     "name": "#%%\n"
    }
   },
   "outputs": [
    {
     "data": {
      "text/plain": [
       "52997"
      ]
     },
     "execution_count": 4,
     "metadata": {},
     "output_type": "execute_result"
    }
   ],
   "source": [
    "len(train_file_contents)"
   ]
  },
  {
   "cell_type": "code",
   "execution_count": 5,
   "metadata": {
    "pycharm": {
     "name": "#%%\n"
    }
   },
   "outputs": [],
   "source": [
    "train = []\n",
    "for line in train_file_contents:\n",
    "    items = line.split('\\t')\n",
    "    if len(items) == 5:\n",
    "        train.append(line.split('\\t')[3])"
   ]
  },
  {
   "cell_type": "code",
   "execution_count": 6,
   "metadata": {
    "pycharm": {
     "name": "#%%\n"
    }
   },
   "outputs": [
    {
     "data": {
      "text/plain": [
       "52795"
      ]
     },
     "execution_count": 6,
     "metadata": {},
     "output_type": "execute_result"
    }
   ],
   "source": [
    "len(train)"
   ]
  },
  {
   "cell_type": "code",
   "execution_count": 7,
   "metadata": {
    "pycharm": {
     "name": "#%%\n"
    }
   },
   "outputs": [
    {
     "data": {
      "text/plain": [
       "40"
      ]
     },
     "execution_count": 7,
     "metadata": {},
     "output_type": "execute_result"
    }
   ],
   "source": [
    "len(train[0])"
   ]
  },
  {
   "cell_type": "code",
   "execution_count": 8,
   "metadata": {
    "pycharm": {
     "name": "#%%\n"
    }
   },
   "outputs": [
    {
     "data": {
      "text/plain": [
       "294"
      ]
     },
     "execution_count": 8,
     "metadata": {},
     "output_type": "execute_result"
    }
   ],
   "source": [
    "len(train[1])"
   ]
  },
  {
   "cell_type": "code",
   "execution_count": 9,
   "metadata": {},
   "outputs": [],
   "source": [
    "train = [ex for ex in train if len(ex) < 80]"
   ]
  },
  {
   "cell_type": "code",
   "execution_count": 10,
   "metadata": {},
   "outputs": [
    {
     "data": {
      "text/plain": [
       "['public string Name { get; private set; }',\n",
       " 'using System.ComponentModel.DataAnnotations.Schema;',\n",
       " 'var form = (Form)Activator.CreateInstance(myType);\\\\nform.ShowDialog();',\n",
       " 'System.Reflection.Assembly.Load(\"assemblyname\").GetName().Version.ToString()',\n",
       " 'SwitchCell sc = (SwitchCell)tv.Root[0][0];\\\\nbool booleanprop = sc.On;',\n",
       " 'Marshal.SizeOf(typeof(T))',\n",
       " '...\\\\nsq.Where(TableTwo.NameColumn).Like(\"A%\");',\n",
       " 'catch (Exception ex) {\\\\n    throw;\\\\n}',\n",
       " 'Microsoft.VisualBasic.FileIO',\n",
       " 'var result = _items.SelectMany (x => x.Get (something));',\n",
       " 'if(row.Table == null)\\\\n{\\\\n}\\\\nelse\\\\n{\\\\n}',\n",
       " 'r = (v < 0.01 && r > 0.0) ? 0.01 : v;',\n",
       " 'IEnumerable<SomeClass>',\n",
       " 'Regex r1 = new Regex(startTag + @\"([A-Za-z0-9\\\\-]+)\" + endTag);',\n",
       " 'AppDomain.ProcessExit',\n",
       " 'base(CloudConfigurationManager.GetSetting(\"YourEntities\"))',\n",
       " \"string[] parts = s.Split(',').Select(x => x.Trim()).ToArray();\",\n",
       " 'System.Data.DataTable',\n",
       " 'Regex.Match(\"Meeting with developer 60min\", @\"(\\\\d+min)\").Groups[1].ToString();',\n",
       " 'MyNewDateValue = MyDateNow.AddDays(-MyDateInteger);',\n",
       " 'Bitmap.Clone',\n",
       " 'using DotRas;\\\\n\\\\nIEnumerable<RasDevice> devices = RasDevice.GetDevices();',\n",
       " 'static object SpinLock = new object();\\\\n\\\\nlock(SpinLock)\\\\n{\\\\n   //Statements\\\\n}',\n",
       " 'row[\"Cores\"] = obj[\"NumberOfLogicalProcessors\"].ToString();',\n",
       " 'datagridview.Columns[0].Visible = false',\n",
       " 'where listId.Contains((int)error.battery_id)',\n",
       " 'Focusable=\"False\"',\n",
       " '[OutputCache(NoStore = true, Duration = 0, VaryByParam = \"None\")]',\n",
       " 'if(slist[i].Trim() != \"\")',\n",
       " 'new XmlSerializer(type)',\n",
       " 'myDockPanel.HorizontalAlignment = HorizontalAlignment.Center;',\n",
       " '\"ImageId\"',\n",
       " '(?<!})<input>',\n",
       " 'importantTag.Attributes[\"src\"] = \"yourNewImageUrl\";',\n",
       " \"string[] sportsNewArray = sports.SelectMany(s=>s.Split('/')).ToArray();\",\n",
       " '.ToString()',\n",
       " 'int interest 01 = (Int16)dr[\"I01\"];',\n",
       " 'delete from TableA\\\\nwhere ColID in (select colid from tableB)',\n",
       " 'Return\\\\nGoto',\n",
       " 'vec = Vector3.Normalize(vec) * length;',\n",
       " 'car.Features.ToList().Count',\n",
       " 'm_Category = new StringList() { x.Value };',\n",
       " '.ExposeConfiguration(cfg => new SchemaExport(cfg).Create(true,true))',\n",
       " '.Resolve<MyClass>',\n",
       " 'string_text = Regex.Replace(string_text, @\"\\\\s+\", \" \");',\n",
       " 'string server = \"google.com\";\\\\n  int port = 80;\\\\n  string message = \"GET /\\\\n\";',\n",
       " 'zune://search/?publisher=Henry%20Chong;',\n",
       " 'using System.Data.Entity;',\n",
       " 'IModel model = (IModel)Activator.CreateInstance(Type.GetType(typeName));',\n",
       " 'Parralel.For',\n",
       " 'myDataSet.Tables[\"AdvBusiness\"]',\n",
       " 'Print()',\n",
       " 'ds.Tables[1].Rows[0][\"ligne1\"].ToString();',\n",
       " 'Dictionary<string, TreeNode>',\n",
       " 'URL;TYPE=WORK:http://MySeite.com',\n",
       " 'p.StartInfo.Arguments = \"-R -H -h sinsscm01.ds.net \\\\\"/SASE Lab Tools\\\\\"\";',\n",
       " \"var numbers = sNumbers.Split(',').Select(Int32.Parse).ToList();\",\n",
       " 'node.Add(new XElement(\"NodeName\", \"  \", new XCData(\"Value\")));',\n",
       " 'money.ToString(\"0.00\")',\n",
       " 'int index = dt.Rows.IndexOf(row);',\n",
       " 'var secondTable = res.SelectSingleNode(\"//table[2]\");',\n",
       " 'return View();',\n",
       " \"MyString.Value.TrimEnd('\\\\\\\\');\",\n",
       " 'Path.GetFileName()',\n",
       " '((class)yourGrid.SelectedItem).ID',\n",
       " 'socket.ConnectAsync(a);',\n",
       " 'port.Read()',\n",
       " 'string result = Regex.Replace(Txt, @\"[^\\\\d.,]|(?<=[.,][^.,]*)[.,]\", \"\");',\n",
       " 'gridData.Where(c => c.Item.Active).Select([...]);',\n",
       " 'topPanel_OnClick() { bottomPanel_OnClick(topPanel, EventArgs.Empty); }',\n",
       " 'sh configure --enable-static --enable-shared\\\\nmake test\\\\nmake install',\n",
       " 'String.IndexOfAny()',\n",
       " 'ToggleSwitch ts = sender as ToggleSwitch;\\\\n//another lines with code',\n",
       " 'fileInfo.CreationTime.ToString(\"dd/MM/yyyy\")',\n",
       " 'var val = 96.154M;\\\\n\\\\nvar result = Math.Ceiling(val * 100) / 100.0M;',\n",
       " 'MyObject.BinaryProperty = new Binary(bytes);',\n",
       " 'RegistryKey.OpenBaseKey(RegistryHive.LocalMachine, RegistryView.Registry32)',\n",
       " 'using System.Net.Sockets;',\n",
       " 'Guid yourGuid = new Guid(yourString);',\n",
       " 'double value = 0.01 * Math.Ceiling(100.0 * originalValue)',\n",
       " 'SessionOptions.SecureSocketLayer = true;',\n",
       " 'process.StartInfo.WorkingDirectory = @\"c:\\\\\";',\n",
       " 'public bool Sync() \\\\n{ \\\\n    Task.Run(async () => await MyClass.DoSync());\\\\n}',\n",
       " 'IWpfTextCreationListener.TextViewCreated',\n",
       " 'myLBL.Foreground = Brushes.Black;',\n",
       " 'x = (xennemy-xplayer)/factor +150\\\\ny = (yennemy-yplayer)/factor +150',\n",
       " 'cascade=\"all-delete-orphan\"',\n",
       " '!Account\\\\nNJoint Brokerage Account\\\\nTInvst\\\\n^',\n",
       " 'using MyLibrary;',\n",
       " 'Input.IndexOf(Subject1.Name.ToLower()) < Input.IndexOf(Subject2.Name.ToLower())',\n",
       " 'Server.URLEncode(\"http://www.w3schools.com?mykey=datavalue\");',\n",
       " 's = s.ToLower().Replace(\" \", \"\");',\n",
       " 'scheduleListbox.ItemsSource = retrievedTasks;',\n",
       " 'Delete from Analysis where AnalysisKey between 34 and 73',\n",
       " 'return (iTwitterMembershipUser) GetUser(login);',\n",
       " 'int roleAsInt = 1;\\\\nRole role = (Role) roleAsInt;',\n",
       " 'if (Math.Abs(diameter - key) <= 0.2F)',\n",
       " '[assembly: InternalsVisibleTo(\"OtherLib.Domain.Stuff\")]',\n",
       " 'public virtual SchemaStatus? Status\\\\n{\\\\n    get;\\\\n    set;\\\\n}',\n",
       " 'i & A != 0  // true if A is set in i\\\\ni & B != 0  // true if B is set in i',\n",
       " 'x:TypeArguments',\n",
       " 'xscr=x/z;\\\\nyscr=y/z;',\n",
       " 'IdComboBox.SelectedValue = abc.Tables[0].Rows[0][\"Id\"];',\n",
       " 'Bin\\\\Release',\n",
       " 'var xml = String.Concat(myNodes);',\n",
       " '\\\\\\\\ComputerName\\\\PublicShare\\\\folder\\\\structure\\\\you\\\\want',\n",
       " 'var x = new FolderBrowserDialog();\\\\nx.ShowNewFolderButton = false;',\n",
       " 'string username = Environment.UserName;',\n",
       " 'thisCommand.CommandType = CommandType.Text;',\n",
       " 'style=\"vertical-align: bottom;\"',\n",
       " 'if (condition && condition2)\\\\n{\\\\n    do();\\\\n}\\\\nelse \\\\n{\\\\n    myVar=\"test\";\\\\n}',\n",
       " 'dataGrid1.DataMember = dsAuthors.Tables[0].Tablename;',\n",
       " 'string s = String.Format(\"{0:0.00}\", 0.8);',\n",
       " 'Canvas.SetLeft(theObject, 50)',\n",
       " 'Directory.Add(new DirectoryInfo(\"C:\\\\\\\\test\"));',\n",
       " 'if (String.IsNullOrEmpty(formModel.MyString)) formModel.MyString = null;',\n",
       " 'Microsoft.Build.Evaluation.Project',\n",
       " 'Environment.GetEnvironmentVariable(\"UserProfile\");',\n",
       " 'SelectedIndex=\"-1\"',\n",
       " 'resultString = Regex.Replace(subjectString, @\"\\\\^+\\\\|\", \"|\");',\n",
       " 'results.uShorts[0] = (unsigned short)UnsignedShorts[0];',\n",
       " 'panel1.Controls[0].Select();',\n",
       " 'var availableTags = <% =prodNames %>;',\n",
       " 'System.IO.Path.Combine(AppDomain.CurrentDomain.BaseDirectory, \"Foo.xml\");',\n",
       " 'msg.d[0]',\n",
       " 'lock(some_shared_object)\\\\n{\\\\n    //Your code here\\\\n}',\n",
       " 'public DataTable GetBrokers() { \\\\n              return GetBrokers(null);\\\\n}',\n",
       " 'Environment.OSVersion',\n",
       " \"window.location='url'\",\n",
       " 'List<ColumnData>',\n",
       " 'return RedirectToAction(\"Home\", \"Index\")',\n",
       " 'var input = \"abc123\";\\\\nvar result = input.Take(3).All(char.IsLetter);',\n",
       " 'System.Collections.Specialized.StringCollection',\n",
       " 'protected BaseController(){}',\n",
       " '[STAThreadAttribute]\\\\nstatic void Main( string[] args )',\n",
       " 'Microsoft.Win32.SystemEvents.DisplaySettingsChanged',\n",
       " 'img.Src = Server.MapPath(\"~/images/test.png\");',\n",
       " 'ON CASCADE DELETE',\n",
       " 'public string IssueTitle\\\\n{\\\\n    get { return issues.Title; }\\\\n}',\n",
       " 'foreach (var fi in objectType.GetFields(...))\\\\n    yield return fi;',\n",
       " 'tabControl1.SelectedTab = tabMain;',\n",
       " '_runner = runner ?? sRunner ?? (() => \"Hey!\");',\n",
       " 'Action<T>',\n",
       " 's.okuma_tarihi.Value.Date == startDate.Date',\n",
       " 'ComboBox ItemsSource=\"{Binding OSCollection}\" DisplayMemberPath=\"Name\"',\n",
       " '_session.CancelQuery();',\n",
       " 'Environment.SystemPageSize',\n",
       " 'DateTime.MaxValue;',\n",
       " 'Panel.Zindex',\n",
       " 'VisualTreeHelper.GetParent',\n",
       " 'List<Guid> guids = productShortData.Select(p => p.Id).ToList();',\n",
       " 'responseProp.Headers[HttpResponseHeader.ContentType] = \"text/html\";',\n",
       " 'if( e.Error is TimeoutException )',\n",
       " 'namespace MyProject\\\\n{\\\\n  public ref class Foo sealed\\\\n  {\\\\n    //\\\\n  };\\\\n}',\n",
       " 'bool isValid = products.All(x => x.Type == products.First().Type);',\n",
       " 'point.LabelBorderWidth = 7;\\\\npoint.LabelBorderColor = point.LabelBackColor;',\n",
       " 'Directory.Move(@\"\\\\\\\\192.168.1.244\\\\old_name\", @\"\\\\\\\\192.168.1.244\\\\new_name\");',\n",
       " 'Image latestUnsentImage',\n",
       " 'dateQuery.First().Element(\"HistoryCreation\").Value',\n",
       " 'oXml.LoadXml(@\"\");',\n",
       " 'pageCount = 1;\\\\n    Index = 0;',\n",
       " 'Path.GetFilename',\n",
       " 'cmd.Parameters.AddWithValue(\"@ord\", ord);',\n",
       " 'var newList = myChildren.SelectMany(c => c.TChildren);',\n",
       " 'Directory.GetFiles( [...] ).ToList()',\n",
       " 'Response.Redirect()',\n",
       " 'btnCopy.Attributes.Add(\"onclick\", \"alert(\\'button is clicked\\');\");',\n",
       " 'Data Source',\n",
       " 'studentList.OrderByDescending(p => p.rank).ToList();',\n",
       " 'Microsoft.Web.Media.SmoothStreaming',\n",
       " 'return _identifiers.Contains(id);',\n",
       " 'step 1\\\\nstep 2\\\\nstep 3\\\\nstep 4\\\\nstep 5',\n",
       " 'var my_models = new IEnumerable<object>[] { user_model, product_model };',\n",
       " 'paddles.Add(Content.Load<Texture2D>(\"Graphics/First Paddle\"));',\n",
       " 'comm.CommandTimeout=99999;',\n",
       " 'Regex.Replace(value, \".{4}\", \"$0 \").Trim()',\n",
       " 'DateTime?',\n",
       " '\"permissions\": [\\\\n\"contextMenus\",\\\\n\"http://localhost/\",\\\\n\"nativeMessaging\"\\\\n]',\n",
       " 'int  iTotalListCounter = listRoot.Sum(x => (x.Count + x.Sum(y => y.Count)));',\n",
       " 'String.Format(\"{0:#,0} {1:#,0}\", 5, 5000); // 5 5,000',\n",
       " 'MyImage.Source',\n",
       " 'string.Format(\"{0:c}\", TimeSpan.FromSeconds(seconds));',\n",
       " 'AddHandler btnStart.Click, AddressOf Startup',\n",
       " 'Enumerable.Range(DateTime.Now.Year, 10)',\n",
       " 'lock (mycollection){\\\\n    //modify the collection in a threadsafe manner\\\\n}',\n",
       " 'formName.Dock = DockStyle.Fill;',\n",
       " 'Server.MapPath(\"~/files/ \")',\n",
       " 'container.RegisterType<IDummy>(new InjectionFactory(context => new Dummy()));',\n",
       " 'Literal1.Text=data_from_DB;',\n",
       " '((247/255) * -1 + 1) * 255 = 8\\\\nor\\\\n247 * -1 + 255 = 8',\n",
       " 'Response.AddCacheDependency(new CacheDependency(filename));',\n",
       " 'Process.Start(\"sysdm.cpl\");',\n",
       " 'Color.GetHue\\\\nColor.GetSaturation\\\\nColor.GetBrightness',\n",
       " 'Show All Files',\n",
       " 'customerComboBox.Select();',\n",
       " 'where c.DepartureDate.Month == DateTime.Now.AddMonths(-1).Month',\n",
       " 'Database.SetInitializer<YourContextClass>(null);',\n",
       " 'var xml  = XmlReader.Create(new StreamReader(file, Encoding.ASCII))',\n",
       " 'totalLabel.Text = String.Format(\"{0:C}\", cmd.ExecuteScalar());',\n",
       " 'bin/Release',\n",
       " 'IsChecked=\"{Binding file, Mode=\"TwoWay\"}\"',\n",
       " '[ExpectedException( typeof( UserCannotExecuteCommandException) )]',\n",
       " 'Dispose()',\n",
       " 'comboBox.SelectedIndex = -1;',\n",
       " 'System.IO.File',\n",
       " 'cmd.ExecuteNonQuery();',\n",
       " 'ui.datepicker-<language>.js',\n",
       " '\\\\s*(?<Key>[^\\\\s]+)\\\\s*(?<Value>.*)',\n",
       " 'de.Properties[\"your-property-here\"].Value',\n",
       " 'string[] filePaths = Directory.GetFiles(@\"c:\\\\MyDir\\\\\");',\n",
       " 'new MessageDialog(\"Your Message Content\").ShowAsync();',\n",
       " 'public T GetRoot<T>() where T:Class\\\\n{\\\\n}',\n",
       " 'rvalue = Int32.Parse((string)myKey.GetValue(\"DebugLog\"));',\n",
       " \"reg_replace(/\\\\D+/g, '', your_string)\",\n",
       " 'foreach(string key in Request.Form.Keys ) \\\\n{\\\\n  Response.Write ( key );\\\\n}',\n",
       " 'ds.Merge(ds1);\\\\nGrid_Messagetable.DataSource = ds;',\n",
       " 'array.Length',\n",
       " 'await LoadFacebookData(parameters);',\n",
       " 'var content = link.Attributes[\"href\"].Value',\n",
       " 'public class X\\\\n{\\\\n    public int Y;\\\\n}',\n",
       " 'a, a:visited {\\\\n    color: green;\\\\n}',\n",
       " 'if (ddlHours.SelectedItem.Text == \"Part-Time\")',\n",
       " 'list = list.OrderBy(x => int.Parse(x[3])).ToList();',\n",
       " 'Byte result = Convert.ToByte(reader[1].ToString(), 2);',\n",
       " 'Reflection.Emit',\n",
       " 'var dateTime = DateTime.Now.AddBusinessDays(4);',\n",
       " 'continue; // Goto the next iteration\\\\nbreak; // Exit the loop',\n",
       " '[InternalsVisibleTo(...)]',\n",
       " 'Content-Type: application/json',\n",
       " 'connection.driver_class',\n",
       " 'using (var reader = XmlReader.Create(new StringReader(xml), settings)) { ...',\n",
       " 'MessageBox.Show(PlotListView.SelectedItems[0].SubItems[0].Text);',\n",
       " 'ListViewName.ItemsSource = bla bla;',\n",
       " 'process.StartInfo.CreateNoWindow = true;',\n",
       " \"var nameWithoutExtension = filename.Split('.')[0];\",\n",
       " 'MSBuild.exe MyProj.csproj /property:Configuration=Debug',\n",
       " 'context.ExecuteStoreQuery<vwWorkOrder>(sql);',\n",
       " 'DateTime.Now.ToString(\"dd-MM-yyyy-hh-mm-ss\")',\n",
       " 'PropertyStub.snippet',\n",
       " 'XmlNodeList elemList = doc.GetElementsByTagName(\"x:Property\");',\n",
       " 'string a = \"\\\\u0149\";',\n",
       " 'string js = new JavaScriptSerializer().Serialize(new[]{\"a\",\"b\",\"c\"});',\n",
       " 'var fruit = store.GetAFruit(...);\\\\nif(fruit != null) {\\\\n    //... Do stuff\\\\n}',\n",
       " 'transform.up * distance_to_move',\n",
       " '/namespace',\n",
       " 'arr = arr.Where(x => x != \"\").ToArray();',\n",
       " 'Execute*',\n",
       " 'string[] ids = query.Select(x => x.Value).ToArray();',\n",
       " 'printForm1.Print();',\n",
       " 'e.Handled = true;',\n",
       " '(XElement)(navigator.UnderlyingObject).Name = ...',\n",
       " '[PartCreationPolicy(CreationPolicy.NonShared)]',\n",
       " 'Canvas.SetLeft(btn, 30);\\\\n...\\\\nDragCanvas.SetCanBeDragged(btn,true);',\n",
       " 'chartRange = xlWorkSheet.get_Range(\"A1\", \"B\" + dataGridView1.RowCount);',\n",
       " 'el.SetElementValue(\"notes\", el.value + \" \" + note);',\n",
       " 'UIScreen.MainScreen.Capture ();',\n",
       " 'CultureInfo.CurrentCulture',\n",
       " 'VersionHelpers.h',\n",
       " 'cmdBestellDetailsDELETE.CommandType = CommandType.StoredProcedure;',\n",
       " 'string json = JsonSerializer.SerializeObject(o, DateTimeFormat.Default);',\n",
       " 'string phone = (string)reader[\"telefonszam\"].ToString();',\n",
       " '[DefaultValue]',\n",
       " 'var result = context.spSearchResults(Your list of parameters...);',\n",
       " 'runat=\"SERVER\"',\n",
       " 'Calendar.set(Calendar.MILLISECOND, value);',\n",
       " 'bool contained = !subset.Except(superset).Any();',\n",
       " '(?<Major>\\\\d*)\\\\.(?<Minor>\\\\d*)(\\\\.(?<Build>\\\\d*)(\\\\.(?<Revision>\\\\d*))?)?',\n",
       " 'dataGridView1.CurrentRow.Cells[\"ID\"].Value',\n",
       " 'string.Format(\"{0:$#,##0.00;($#,##0.00);\\'\\'}\", value)',\n",
       " 'return Convert.ToBase64String(File.ReadAllBytes(path));',\n",
       " 'AppDomain.CurrentDomain.SetupInformation.ConfigurationFile',\n",
       " 'DateTime.Now.AddSeconds(-1300);',\n",
       " 'foreach(var rssItem in rss.Channel.Items.Take(6))',\n",
       " 'Dictionary.Count',\n",
       " \"return (coin() == 'heads' ? g1 : g2);\",\n",
       " 'double result = mylist.SkipWhile(n => n != 8).Skip(1).First();',\n",
       " 'SET DATEFORMAT',\n",
       " '[Required(AllowEmptyString=true)]',\n",
       " 'engine.Sys.argv = List.Make(args);',\n",
       " 'Dictionary<string, string[]>',\n",
       " 'var view = new DataView(dt) { Sort = \"id\" };',\n",
       " 'string.Join(\",\",objs.Select(w=>w.stringValue))',\n",
       " 'var distance = coordinateA.GetDistanceTo(coordinateB);',\n",
       " 'string msg = string.Join(\"\\\\n\", layoutListNames);',\n",
       " 'x:Shared=\"False\"',\n",
       " '/virtdirect/somefolder/',\n",
       " 'GPUpdate /force',\n",
       " 'Request.Form[\"type\"]',\n",
       " 'private readonly List<myClass> myCollection = new List<myCollection>();',\n",
       " 'var wrapper = new WindowWrapper(this);\\\\n\\\\n dialog.ShowDialog(wrapper)',\n",
       " 'T CheckIsType<T>(Thing thing)\\\\n    where T: class\\\\n{\\\\n    return thing as T;\\\\n}',\n",
       " 'private UdpClient broadcast_receiver= new UdpClient(15069);',\n",
       " 'System.Numerics.BigInteger',\n",
       " 'Dictionary<Type, IActiveList>',\n",
       " 'GlobalConfiguration.Configuration.DependencyResolver = myResolverImpl;',\n",
       " 'str = Regex.Replace(str, @\"[\\\\. ]*\\\\. *\", \".\", RegexOptions.Multiline)',\n",
       " 'CQ page_ptags = document_div.Cq().Find(\"p\");',\n",
       " 'Process.Start(dir);',\n",
       " 'R = H/2 + W^2/8H',\n",
       " 'System.Drawing',\n",
       " 'foreach (int day in days) \\\\n{\\\\n    td.DaysOfWeek |= (DaysOfTheWeek)day;\\\\n}',\n",
       " 'show databases',\n",
       " 'Invalidate()',\n",
       " 'range.EntireColumn.AutoFit();\\\\nrange.EntireRow.AutoFit();',\n",
       " 'new DataBusProperty<IEnumerable<byte[]>>',\n",
       " 'try / catch',\n",
       " 'if (this.Controls.Find(regday.Groups[0].Value).Checked)',\n",
       " 'Height=\"Auto\" Width=\"Auto\"',\n",
       " 'this.PublicKey.Key.KeySize;',\n",
       " 'label1.Text = Math.Round(output, 2).ToString();',\n",
       " 'InstallUtil.exe [YourService].exe',\n",
       " 'ServicePointManager.DefaultConnectionLimit',\n",
       " '#if 0\\\\nwhatever you want can go here, comments or not\\\\n#endif',\n",
       " 'Kernel.Load(new [] { new [YourModule]() });',\n",
       " 'obj.Guid',\n",
       " 'list.RemoveAll(t => t.Item1 == cond1 && t.Item3 == cond3);',\n",
       " 'objects[0] = ((int)objects[0]) + 10;',\n",
       " 'FileVersionInfo.GetVersionInfo(\"some.dll\");',\n",
       " 'bool allUnique = Numbers.Distinct().Count() == Numbers.Length;',\n",
       " 'Type type = reader.GetFieldType(0);',\n",
       " 'Download*',\n",
       " 'new StreamWriter(\"c:\\\\\\\\file.txt\", true);',\n",
       " 'string str=\"select top 100 * tableA where id > 56\";',\n",
       " '.ToString(\"N0\")',\n",
       " 'ToString(\"#,0\")',\n",
       " 'MyDataSource.DataSource = new MyClass();\\\\nTextBox1.DataSource = MyDataSource;',\n",
       " 'EndPendingRequests()',\n",
       " 'Environment.SpecialFolder.ApplicationData',\n",
       " 'UINavigationBar.Appearance.SetBackgroundImage(image, UIBarMetrics.Default);',\n",
       " 'q.sort();',\n",
       " 'camera.position += camera.transform.up * _LeftStickScale * _ComandValues[5]',\n",
       " 'Assembly.GetCallingAssembly();\\\\n        Assembly.GetExecutingAssembly();',\n",
       " 'var results = jsonObj[\"stations\"].Children();',\n",
       " 'DoSomething(10, new[] {\"One\", \"Two\", \"Three\"});',\n",
       " '(e.Row.Cells[i].Text).Trim()',\n",
       " 'public override object InitializeLifetimeService(){\\\\n  return null;\\\\n}',\n",
       " 'using xyz.myclassname;',\n",
       " 'foreach(var item in MethodThatReturnsIList())\\\\n{\\\\n   // Do whatever\\\\n}',\n",
       " 'ResizeMode=\"CanMinimize\"',\n",
       " 'File.ReadAllBytes(@\"C:\\\\MyPicture.jpg\")',\n",
       " 'Dictionary<string, KeyValuePair<string, File>>',\n",
       " 'ClearHyperlinks()',\n",
       " 'User.GetFriendlyName()',\n",
       " 'ms-appx:///MyImageLibrary/Images/foo.jpg',\n",
       " 'cpulimit -l 50 COMMAND',\n",
       " 'ListBox.Items.Insert(0, \"Message\");',\n",
       " 'writer.BaseStream.Length % 2 == 0',\n",
       " 'chart1.Dispatcher.Invoke(() =>chart1.Visible = true);',\n",
       " 'FB.UserId',\n",
       " 'world.Decompose(out traslation, out rotation , out scale);',\n",
       " 'exec(\"gmcs -pkg:dotnet toolbar.cs\");',\n",
       " 'Mscorcfg.msc',\n",
       " 'adapter.Fill(dataSet);',\n",
       " 'Version=3;',\n",
       " 'SET TRANSACTION ISOLATION LEVEL READ UNCOMMITTED',\n",
       " '\"I want to learn \\\\\"C#\\\\\"\"',\n",
       " 'App submission and certification',\n",
       " 'string sCategories = string.Join(\",\", categories.Select(x => x.Name));',\n",
       " 'findObjectsInBackgroundWithBlock:',\n",
       " 'var result = poHeaders.Where(e => e.PODetails.Any(a => a.ItemId == intItemId));',\n",
       " 'echo %errorlevel%',\n",
       " 'TextBox1.Attributes[\"type\"]',\n",
       " 'int qNum = query.Skip(2).First().questionId;',\n",
       " 'var studentID = grvRow.Cells[0].Text;\\\\nvar courseNumber = grvRow.Cells[1].Text;',\n",
       " 'Array.Resize()',\n",
       " 'PostBackUrl=\\'<%# \"AddItem.aspx?CategoryID=\" + Eval(\"CollectionID\")%>\\' />',\n",
       " 'System.Net.Mail',\n",
       " 'string text_to_send = Console.ReadLine();',\n",
       " 'fvReport.ChangeMode(DetailsViewMode.Edit);',\n",
       " 'JObject json = JObject.Parse(text);\\\\nstring formatted = json.ToString();',\n",
       " \"string[] arr = test.Split('_');\",\n",
       " '_random.Next',\n",
       " 'item.RTFBody = System.Text.Encoding.UTF8.GetBytes(rtb.Rtf);',\n",
       " 'timeLossStackedBarChart.SeriesCollection[0].YAxis.Scale = Scale.Stacked;',\n",
       " 'public string CityText\\\\n{\\\\n    get { return this.txtCity.Text; }\\\\n}',\n",
       " 'SwitchLanguage()',\n",
       " 'Convert Zero Datetime=true;',\n",
       " 'new Date().gettimezoneOffset()',\n",
       " 'docker run -d --name redisDev -p 6379:6379 redis',\n",
       " 'e.Graphics.InterpolationMode = InterpolationMode.HighQualityBicubic;',\n",
       " 'P90XPRogramt.ProgramLoginBOL.TestParsing(txtStartDate.Text);',\n",
       " 'using a = SomeNamespace.AClassWithALongNameIDontWantToType;',\n",
       " 'context.Result = new RedirectResult(urlHelper.Action(\"Test\", \"Redirect\"));',\n",
       " 'File.AppendAllText(filePath, BitConverter.ToString(image));',\n",
       " '(;#)?[0-9]+;#',\n",
       " 'BitConverter.GetBytes(366);',\n",
       " 'Response.Redirect(\"~/ViewInvoices.aspx\", false);',\n",
       " 'db.collection.CountAsync(new BsonDocument());',\n",
       " 'rng.Find.Font.Underline  = wdUnderline.wdUnderlineSingle;',\n",
       " '{ null, \"19.75\"}',\n",
       " 'permissions.insert',\n",
       " 'New DelegateCommand(Of Book)(AddressOf RemoveBook, AddressOf CanRemoveBook)',\n",
       " 'Graphics.MeasureString',\n",
       " 'Double a = this.Column1.ActualWidth.Value;',\n",
       " 'sc delete \"servicename\"',\n",
       " 'txtOutputBox.Text = String.Join(\" \", txtInputBox.Text.Split().Reverse());',\n",
       " 'UIApplication.OpenUrl',\n",
       " 'pb.BringToFront();',\n",
       " 'match = lbBranches.SelectedItem.ToString();',\n",
       " 'startDate = startDate.replace(/(\\\\b\\\\d\\\\b)/g, \"0$1\");',\n",
       " 'ValidationExpression=\"[A-Za-z0-9]+\"',\n",
       " 'var i2 = i1.Where(m => m!= -1).ToArray()',\n",
       " 'Assembly.GetExecutingAssembly().Location',\n",
       " 'ListOfPoints.OrderBy(pt => pt.X).ThenBy(pt => pt.Y).ToList();',\n",
       " 'rtfTxt.Rtf = @\"{\\\\rtf1\\\\ansi This is some \\\\b bold\\\\b0 text.}\";',\n",
       " 'gameObject.transform.parent = GameObject.Find(\"Name of game object\").transform;',\n",
       " 'var result = client.Post(string.Format(\"/{0}/links\", profileId), messagePost);',\n",
       " 'var resultList = fullNameList.Where(r => searchList.Any(f=>r.StartsWith(f)));',\n",
       " 'new Cookie(\"cookie\", HttpUtility.UrlEncode(\"val1%2Cval2\"))',\n",
       " 'client.UploadData()',\n",
       " 'var action = RouteData.Values[\"action\"];',\n",
       " 'AreaPickerDotNet()',\n",
       " 'pro.SetValue(objT, row.IsNull(pro.Name) ? null : row[pro.Name], null);',\n",
       " '{MyModel.Show1} = true',\n",
       " '[SessionState(SessionStateBehavior.Disabled)]\\\\npublic class SomeController',\n",
       " 'string x = @\"Hello\\\\nworld\";',\n",
       " 'LIST1.SelectMany(a => a.LIST2.Select(b => b.Id)).Distinct();',\n",
       " 'if(b is A)\\\\n{\\\\n    // do something\\\\n}',\n",
       " 'ObjectContext.CreateObjectSet<YourEntityType>().AddObject(yourEntity)',\n",
       " '(from p in products orderby  Guid.NewGuid() select p).Take(10).ToList()',\n",
       " 'if(!string.IsNullOrEmpty(X)) \\\\n{\\\\n  char.ToUpper(X[0]) + X.Substring(1)\\\\n}',\n",
       " 'request.ContentType = \"text/xml\";',\n",
       " 'bcParser.NET',\n",
       " 'static virtual',\n",
       " 'DateTime origin = DateTime.Parse(this.dob);',\n",
       " 'HKCU\\\\Software\\\\Microsoft\\\\Windows\\\\CurrentVersion\\\\Run',\n",
       " 'DbContext.Entry(entity).State = EntityState.Unmodified',\n",
       " 'Align Assignments',\n",
       " 'string path = Path.GetDirectoryName(Assembly.GetEntryAssembly().Location);',\n",
       " 'while (true) Dispatcher.BeginInvoke(...);',\n",
       " '.AsEnumerable',\n",
       " 'var exp = new Regex(@\"^  Performed by \\'?(?<performer>.*?)(\\'? \\\\(qv\\\\))?$\");',\n",
       " 'using System; \\\\n\\\\nDateTime returnedDate = DateTime.Now();',\n",
       " 'Assembly.GetEntryAssembly()',\n",
       " 'FocusManager.SetFocusedElement(AnotherElementID);',\n",
       " 'HtmlNode.ElementsFlags.Remove(\"option\");',\n",
       " 'posts\\\\{GetBlogId()}',\n",
       " 'Embedded Resource',\n",
       " 'var myDate = DateTime.Parse(myDate, CultureInfo.CurrentCulture);',\n",
       " 'var events = db.Records.Distinct().ToList();',\n",
       " '2011-06-06 23:59:59.997',\n",
       " 'obj = null',\n",
       " 'string[] list = b.Split(new string[] { \"ab\" }, StringSplitOptions.None);',\n",
       " 'Dictionary<T,V>',\n",
       " 'br.BaseStream.Position = 0;',\n",
       " 'if(IsPostBack)\\\\n         new myFunctions().HideUserMessage(ErrorMessageLabel);',\n",
       " 'Form.Activate',\n",
       " 'object Invoke = getMethod.Invoke(null, new object[] { parameters, false });',\n",
       " 'Virtual Path',\n",
       " '_data = record?.RltdPties?.DbtrAcct?.Id?.Item',\n",
       " 'Response.Redirect(\"Default2.aspx?Name=\" + Server.UrlEncode(TextBox1.Text));',\n",
       " 'var s = \"123 \\' 456 \\'\".Replace(\"\\'\", \"\\\\\"\");',\n",
       " 'str.Append(\"chart.draw(data, {height: 300, title: \\'Company Performance\\'\");',\n",
       " 'private string m\\\\n{\\\\n    get { return string.Empty; }\\\\n}',\n",
       " 'Task.WaitAll(tasks.ToArray());',\n",
       " 'Type.GUID',\n",
       " 'ItemHeight=\"{Binding Path=ItemHeight}\"',\n",
       " 'Microsoft.CSharp',\n",
       " '//Possible but not useful.\\\\n    object ref1 = null;\\\\n\\\\n    ref1.ToString();',\n",
       " 'query = query.Where(x => AccountNumbers.Contains(x.AccountNumber));',\n",
       " 'myTask = new Task<bool>(() => MyMethod(xyz, abc), _cancelToken);',\n",
       " 'retVal.AddRange(Enumerable.Repeat(value, somesize));',\n",
       " 'XmlNode node = xmlDoc.SelectSingleNode(\"/PolicyChangeSet\");',\n",
       " 'value = Math.Round(value / 1000);',\n",
       " 'Canvas.SetLeft(myStackPanel, 50);',\n",
       " '\"sqlite3.exe\" %dbFilename% < Database.sql',\n",
       " 'File.AppendText(\"filename\")',\n",
       " 'ws.Tables.FirstOrDefault().ShowAutoFilter = false;',\n",
       " 'IEnumerable<Sheet^>',\n",
       " 'System.ServiceModel.ServiceSecurityContext.Current',\n",
       " 'if (externalSchema is XmlSchemaImport)',\n",
       " 'items = items.GroupBy(i => new {i.X, i.Y, i.Z}).Select(i => i.Last()).ToList();',\n",
       " 'yourLookUpEdit.Properties.DataSource = //Your List or DataTable',\n",
       " '&& x.DateOfBirth.HasValue &&',\n",
       " 'zip.AddFile(\"C:\\\\\\\\ReadMe.txt\", \"\");',\n",
       " 'string from = ConfigurationManager.AppSettings[\"MailFrom\"];',\n",
       " 'textbox.ReadOnly = true;',\n",
       " 'var specimen = new SpecimenContext(fixture).Resolve(type);',\n",
       " 'FileIOPermissionAccess.PathDiscovery',\n",
       " 'Content/background',\n",
       " '#jqGridDiv\\\\n{\\\\nposition:relative;\\\\nz-index:1;\\\\n}',\n",
       " 'Func<ResourceManager, Resource>',\n",
       " 'chat.server.send2(frage);',\n",
       " 'Windows Azure Services',\n",
       " 'picturebox.Image = project.Properties.Resources.imgfromresource',\n",
       " '// ByName\\\\nfrom doc in docs\\\\nselect new { doc.Name }',\n",
       " 'value = value.Replace(\"{\", \"\").Replace(\"}\", \"\");',\n",
       " 'foreach (int x in list.OrderBy(i=>Math.abs(i))\\\\n{\\\\n    // Do Stuff\\\\n}',\n",
       " 'Console.WriteLine',\n",
       " 'xs:assertion',\n",
       " 'DataTable dt = ((DataSet)dataGridView1.DataSource).Tables[index];',\n",
       " 'DataGridView.SelectedRow.Cells[0]',\n",
       " 'RegistryValueOptions.DoNotExpandEnvironmentNames',\n",
       " 'logger.Info(XElement.Parse(request.OuterXml).ToString());',\n",
       " '[StructLayout(LayoutKind.Sequential, Pack=1)]',\n",
       " 'if (svc.ShowDialog(form) == DialogResult.OK)\\\\n {\\\\n     value = form.Value;\\\\n }',\n",
       " 'Table(\"Counterparty\")',\n",
       " '\\\\(((?>\\\\((?<DEPTH>)|\\\\)(?<-DEPTH>)|[^()]+)*(?(DEPTH)(?!)))\\\\)',\n",
       " 'gv.HeaderRow.TableSection = TableRowSection.TableHeader;',\n",
       " 'grid.TopLeftHeaderCell.Value = \"Text\";',\n",
       " 'CreateNoWindow = true',\n",
       " 'Execute(string)',\n",
       " 'Integrated Security=SSPI',\n",
       " 'new MyClass().nonStaticMethod();',\n",
       " 'List<SomeClass>',\n",
       " 'Microsoft.WindowsCE.Forms.Notification',\n",
       " 'Delegate.CreateDelegate(typeof(TargetDelegate), methodInfo, false) != null',\n",
       " 'picBox.Parent = this;\\\\n\\\\n picBox.BringToFront();',\n",
       " 'TextBox1.Text= A;',\n",
       " 'OnValidate()',\n",
       " 'Action<string> L = MyDebug.Log;',\n",
       " 'ChildWorldTransform = ChildLocalTransform * ParentWorldTransform',\n",
       " '[Caching(300)]\\\\nComment GetComment(int commentId);',\n",
       " 'document = new XDocument(new XElement(\"root\", elem1, elem2));',\n",
       " 'sum = 0;\\\\nwhile (n != 0) {\\\\n    sum += n % 10;\\\\n    n /= 10;\\\\n}',\n",
       " 'System.IO.File.Exists(\"path_to_program.exe\");',\n",
       " 'File.Create(textfilename).Close();',\n",
       " '[assembly: InternalsVisibleTo(\"AssemblyName\")]',\n",
       " 'function removeElement(el) {\\\\n    el.parentNode.removeChild(el);\\\\n}',\n",
       " 'context.Response.Cookies.Add(cook);',\n",
       " 'void function (const char* str, char* output, size_t outputLength)',\n",
       " 'Message1_TypeA\\\\nMessage2_TypeB',\n",
       " 'myUser.Roles.Add(someRole);',\n",
       " 'Type t = someClassInstance.GetType();\\\\nobject o = Activator.CreateInstance(t);',\n",
       " 'secondClassObject.FirstClassObject.membVar1 = 42',\n",
       " 'SqlParameter myParam = new SqlParameter(\"@NameOfParameter\",SqlDbType.Image);',\n",
       " 'Convert.ToInt32(\"4E4DBC\", 16);',\n",
       " 'Color red = new Color() { R = 255, G = 39, B = 0, A = 255 };',\n",
       " 'System.Data.SqlClient.SqlBulkCopy',\n",
       " 'string firstVal = textbox1.Text;\\\\nstring secondVal = textbox2.Text;',\n",
       " 'Response.Headers.Set(\"Cache-Control\", \"private, max-age=0\");',\n",
       " 'settings.user_agent = \"My Own Client/\" LIBTORRENT_VERSION;',\n",
       " 'var appId = Windows.ApplicationModel.Store.CurrentApp.AppId;',\n",
       " 'return new HttpUnauthorizedResult();',\n",
       " '((Page1)frame1.Content).TextBox1.Text = \"Hello, World\";',\n",
       " 'repeatedWord.Count()-1',\n",
       " 'var node = SiteMap.Provider.FindSiteMapNodeFromKey(key);',\n",
       " 'lead.InternalCompany = nvCollection[\"ic\"] ?? string.Empty;',\n",
       " 'bus.Publish(msg)',\n",
       " 'License Exception',\n",
       " 'bool hasCheese = arts.Any(a => a.Name == \"Cheese\");',\n",
       " 'ByVal table() As myStruct',\n",
       " 'getPayeeID.First().GetValueOrDefault()',\n",
       " 'logman start \"My DataCollectorSet\"\\\\nlogman stop \"My DataCollectorSet\"',\n",
       " 'var ff = nums.Select(x => Convert.ToInt32(x)).ToArray();',\n",
       " \"myString = myString.PadLeft(5, '_');\",\n",
       " 'bool isitchecked = txtIsPaid.checked;\\\\n Console.WriteLine(isitchecked);',\n",
       " 'for = \"txtName\"',\n",
       " 'm.OneToOne(c => c.rootStructure, a => a.Lazy(LazyRelation.Proxy))',\n",
       " '[assembly: MathWorks.MATLAB.NET.Utility.MWMCROption (\"- nojit\")]',\n",
       " 'System.Threading.Thread.CurrentThread.CurrentCulture',\n",
       " 'status = (int) Status.Stack;',\n",
       " 'for (int x = 0; x <= dt.Rows.Count-1; x++)',\n",
       " 'RenderTargetBitmap()',\n",
       " 'powershell.exe -ExecutionPolicy Bypass',\n",
       " 'Regex.Replace(input, @\"\\\\\\\\(.|$)\", \"$1\");',\n",
       " 'if (clientSocket!=null)\\\\n   clientSocket.Close();',\n",
       " 'var allValid = myList.All(item => item.IsValid);',\n",
       " '&& !req.IsLocal',\n",
       " 'hashCode modulo array.Length',\n",
       " 'var viewModel = new SomeAwesomeViewModel();\\\\nDataContext = viewModel;',\n",
       " 'clientCredentialType=\"Basic\"',\n",
       " 'CPCSS.Attributes.Add(\"class\", \"bag_d\");',\n",
       " 'A[a-e].*',\n",
       " 'var elementundermouse = Mouse.DirectlyOver as FrameworkElement;',\n",
       " 'Microsoft.CSharp.CSharpCodeProvider',\n",
       " 'where predicate == null || predicate(student)',\n",
       " 'webBrowser1.Navigate(\"www.google.com\");',\n",
       " 'int[,] inner = new int[4,2];',\n",
       " 'Install-Package SignalR.EventAggregatorProxy',\n",
       " 'await System.Threading.Tasks.Task.Delay(500);',\n",
       " 'ASP.NET Applications\\\\Requests/Sec',\n",
       " 'cascade=\"all-delete-orphan\"',\n",
       " 'hash --> string',\n",
       " 'dropGridView.DataSource = dt;\\\\ndropGridView.DataBind();',\n",
       " 'dataGridView1.Columns.Clear();',\n",
       " 'ReSharper -> Options -> Code Editing -> C# -> Blank Lines',\n",
       " 'ToNullable<Type.GetType(r.DataType)>()',\n",
       " 'CHCP 1252',\n",
       " 'collection.SelectMany(a => a.ListChild)',\n",
       " 'return !CheckBoxOnContolOnForm.Checked;',\n",
       " 'var sorted = strings2.OrderBy(x => x, StringComparer.InvariantCulture)',\n",
       " 'mywindow.Content = new MyuserControl();',\n",
       " 'var units = Convert.ToDouble(product[1]);',\n",
       " 'return View(\"LoginViewNameGoesHere\")',\n",
       " 'SetLength()',\n",
       " '[Ignore]',\n",
       " 'Application.ActiveWindow.Windows.ItemFromID(visWinIDPanZoom)',\n",
       " 'string txt = specialPricingSheetGridView.Rows[4].Cells[2].Text;',\n",
       " 'ms.Position',\n",
       " 'Point pos = Mouse.GetPosition(myElement);',\n",
       " 'var age = People[ddlTest.SelectedIndex].Age;',\n",
       " 'System.IO',\n",
       " 'Request.Url.AbsoluteUri',\n",
       " 'arrayOfStringDictionaries.Select(dict => dict.Values.ToArray()).ToList();',\n",
       " 'using MyClass=Project1.MyClass;  // A\\\\n\\\\nusing Project1.MyClass;  // B',\n",
       " 'Data Source=\\\\\\\\servername\\\\sharename\\\\path\\\\to\\\\data\\\\file.accdb;',\n",
       " 'dateTimePicker1.Value.AddYears(1).AddDays(-1);',\n",
       " 'UnlockBits()',\n",
       " 'foreach (var key in dict.Keys.ToList())\\\\n{\\\\n    dict[key] = false;\\\\n}',\n",
       " 'ddl.Items.Add(new ListItem(\"Your Text\", \"0\"));',\n",
       " \"string s = s.Replace('\\\\uFFFD','\\\\'');\",\n",
       " 'SystemFonts.CaptionFontSizeKey',\n",
       " 'Textbox.AppendText(\"New text\\\\r\\\\n\");\\\\nApplication.DoEvents();',\n",
       " 'var request = (HttpWebRequest)WebRequest.Create(url);\\\\nrequest.GetResponse();',\n",
       " 'DateTime time',\n",
       " 'string filepath = Server.MapPath(\"test.txt\");',\n",
       " 'doc.DocumentNode.SelectSingleNode(\"//form[@name=\\'name1\\']\")',\n",
       " 'int? accom = (accomStr == \"noval\" ? (int?)null : Convert.ToInt32(accomStr));',\n",
       " 'var box = (TextBox)numericUpDown1.Controls[1];',\n",
       " '((ActualMdiParentFormType) this.MdiParent).statusStripLabel.Text = \"Value\";',\n",
       " 'dg1.Rows.RemoveAt(i);',\n",
       " 'TRUNC(LOAD_DATE)',\n",
       " 'MyList.Clear();',\n",
       " 'if(IsPostBack == false)\\\\n{\\\\n   //code for initializing your date picker\\\\n}',\n",
       " 'Console.WriteLine(\"Your age in 10 years will be: \" +(FirstName + 10));',\n",
       " 'hook chain',\n",
       " 'Build > Configuration Manager',\n",
       " 'public ActionResult MyAction(string q) {...}',\n",
       " \"document.getElementById('myTagId').innerHTML = 'Downloads';\",\n",
       " 'AppSettings:SiteEmailAddress',\n",
       " 'Assembly.GetEntryAssembly()',\n",
       " 'screen.CopyTo(buffer, 0);',\n",
       " '[XmlIgnore]\\\\npublic int DoNotSerialize { get { ... } set { ... } }',\n",
       " 'Console.Write(\"The highest number in the array is: {0} \", newArray.Max());',\n",
       " 'tactImgList[0] = new BitmapImage(new Uri(@\"ms-appx:///Assets/Images/1.png\");',\n",
       " 'Process.Start()',\n",
       " 'using (var impersonationContext = WindowsIdentity.Impersonate(IntPtr.Zero))',\n",
       " 'System.Drawing.dll',\n",
       " 'class Vegetable : Dictionary<string, List<Vegetable>>',\n",
       " \"//text()[contains(., 'Frozen') and contains(., 'obamacare')]\",\n",
       " 'new ContextualSpacing() { Val = false }',\n",
       " '+Elapsed',\n",
       " 'testdb.Database.Log = Console.WriteLine;\\\\ntestdb.SaveChanges();',\n",
       " 'var activity2 = new Intent (this.Activity, typeof(ImportScreen));',\n",
       " 'labelName.Text = DateTime.Now.ToString();',\n",
       " 'blog post',\n",
       " 'StudProp.GetValue(oStud, null).ToString();',\n",
       " 'var or dynamic',\n",
       " 'Object o1 ,o2;\\\\no1 = o2 = new Object();',\n",
       " 'if (!Test.Contains(\"Teststring\"))\\\\n{\\\\n   Test.Add(\"Teststring\");\\\\n}',\n",
       " 'A.B = null;',\n",
       " 'office 14 primary interop assemblies',\n",
       " 'var keys = from m in foo\\\\n           select m[\"episode_key\"];',\n",
       " 'var route = base.Request.GetRoute();\\\\nroute.Path.Print(); //= /foo/{Name}',\n",
       " 'System.Diagnostics.Process.Start',\n",
       " 'html = Regex.Replace(html, @\"( |\\\\t|\\\\r?\\\\n)\\\\1+\", \"$1\");',\n",
       " 'return (productEvents.Where(s => event == s.Type));',\n",
       " 'rfvtxtAdd.Enabled = false;',\n",
       " 'System.Web.dll',\n",
       " 'x.Name = \"new_textbox\";',\n",
       " '[Serializable]',\n",
       " 'selectionText.Text= \"This is the \" + selection.Content.ToString();',\n",
       " \"string ellipsisedPath = OriginalPath + '\\\\0';\",\n",
       " 'price.ToString(@\"#,0.00;-#,0.00;0\\\\,-\").Replace(\".00\", \",-\");',\n",
       " 'Server.MapPath(\"~/App_Data/MyCert.pfx\")',\n",
       " 'listBox1.Items.Add(\"Here is the text of the list box item\");',\n",
       " 'MyClass->DoSomething(Nullable<DateTime>());',\n",
       " 'string ZamanShoru = DateTime.Now.ToString(\"H:mm:ss.ffff\")',\n",
       " 'thedocument.CustomDocumentProperties[\"NameOfTheCustomProperty\"].Value = 1;',\n",
       " 'OracleDataReader dr = ((OracleRefCursor)pRefcursor.Value).GetDataReader();',\n",
       " 'window.top.location = \"the-page-i-want-to-go-to.aspx\"',\n",
       " 'new[]{\"Ansi_nulls\",\"Encrypted\",\"Quoted_identifer\", ...}.Contains(xmlNode);',\n",
       " 'XmlDocument doc = new XmlDocument();\\\\ndoc.Load(url);\\\\ndoc.Save(filename);',\n",
       " 'Regex.Split(s, @\"(\\\\[[A-Z]+\\\\])\")',\n",
       " 'tb2_kva.Text = Math.Round(z, # Places).ToString();',\n",
       " '(=[A-Z])(\\\\w|\\\\%20|\\\\.)+',\n",
       " 'DimsContainer.ItemContainerGenerator.ContainerFromIndex(i);',\n",
       " 'Environment.GetFolderPath(Environment.SpecialFolder.ApplicationData)',\n",
       " 'trackBar1.Value = trackBar1.Minimum',\n",
       " 'string input = @\"c:\\\\abc\\\\def\";\\\\nstring result = input.Replace(@\"\\\\\", \"/\");',\n",
       " 'if(((bool)dbDataSet.Tables[\"productGeneral\"].Rows[0][\"Active\"] == false))',\n",
       " './monobuild.bash',\n",
       " 'ControlButton.Style = Application.Current.Resources[\"buttonStyle2\"] as Style',\n",
       " 'return _data != null ? _data.name : null;',\n",
       " 'xcopy /E \"$(ProjectDir)\\\\Content\" \"$(TargetDir)\\\\Content\\\\*\"',\n",
       " 'For<IScheduler>().Use(c => c.GetInstance<ISchedulerFactory>().GetScheduler());',\n",
       " 'while(true)',\n",
       " 'Request.Url.GetLeftPart(UriPartial.Authority)',\n",
       " 'rdpShipDate.SelectedDate = DateTime.Today;',\n",
       " 'JsonConvert.SerializeObject()',\n",
       " '(U+200E)',\n",
       " 'Map(Reveal.Member<string>(\"privateProperty\"))',\n",
       " 'WebOperationContext.Current.IncomingResponse',\n",
       " 'listBox1.Items[0] = listBox1.Items[0];',\n",
       " 'NotifyIcon icon = ...;\\\\nicon.Visible = true;',\n",
       " 'return;',\n",
       " '((YourProviderType)Membership.Provider).CreateUser(yourParameters);',\n",
       " 'Request[\"id\"]',\n",
       " 'if(starttime<= deadline && deadline<= endtime)',\n",
       " 'IEnumerable<Tag> results = aEntities.SelectMany(e=>e.Tags).Distinct();',\n",
       " 'var filter = Builders<Issue>.Filter.AnyEq(x => x.AssignedTo, id.ToString());',\n",
       " 'port.BaseStream.ReadAsync',\n",
       " 'myCheckBox.Checked = false;',\n",
       " 'Application[]',\n",
       " 'per-controller configuration',\n",
       " 'spinTime = spinTime.Subtract(TimeSpan.FromSeconds(1));',\n",
       " 'var myDate = DateTime.Now.ToString(\"o\");',\n",
       " 'GridView.Rows[index](columnIndex)',\n",
       " 'AddHandler client.OpenReadCompleted, AddressOf myEventHandler',\n",
       " 'bool retina = (UIScreen.MainScreen.Scale > 1.0);',\n",
       " 'TextBox txt = (TextBox)GridView2.Rows[0].FindControl(\"txtQuantityWanted\");',\n",
       " 'ListViewItem item = new ListViewItem(az);',\n",
       " 'Customer myCustomer = new Customer();\\\\nDto.Customer dtoCustomer = ....;',\n",
       " 'calendarClass{\\\\n    background: white; \\\\n    position: absolute;\\\\n}',\n",
       " 'names.Contains(\"tOm\", StringComparer.CurrentCultureIgnoreCase);',\n",
       " 'CheckVisibility()',\n",
       " 'if(e[0] == 0.0) ..',\n",
       " 'myName.GetType().Namespace',\n",
       " 'Assembly.ReflectionOnlyLoadFrom',\n",
       " 'var res = allcats.Select(a => string.Join(\"\", a)).ToArray();',\n",
       " 'Modelstate.Remove(\"yourkey\"); //remove one\\\\n\\\\nModelstate.Clear(); //remove all',\n",
       " 'connectionString=\"Data Source=App_Data\\\\RVEST_V1.DB\"',\n",
       " 'ListA.Clear();\\\\nListA.AddRange(ListB.Items);',\n",
       " 'Bmp.SetResolution(g.DpiX, g.DpiY);\\\\ng.DrawImage(Bmp, 0, 0);',\n",
       " '[Obsolete]\\\\nclass BlackAndWhiteTelevision {}',\n",
       " 'public class MyClass : IBindingList',\n",
       " 'protected void Session_End(Object sender, EventArgs e)\\\\n{\\\\n    //save to db\\\\n}',\n",
       " 'Contract.Requires(inputIV.Length == 16);',\n",
       " 'args.Method',\n",
       " 'var companies = Company.GetCompanyDetails();',\n",
       " 'File.WriteAllBytes(@\"c:\\\\yourfile\", Convert.FromBase64String(yourBase64String));',\n",
       " 'DataGridViewCellMouseEventArgs e\\\\nrow = e.RowIndex\\\\ncolumn = e.ColumnIndex',\n",
       " 'client.CancelAsync()',\n",
       " '???<?xml version=\"1.0\" encoding=\"utf-8\"?>',\n",
       " 'tasklist /S \\\\\\\\<server> /V > tasklist.txt',\n",
       " '\\\\\\\\live.sysinternals.com\\\\tools\\\\procmon.exe',\n",
       " 'Application.Run(form1);',\n",
       " 'if ((testItem & FlagTest.Flag1) == FlagTest.Flag1)\\\\n{\\\\n     // Do something\\\\n}',\n",
       " 'Page.IsPostBack',\n",
       " 'FooWindow a = new FooWindow();\\\\na.owner = this;',\n",
       " 'debugList.ForEach(item => outputContent.text += item);',\n",
       " 'Regex.Replace(\"This is dummy text %with% percent signs\", \"%(.*?)%\", @\"[$1]\");',\n",
       " '1204578057.ToString(\"X\")',\n",
       " 'this.SomePropertyX = log.SomePropertyX',\n",
       " 'if(DateTime.Now > expirationDate) { /* TODO:... */ }',\n",
       " 'return isMouseInside;',\n",
       " 'while (dr.Read())\\\\n{\\\\n    String a1 = dr[0].ToString();\\\\n    repvals += a1;\\\\n}',\n",
       " 'this.CausesValidation = false',\n",
       " 'p.CreateNoWindow = true;',\n",
       " 'this.BeginInvoke(new MethodInvoker(Refresh_dataGridView1));',\n",
       " 'UseLayoutRounding=\"True\"',\n",
       " '_memoryPointer = tempMemoryPointer;',\n",
       " 'dir | fndstr  hi',\n",
       " 'TextBox.IsReadOnly',\n",
       " 'String x = String.Format(\"{0:X2}\", Int.Parse(myInteger));',\n",
       " '%localappdata%\\\\Microsoft\\\\VisualStudio\\\\11.0\\\\ComponentModelCache',\n",
       " 'EMPLOYEE?',\n",
       " 'byte[] bytes = System.IO.File.ReadAllBytes(fileName);',\n",
       " 'ToString()',\n",
       " 'response.End()',\n",
       " 'namespace foo {\\\\n    enum foo {\\\\n        bar,\\\\n        baz\\\\n    };\\\\n}',\n",
       " 'System.Numerics.BigInteger',\n",
       " 'System.IO.Path.GetDirectoryName()',\n",
       " 'var c = b.Except(a).ToArray(); // gives you { \"5\", \"6\" }',\n",
       " 'var difference = songs.Except(attributes.Select(s=>s.name)).ToList();',\n",
       " 'public void test()\\\\n{\\\\n    exc(()=>1);\\\\n}',\n",
       " 'for(int x = 1; x < Size-1; x++)  // these all have x-1 and x+1 neighbours',\n",
       " 'var number = 2011;\\\\n   InputSimulator.SimulateTextEntry(number.ToString());',\n",
       " 'Build Events',\n",
       " '[Range(1, int.MaxValue)]\\\\npublic int IdCategory{ get; set; }',\n",
       " 'User = new Users();',\n",
       " 'this.gvArticles.selectedIndex = -1;',\n",
       " 'Enum.GetValues(typeof(Enum)).Cast<int>().Sum();',\n",
       " '0h 0m 2s 7.815ms',\n",
       " 'Type.GetGenericTypeDefinition',\n",
       " 'GoogleTranslator.cs',\n",
       " 'client.Headers.Add(HttpRequestHeader.ContentType, \"application/json\");',\n",
       " 'worksheet.SaveAs(Filename:=filePath)',\n",
       " 'Dictionary<string,List<string>>',\n",
       " 'List<int> intList = intArray.Select(str => int.Parse(str)).ToList();',\n",
       " 'static int rollState = Animator.StringToHash (\"Jump_Fall_Roll.Roll\");',\n",
       " 'html, body\\\\n{\\\\n    overflow: auto;\\\\n}',\n",
       " 'x * y / z',\n",
       " 'layoutPanel.GetControlFromPosition(x,y);',\n",
       " 'toggleText.Style[\"Display\"];',\n",
       " '(dateTimePicker1.Value- duedate.Value).TotalDays*50',\n",
       " 'regex.Match(colorStr.Replace(\" \", \"\"));',\n",
       " 'Paragraph.KeepTogether',\n",
       " 'List<T>',\n",
       " 'date.ToString(\"yyyy-MM-dd HH:mm:SS\")',\n",
       " 'new System.ServiceModel.WSHttpBinding()',\n",
       " 'cmd.ExecuteNonQuery()',\n",
       " 'bool isValid = Regex.IsMatch(\"YourInput\", @\"^\\\\d{8}$\");',\n",
       " \"document.getElementByTagname('form').submit();\",\n",
       " 'this.dataGridView1.Columns[\"Account\"].DefaultCellStyle.ForeColor = Color.Blue;',\n",
       " '/platform:x86',\n",
       " 'public async Task<ActionResult> Register(RegisterViewModelForm model)',\n",
       " 'xmlDoc.CreateElementNS(\"using:Dictionary.Common\", \"local2:elementName\")',\n",
       " 'Any<IEnumerable<MyModel>>.Value.AsInterface',\n",
       " '\\\\d{4}(?:/\\\\d{1,2}){2}',\n",
       " 'var result = values.Aggregate((x, y) => x |= y);',\n",
       " 'new Regex(@\"(?<=Last name:).*\");',\n",
       " 'List<T>',\n",
       " 'Table(\"[User]\");',\n",
       " 'public enum FilmType {\\\\n   Horror = 1,\\\\n   Comedy = 2\\\\n}',\n",
       " 'tab1text.Invoke(new Action(delegate(){ tab1text.Text = inputLine }));',\n",
       " 'setup.exe',\n",
       " 'Session[User.ID]',\n",
       " 'Application.Logic.ActivityMonitorBlo',\n",
       " 'richTextBox2.AppendText(Environment.NewLine + DateTime.Today + \" Hello\");',\n",
       " 'Response.Write(\"Test\");',\n",
       " 'string justWord = \"(animal)\".Replace(\"(\",\"\").Replace(\")\",\"\")',\n",
       " 'ResetOnLogon=Y \\\\nResetOnLogout=Y \\\\nResetOnDisconnect=Y',\n",
       " 'List<T>',\n",
       " 'string currentTime = DateTime.UtcNow.AddMinutes(20).ToString(\"HH:mm:ss\");',\n",
       " 'textbox1.Text = YourDBMethodThatReturnsSum();',\n",
       " 'Console.WriteLine(string.IsNullOrEmpty(x));',\n",
       " 'new Thread(delegate () {\\\\n    updateProgress(count, totalRows);\\\\n}).Start();',\n",
       " 'list.ToArray()',\n",
       " '.evenCulomn .oddCulom\\\\n{\\\\n    float: left;\\\\n    width: 200px;\\\\n}',\n",
       " '\\\\{\\\\n([0-z\\\\[\\\\]\" ,-\\\\.=]+;\\\\n)+\\\\}',\n",
       " 'Request.Form(\"Name\") != null',\n",
       " 'DropDownList.Items.Add(strArr(count) & \",\" & strArr1(count))',\n",
       " 'config.SetEntitySetAccessRule(\"*\", EntitySetRights.AllRead);',\n",
       " 'sizeof(T)',\n",
       " 'HtmlDocument.OptionWriteEmptyNodes = true;',\n",
       " '[assembly: AssemblyVersion(\"1.0.*\")]',\n",
       " 'chartArea.AxisX.LabelStyle.ForeColor = ColorTranslator.FromHtml(\"#517985\");',\n",
       " 'static Random random = new Random();',\n",
       " 'AddHandler entity.SendingRequest, AddressOf DOLDataUtil.service_SendingRequest',\n",
       " 'cb.Appearance = Appearance.Button;',\n",
       " 'ServiceLocator.Current.GetInstance<MyServie>();',\n",
       " 'ViewContext.IsChildAction',\n",
       " 'URI currentURI = ((App)Application.Current).RootFrame.CurrentSource;',\n",
       " 'both = Math.Round(num1, 2) * 10000 + Math.Round(num2, 2);',\n",
       " 'int v=0',\n",
       " 'Grid.SetRow(txtDescription, 1);',\n",
       " 'recurring background tasks in ASP.NET',\n",
       " 'for(int i=0; i<5; ++i)\\\\n{\\\\n  listBox3.Items.Add(Url[i]);\\\\n}',\n",
       " 'AppDomain.CurrentDomain.SetThreadPrincipal(authentication);',\n",
       " 'bool isClicked(float x, float y)',\n",
       " 'Control.Anchor',\n",
       " 'ObservableCollection<string>_myUpdateList = new ObservableCollection<string>();',\n",
       " 'people.Single(x => x.RoleTypes.ContainsKey(\"CEO\"));',\n",
       " 'fullpath = fullpath.Replace(@\"\\\\\\\\\", @\"\\\\\");',\n",
       " '.Skip(1).First().Attribute....',\n",
       " 'DateTime.Now.Date',\n",
       " 'Response.AddHeader(\"Content-Type\", \"application/msword\");',\n",
       " 'out PlayerIndex playerIndex',\n",
       " 'other.enabled = false;',\n",
       " 'BeginEdit()',\n",
       " 'IL_000A:  call        System.Math.Round\\\\nIL_000F:  pop',\n",
       " 'var numbers = Enumerable.Range(0, n).Select(i => i * 3 + 9);',\n",
       " 'process.WaitForExit();',\n",
       " 'Type.GetType(\"System.Collections.Generic.IEnumerable`1[System.String]\");',\n",
       " 'Regex myRegex = new Regex(@\"^\\\\d$\");',\n",
       " 'CopyToBuffer()',\n",
       " 'WindowStartupLocation = System.Windows.WindowStartupLocation.CenterScreen;',\n",
       " 'var allCars = allVehicles.Cast<Car>();',\n",
       " 'str1 = Regex.Replace(str1, @\"\\\\<tag.*?\\\\>\", \"<tag>\");',\n",
       " 'ReminderIsSetSpecified = true;\\\\nReminderIsSet = false;',\n",
       " 'writer.WriteLine(\"0\");\\\\nwriter.Flush();\\\\nreturn reader.ReadLine();',\n",
       " 'InitializeComponent()',\n",
       " 'let mutable someStruct = CallSomething()\\\\nsomeStruct.Field1 <- 42\\\\n// etc.',\n",
       " 'HorizontalContentAlignment=\"Right\"',\n",
       " 'BeforeSaveEntity is called once for each entity before it is saved.',\n",
       " 'HtmlTable tbl = new HtmlTable();\\\\ntbl.Attributes.Add(\"class\",\"ClassName\");',\n",
       " 'SET IDENTITY_INSERT ON',\n",
       " 'success: function (result) { alert(result.FirstName);}',\n",
       " 'webClient.CancelAsync();',\n",
       " 'Class Library',\n",
       " 'ICollection<T>',\n",
       " '[assembly: NeutralResourcesLanguage(\"en\")]',\n",
       " 'return CallNextHookEx(Hook, Code, wParam, ref lParam);',\n",
       " 'textBox1.Text = String.Join(\",\", buf);',\n",
       " 'var names = Assembly.GetExecutingAssembly().GetReferencedAssemblies();',\n",
       " 'GridView1.DataBind();',\n",
       " 'params object[] args',\n",
       " 'var res = \"01\" + abc.Substring(2);',\n",
       " 'distributionGrid.Rows[0].Cells[0].Value = firstName;',\n",
       " 'FrameworkElement.BringIntoView',\n",
       " 'var ticks = new TimeSpan(hours, minutes, 0).Ticks;',\n",
       " 'query.SetAnsiString(\"text\", \"%\" + filter.Text.Replace(\"[\", \"[[]\") + \"%\");',\n",
       " 'getDateFromFormat()',\n",
       " 'System.Data.OracleClient',\n",
       " 'listpicker.SelectedItems = List<your selected items>;',\n",
       " 'for(int i = 0; i < 0xFFFF; i++)\\\\n{\\\\n    // do work\\\\n}',\n",
       " 'WriteToBinaryFile(file, dict, false)',\n",
       " 'var blob = JsonConvert.DeserializeObject<BlobUploadModel>(responseBody);',\n",
       " 'dataExportExcel.HeaderStyle.Font.Bold=true;',\n",
       " '(?<!r)-',\n",
       " 'int myVal = Int32.Parse(GridViewRow.Cells[i].Text);',\n",
       " 'powerShell.Streams.Error',\n",
       " 'string formatDB =\"YYYY/MM/dd\";\\\\nDateTime.Now.ToString(formatDB);',\n",
       " 'TextBox ControlId = (TextBox) FindControl(\"ControlId\")',\n",
       " '[A-Za-z]{1,3}[1-9]\\\\d*',\n",
       " 'myControl.GetBindingExpression(ControlType.ControlProperty).UpdateSource();',\n",
       " 'private dynamic obj;',\n",
       " 'var totalValue = lstParts.Sum(x => x.PartStockAvailable * x.mPartPrice);',\n",
       " 'this.Dock = DockStyle.Fill;',\n",
       " 'string target=\"_Blank\";',\n",
       " 'MyFunction(new List<float> { 3.0f, 4.0f });',\n",
       " 'src/solver.py',\n",
       " 'Application.Current.Resources[ \"MyColour\" ] as SolidColorBrush',\n",
       " 'string s2 = @\"This is \\\\t a \"\"verbatim\"\" string\";',\n",
       " 'this.comboBoxType.DropDownStyle = ComboBoxStyle.DropDownList;',\n",
       " 'File.WriteAllBytes(@\"C:\\\\temp\\\\myfile.docx\", res);',\n",
       " 'var joined = array1.Zip(array2, (first, second) => first + \" \" + second);',\n",
       " 'check()',\n",
       " '\"^[a-zA-Z0-9]+$\"',\n",
       " 'Content-Disposition',\n",
       " 'var query = db.Inventory.Where(x => states.Contains(x.IdState));',\n",
       " 'window.print();',\n",
       " 'Task t = Task.Run(() => ProcessMessage(message));',\n",
       " 'devenv /installvstemplates',\n",
       " 'DATEDIFF(DAY, date1, date2) = 0',\n",
       " 'myDynamicButton.Style = (Style)myWindow.FindResource(\"myButtonStyle\");',\n",
       " 'DTE.ExecuteCommand(\"Project.RunCustomTool\")',\n",
       " 'JwtSecurityTokenHandler.InboundClaimTypeMap = ClaimMappings.None;',\n",
       " 'string text = textFromDatabase.Replace(Environment.NewLine, \"<br />\");',\n",
       " 'Session.AddItem',\n",
       " '[JsonProperty(PropertyName = \"err-code\")]',\n",
       " 'IAutomappingOverride<Application>',\n",
       " 'StreamReader.ReadLine',\n",
       " 'Process.Start(filePath)',\n",
       " 'List<Ball>',\n",
       " 'DoWork()',\n",
       " 'if (Control.ModifierKeys == Keys.Shift ) { \\\\n  ...\\\\n}',\n",
       " 'ServicePointManager.FindServicePoint(Uri)',\n",
       " 'notifyIcon.Icon = new Icon(this.GetType(), \"red.ico\");',\n",
       " 'ReportDataSource source = new ReportDataSource(\"DataTable1\", dt);',\n",
       " 'xml.Elements().ToList().ForEach(ele => DoSomething(ele));',\n",
       " 'copy if newer',\n",
       " 'return Enumerable.Repeat(1, 24).ToArray();',\n",
       " 'System.Net.Http',\n",
       " 'vsoButtonX1.Tag = \"1\";\\\\nvsoButtonX2.Tag = \"2\";',\n",
       " 'string sZip = zip.ToString();\\\\nsZip = sZip + \"-1234\";',\n",
       " 'textBlock.Foreground = new SolidColorBrush(Colors.White);',\n",
       " 'Response.Redirect(string.Format(\"ResponseMetric.aspx?MsgID={0}\", msgid));',\n",
       " 'navigationResult.Context.Parameters[\"Count\"];',\n",
       " 'myObject.Where(o => words.Any(o.SearchString.Contains))',\n",
       " 'TrustedRootCertificateInstaller.cs',\n",
       " 'Process.Start',\n",
       " 'SaltWater = x.Descendants(\"SaltWater\").First().Value',\n",
       " 'public void master_Page_PreLoad(object sender, EventArgs e)',\n",
       " 'Google Document Viewer',\n",
       " 'string str = \"Hello Marco !\";\\\\n        str = str.Substring(0, str.Length - 2);',\n",
       " 'File.SetCreationTime(fileName, fileDateTime);',\n",
       " 'CommandParameter=\"{Binding ElementName=timePicker, Path=DataContext.ValidTime}\"',\n",
       " 'int i = 0;\\\\n\\\\nwhile (target_range.Offset(i, 0).Value != \"\")\\\\n{\\\\n    i++;\\\\n}',\n",
       " 'Program.AnimalInfo.Info_ID_ListBox.Items.Clear();\\\\n_dataTable.Clear();',\n",
       " '2013-06-19',\n",
       " 'client.DefaultRequestHeaders.IfModifiedSince',\n",
       " 'pdfTable.SplitLate = false;',\n",
       " 'chrome.exe --proxy-server=127.0.0.1:8888',\n",
       " 'OrderNumbers = string.Join(\"\", r.Processes.Select(p=>p.OrderNumber)),',\n",
       " 'bool isNumeric = Regex.IsMatch(getucoid, @\"^\\\\d+$\");',\n",
       " 'BrowserInteropHelper.HostScript',\n",
       " 'Session.Contents.Abandon();',\n",
       " 'Visible = false',\n",
       " 'repeater.ItemCreated += new ItemCreatedEventHandler()',\n",
       " 'int[] combinedWithoutDups = oldItemarry1.Union(newItemarry1).ToArray();',\n",
       " '\"s/\\\\/\\\\\\\\/g\"',\n",
       " 'return MyArray.Where(r => r.CanDrive).Sum(r => r.Trips);',\n",
       " 'XmlSchemaComplexType.IsAbstract',\n",
       " 'button.HorizontalContentAlignment = System.Windows.HorizontalAlignment.Stretch;',\n",
       " 'Pooling=false',\n",
       " 'Debug / Exceptions ...',\n",
       " 'Can Grow',\n",
       " 'System.Windows.Forms.WebBrowser',\n",
       " 'node.Attributes[\"id\"].Value',\n",
       " 'comboResult.SelectedValue = m_defaultResult;',\n",
       " 'key1=value1,key2=two|values',\n",
       " 'contextButton.Style=MsoButtonStyle.msoButtonIconAndCaption',\n",
       " 'int RandomTolerance=random.Next(0,2)<1?5:10;',\n",
       " 'System.Numerics.BigInteger',\n",
       " 'FULLNAMEA\\\\nFULLNAMEB\\\\nFULLNAMEC\\\\n...',\n",
       " 'myString.PadRight(totalLength, charToInsert)',\n",
       " 'where T : class',\n",
       " 'AssetDatabase.GetAssetPath (Selection.activeObject)',\n",
       " 'store.Changes().ForIndex(\"YourIndex\").Subscribe(DoSomething);',\n",
       " 'this.ActiveControl = null;',\n",
       " 'MainGMap.ShowCenter = false;',\n",
       " 'Thread.Sleep(1)',\n",
       " 'max(id)',\n",
       " 'int x;\\\\nif (int.TryParse(str, out x) && x > 0)',\n",
       " 'res = Regex.Replace(s, @\"(?<=\\\\b\\\\w)\\\\s(?=\\\\w\\\\b)\", \"\");',\n",
       " \"if (e.KeyChar < '0' || e.KeyChar > '9')\\\\n{\\\\n     e.Handled = true;\\\\n}\",\n",
       " 'Logger.Instance.Error()',\n",
       " 'dataSource.StateList.Where(s => countryCodes.Contains(s.CountryCode))',\n",
       " 'List<string> keyList = new List<string>(this.yourDictionary.Keys);',\n",
       " 'try/catch',\n",
       " 'aspnet_regsql.exe',\n",
       " '.Where(x => !listProducts.Contains(x.Product))',\n",
       " 'Chart.ChartArea[i].AlignWithChartArea',\n",
       " 'var today = DateTime.Today.AddHours(16);',\n",
       " 'Dispatcher.Invoke(new Action(() => { Button_Start.Content = i.ToString(); }));',\n",
       " 'var item = list[index];',\n",
       " '[DllImport(\"libc.so.6\")]',\n",
       " 'System.Data',\n",
       " 'PublisherInfo pi = myServiceClient.GetPublisherInfo();',\n",
       " 'SET FMTONLY ON;\\\\nSELECT * FROM SomeTable\\\\nSET FMTONLY OFF;',\n",
       " 'HKCR\\\\txtfile\\\\shell\\\\open\\\\command',\n",
       " 'Interlocked.Increment()',\n",
       " '(?:(?:kl(?:\\\\.)?|at)?([0-1][0-9]|2[0-3]):[0-5][0-9](:[0-5][0-9])?)',\n",
       " 'string str = Request.QueryString.ToString();',\n",
       " '[ValidationProperty(\"Text\")]\\\\n   public class cusTextBox:TextBox',\n",
       " 'YourGridView.Columns[0].Visible = false;',\n",
       " 'using(var reader = new StringReader(dataSet.GetXml()))\\\\n{\\\\n   .....\\\\n}',\n",
       " ...]"
      ]
     },
     "execution_count": 10,
     "metadata": {},
     "output_type": "execute_result"
    }
   ],
   "source": [
    "train"
   ]
  },
  {
   "cell_type": "code",
   "execution_count": 11,
   "metadata": {
    "pycharm": {
     "name": "#%%\n"
    }
   },
   "outputs": [],
   "source": [
    "import sys\n",
    "sys.path.append(\"../../src\")\n",
    "from text_data_utils import *\n",
    "from os import path\n",
    "import gensim"
   ]
  },
  {
   "cell_type": "code",
   "execution_count": 12,
   "metadata": {
    "pycharm": {
     "name": "#%%\n"
    }
   },
   "outputs": [],
   "source": [
    "train_tok = tokenize_texts(train)"
   ]
  },
  {
   "cell_type": "code",
   "execution_count": 13,
   "metadata": {
    "pycharm": {
     "name": "#%%\n"
    }
   },
   "outputs": [],
   "source": [
    "wv = gensim.models.Word2Vec(train_tok).wv"
   ]
  },
  {
   "cell_type": "code",
   "execution_count": 14,
   "metadata": {
    "pycharm": {
     "name": "#%%\n"
    }
   },
   "outputs": [],
   "source": [
    "max_len = max(len(text) for text in train_tok)"
   ]
  },
  {
   "cell_type": "code",
   "execution_count": 15,
   "metadata": {
    "pycharm": {
     "name": "#%%\n"
    }
   },
   "outputs": [],
   "source": [
    "train_tensor = tokenized_texts_to_tensor(train_tok, wv, max_len)"
   ]
  },
  {
   "cell_type": "code",
   "execution_count": 16,
   "metadata": {
    "pycharm": {
     "name": "#%%\n"
    }
   },
   "outputs": [
    {
     "data": {
      "text/plain": [
       "array([-0.29127407, -0.02719963, -0.09701791, -0.01904868,  0.37199003,\n",
       "        0.03572746,  0.10522439, -0.07227133, -0.07921956, -0.13675906,\n",
       "       -0.02102582,  0.07994274,  0.171011  , -0.55666226, -0.06683917,\n",
       "        0.20384969,  0.06493412, -0.40339389,  0.01753006, -0.35861248,\n",
       "       -0.36469406, -0.09782506, -0.10046019,  0.44919062,  0.10548551,\n",
       "       -0.22300653,  0.25525886,  0.47236371,  0.63321942, -0.0090921 ,\n",
       "       -0.03166737, -0.13198887, -0.33233994, -0.19006875,  0.44807568,\n",
       "       -0.34372023,  0.21132791,  0.11006206,  0.05137694, -0.42234969,\n",
       "        0.05995608,  0.37893799,  0.18727832,  0.09161738,  0.23722912,\n",
       "       -0.12036612, -0.26097977, -0.55280417, -0.19025552, -0.22830197,\n",
       "       -0.13825363, -0.10609785,  0.04180995,  0.25652802,  0.20715816,\n",
       "        0.04503926, -0.34815392,  0.13494204, -0.4226158 , -0.71093291,\n",
       "       -0.06344077, -0.51190168, -0.34197372,  0.12502722,  0.2006547 ,\n",
       "       -0.45547286, -0.63496774, -0.62932605,  0.61704397,  0.20916104,\n",
       "       -0.23889907, -0.773193  ,  0.44285029,  0.54427099, -0.10945073,\n",
       "       -0.14962468,  0.38768336, -0.0375504 , -0.21697551, -0.35506174,\n",
       "       -0.14000258, -0.35829991, -0.15477289, -0.42882717,  0.22571361,\n",
       "        0.06592689,  0.06009069,  0.02954386,  0.2207848 ,  0.18661921,\n",
       "       -0.08311122, -0.08438617, -0.21447514,  0.52353436, -0.03958503,\n",
       "       -0.25243276,  0.32162875, -0.3717443 ,  0.34611315, -0.1813294 ])"
      ]
     },
     "execution_count": 16,
     "metadata": {},
     "output_type": "execute_result"
    }
   ],
   "source": [
    "train_tensor[0, 0]"
   ]
  },
  {
   "cell_type": "code",
   "execution_count": 17,
   "metadata": {
    "pycharm": {
     "name": "#%%\n"
    }
   },
   "outputs": [],
   "source": [
    "train_tensor_fl = np.reshape(train_tensor, (train_tensor.shape[0], train_tensor.shape[1] * train_tensor.shape[2]))"
   ]
  },
  {
   "cell_type": "code",
   "execution_count": 18,
   "metadata": {
    "pycharm": {
     "name": "#%%\n"
    }
   },
   "outputs": [
    {
     "data": {
      "text/plain": [
       "(12921, 74, 100)"
      ]
     },
     "execution_count": 18,
     "metadata": {},
     "output_type": "execute_result"
    }
   ],
   "source": [
    "train_tensor.shape"
   ]
  },
  {
   "cell_type": "code",
   "execution_count": 19,
   "metadata": {
    "pycharm": {
     "name": "#%%\n"
    }
   },
   "outputs": [
    {
     "data": {
      "text/plain": [
       "(12921, 7400)"
      ]
     },
     "execution_count": 19,
     "metadata": {},
     "output_type": "execute_result"
    }
   ],
   "source": [
    "train_tensor_fl.shape"
   ]
  },
  {
   "cell_type": "code",
   "execution_count": 20,
   "metadata": {
    "pycharm": {
     "name": "#%%\n"
    }
   },
   "outputs": [],
   "source": [
    "val_file_contents = open('../../data/iyer/valid.txt').readlines()\n",
    "val = []\n",
    "for line in val_file_contents:\n",
    "    items = line.split('\\t')\n",
    "    if len(items) == 5:\n",
    "        sample = line.split('\\t')[3]\n",
    "        if len(sample) <= max_len:\n",
    "            val.append(sample)\n",
    "val_tok = tokenize_texts(val)\n",
    "val_tensor = tokenized_texts_to_tensor(val_tok, wv, max_len)\n",
    "val_tensor_fl = np.reshape(val_tensor, (val_tensor.shape[0], val_tensor.shape[1] * val_tensor.shape[2]))"
   ]
  },
  {
   "cell_type": "code",
   "execution_count": 21,
   "metadata": {
    "pycharm": {
     "name": "#%%\n"
    }
   },
   "outputs": [],
   "source": [
    "from mlp_vae import MLPVariationalAutoEncoder"
   ]
  },
  {
   "cell_type": "code",
   "execution_count": 22,
   "metadata": {
    "pycharm": {
     "name": "#%%\n"
    }
   },
   "outputs": [],
   "source": [
    "latent_dim = 256"
   ]
  },
  {
   "cell_type": "code",
   "execution_count": 23,
   "metadata": {
    "pycharm": {
     "name": "#%%\n"
    }
   },
   "outputs": [
    {
     "name": "stdout",
     "output_type": "stream",
     "text": [
      "Train on 12921 samples, validate on 1573 samples\n",
      "Epoch 1/25\n",
      "12921/12921 [==============================] - 5s 400us/sample - loss: 0.1569 - val_loss: 0.0319\n",
      "Epoch 2/25\n",
      "12921/12921 [==============================] - 3s 270us/sample - loss: 0.0288 - val_loss: 0.0266\n",
      "Epoch 3/25\n",
      "12921/12921 [==============================] - 3s 270us/sample - loss: 0.0249 - val_loss: 0.0236\n",
      "Epoch 4/25\n",
      "12921/12921 [==============================] - 3s 270us/sample - loss: 0.0240 - val_loss: 0.0216\n",
      "Epoch 5/25\n",
      "12921/12921 [==============================] - 4s 272us/sample - loss: 0.0216 - val_loss: 0.0201\n",
      "Epoch 6/25\n",
      "12921/12921 [==============================] - 3s 271us/sample - loss: 0.0203 - val_loss: 0.0195\n",
      "Epoch 7/25\n",
      "12921/12921 [==============================] - 3s 270us/sample - loss: 0.0187 - val_loss: 0.0233\n",
      "Epoch 8/25\n",
      "12921/12921 [==============================] - 3s 269us/sample - loss: 0.0195 - val_loss: 0.0191\n",
      "Epoch 9/25\n",
      "12921/12921 [==============================] - 3s 269us/sample - loss: 0.0169 - val_loss: 0.0164\n",
      "Epoch 10/25\n",
      "12921/12921 [==============================] - 3s 268us/sample - loss: 0.0170 - val_loss: 0.0150\n",
      "Epoch 11/25\n",
      "12921/12921 [==============================] - 3s 271us/sample - loss: 0.0171 - val_loss: 0.0205\n",
      "Epoch 12/25\n",
      "12921/12921 [==============================] - 3s 269us/sample - loss: 0.0168 - val_loss: 0.0150\n",
      "Epoch 13/25\n",
      "12921/12921 [==============================] - 4s 271us/sample - loss: 0.0141 - val_loss: 0.0158\n",
      "Epoch 14/25\n",
      "12921/12921 [==============================] - 3s 271us/sample - loss: 0.0145 - val_loss: 0.0138\n",
      "Epoch 15/25\n",
      "12921/12921 [==============================] - 3s 269us/sample - loss: 0.0142 - val_loss: 0.0155\n",
      "Epoch 16/25\n",
      "12921/12921 [==============================] - 3s 269us/sample - loss: 0.0136 - val_loss: 0.0147\n",
      "Epoch 17/25\n",
      "12921/12921 [==============================] - 3s 267us/sample - loss: 0.0131 - val_loss: 0.0137\n",
      "Epoch 18/25\n",
      "12921/12921 [==============================] - 3s 268us/sample - loss: 0.0135 - val_loss: 0.0127\n",
      "Epoch 19/25\n",
      "12921/12921 [==============================] - 3s 269us/sample - loss: 0.0133 - val_loss: 0.0128\n",
      "Epoch 20/25\n",
      "12921/12921 [==============================] - 3s 267us/sample - loss: 0.0125 - val_loss: 0.0143\n",
      "Epoch 21/25\n",
      "12921/12921 [==============================] - 3s 269us/sample - loss: 0.0129 - val_loss: 0.0136\n",
      "Epoch 22/25\n",
      "12921/12921 [==============================] - 4s 273us/sample - loss: 0.0120 - val_loss: 0.0139\n",
      "Epoch 23/25\n",
      "12921/12921 [==============================] - 4s 272us/sample - loss: 0.0119 - val_loss: 0.0154\n",
      "Epoch 24/25\n",
      "12921/12921 [==============================] - 3s 270us/sample - loss: 0.0120 - val_loss: 0.0130\n",
      "Epoch 25/25\n",
      "12921/12921 [==============================] - 4s 272us/sample - loss: 0.0115 - val_loss: 0.0121\n"
     ]
    }
   ],
   "source": [
    "model = MLPVariationalAutoEncoder(train_tensor_fl.shape[1], latent_dim, [2048, 1024], final_activation='linear')\n",
    "model.compile(optimizer='adam', loss='mean_squared_error')\n",
    "history = model.fit(train_tensor_fl, train_tensor_fl, batch_size=512, epochs=25, verbose=1, shuffle=True,\n",
    "                    validation_data=(val_tensor_fl, val_tensor_fl))"
   ]
  },
  {
   "cell_type": "code",
   "execution_count": 24,
   "metadata": {
    "pycharm": {
     "name": "#%%\n"
    }
   },
   "outputs": [],
   "source": [
    "import random"
   ]
  },
  {
   "cell_type": "code",
   "execution_count": 25,
   "metadata": {
    "pycharm": {
     "name": "#%%\n"
    }
   },
   "outputs": [],
   "source": [
    "random.seed()\n",
    "random_idx = random.randrange(train_tensor.shape[0])"
   ]
  },
  {
   "cell_type": "code",
   "execution_count": 26,
   "metadata": {
    "pycharm": {
     "name": "#%%\n"
    }
   },
   "outputs": [
    {
     "name": "stdout",
     "output_type": "stream",
     "text": [
      "(Training Set) Input:  ['<s>', '<UNK>', '=', 'true', '</s>']\n"
     ]
    }
   ],
   "source": [
    "print(\"(Training Set) Input: \", tensor_to_tokenized_texts(np.array([train_tensor[random_idx]]), wv)[0])"
   ]
  },
  {
   "cell_type": "code",
   "execution_count": 27,
   "metadata": {
    "pycharm": {
     "name": "#%%\n"
    }
   },
   "outputs": [],
   "source": [
    "rec = np.reshape(model.predict(np.array([train_tensor_fl[random_idx]])), (1, train_tensor.shape[1], train_tensor.shape[2]))"
   ]
  },
  {
   "cell_type": "code",
   "execution_count": 28,
   "metadata": {
    "pycharm": {
     "name": "#%%\n"
    }
   },
   "outputs": [
    {
     "name": "stdout",
     "output_type": "stream",
     "text": [
      "(Training Set) Reconstructed:  ['<s>', '00', '(', ')', '</s>']\n"
     ]
    }
   ],
   "source": [
    "print(\"(Training Set) Reconstructed: \", tensor_to_tokenized_texts(rec, wv)[0])"
   ]
  },
  {
   "cell_type": "code",
   "execution_count": 29,
   "metadata": {
    "pycharm": {
     "name": "#%%\n"
    }
   },
   "outputs": [
    {
     "data": {
      "text/plain": [
       "[(')', 0.945659875869751),\n",
       " ('Amount', 0.9214717149734497),\n",
       " ('TypeName', 0.9140221476554871),\n",
       " ('ToCharArray', 0.9114137887954712),\n",
       " ('Last', 0.9075021743774414),\n",
       " ('GetLength', 0.9072589874267578),\n",
       " ('Length', 0.9068576693534851),\n",
       " ('Name', 0.9003871083259583),\n",
       " ('000', 0.8972765803337097),\n",
       " ('rotation', 0.8948014378547668)]"
      ]
     },
     "execution_count": 29,
     "metadata": {},
     "output_type": "execute_result"
    }
   ],
   "source": [
    "wv.similar_by_vector(rec[0, 3])"
   ]
  },
  {
   "cell_type": "code",
   "execution_count": 30,
   "metadata": {
    "pycharm": {
     "name": "#%%\n"
    }
   },
   "outputs": [],
   "source": [
    "test_file_contents = open('../../data/iyer/test.txt').readlines()\n",
    "test = []\n",
    "for line in test_file_contents:\n",
    "    items = line.split('\\t')\n",
    "    if len(items) == 5:\n",
    "        sample = line.split('\\t')[3]\n",
    "        if len(sample) < max_len:\n",
    "            test.append(sample)\n",
    "test_tok = tokenize_texts(test)\n",
    "test_tensor = tokenized_texts_to_tensor(test_tok, wv, max_len)\n",
    "test_tensor_fl = np.reshape(test_tensor, (test_tensor.shape[0], test_tensor.shape[1] * test_tensor.shape[2]))"
   ]
  },
  {
   "cell_type": "code",
   "execution_count": 31,
   "metadata": {
    "pycharm": {
     "name": "#%%\n"
    }
   },
   "outputs": [
    {
     "data": {
      "text/plain": [
       "0.039439421686493815"
      ]
     },
     "execution_count": 31,
     "metadata": {},
     "output_type": "execute_result"
    }
   ],
   "source": [
    "model.evaluate(test_tensor_fl, test_tensor_fl, verbose=0)"
   ]
  },
  {
   "cell_type": "code",
   "execution_count": 32,
   "metadata": {
    "pycharm": {
     "name": "#%%\n"
    }
   },
   "outputs": [],
   "source": [
    "random.seed()\n",
    "random_idx = random.randrange(test_tensor.shape[0])"
   ]
  },
  {
   "cell_type": "code",
   "execution_count": 33,
   "metadata": {
    "pycharm": {
     "name": "#%%\n"
    }
   },
   "outputs": [
    {
     "name": "stdout",
     "output_type": "stream",
     "text": [
      "(Test Set) Input:  ['<s>', '<UNK>', '.', '<UNK>', '=', '<UNK>', '.', '<UNK>', ';', '</s>']\n"
     ]
    }
   ],
   "source": [
    "print(\"(Test Set) Input: \", tensor_to_tokenized_texts(np.array([test_tensor[random_idx]]), wv)[0])"
   ]
  },
  {
   "cell_type": "code",
   "execution_count": 34,
   "metadata": {
    "pycharm": {
     "name": "#%%\n"
    }
   },
   "outputs": [
    {
     "name": "stdout",
     "output_type": "stream",
     "text": [
      "(Test Set) Reconstructed:  ['<s>', '<UNK>', '.', 'public', '=', 'UTF8', '.', 'Application', ';', '</s>']\n"
     ]
    }
   ],
   "source": [
    "print(\"(Test Set) Reconstructed: \", tensor_to_tokenized_texts(np.reshape(model.predict(np.array([test_tensor_fl[random_idx]])), (1, test_tensor.shape[1], test_tensor.shape[2])), wv)[0])"
   ]
  },
  {
   "cell_type": "code",
   "execution_count": null,
   "metadata": {
    "pycharm": {
     "name": "#%%\n"
    }
   },
   "outputs": [],
   "source": []
  }
 ],
 "metadata": {
  "kernelspec": {
   "display_name": "Python 3",
   "language": "python",
   "name": "python3"
  },
  "language_info": {
   "codemirror_mode": {
    "name": "ipython",
    "version": 3
   },
   "file_extension": ".py",
   "mimetype": "text/x-python",
   "name": "python",
   "nbconvert_exporter": "python",
   "pygments_lexer": "ipython3",
   "version": "3.7.6"
  },
  "pycharm": {
   "stem_cell": {
    "cell_type": "raw",
    "metadata": {
     "collapsed": false
    },
    "source": []
   }
  }
 },
 "nbformat": 4,
 "nbformat_minor": 1
}
